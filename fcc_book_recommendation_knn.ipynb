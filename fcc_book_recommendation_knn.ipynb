{
  "cells": [
    {
      "cell_type": "markdown",
      "metadata": {
        "id": "view-in-github",
        "colab_type": "text"
      },
      "source": [
        "<a href=\"https://colab.research.google.com/github/fabriciocgf/fcc_machine_learning/blob/main/fcc_book_recommendation_knn.ipynb\" target=\"_parent\"><img src=\"https://colab.research.google.com/assets/colab-badge.svg\" alt=\"Open In Colab\"/></a>"
      ]
    },
    {
      "cell_type": "markdown",
      "metadata": {
        "id": "uGd4NYQX1Rf_"
      },
      "source": [
        "*Note: You are currently reading this using Google Colaboratory which is a cloud-hosted version of Jupyter Notebook. This is a document containing both text cells for documentation and runnable code cells. If you are unfamiliar with Jupyter Notebook, watch this 3-minute introduction before starting this challenge: https://www.youtube.com/watch?v=inN8seMm7UI*\n",
        "\n",
        "---\n",
        "\n",
        "In this challenge, you will create a book recommendation algorithm using **K-Nearest Neighbors**.\n",
        "\n",
        "You will use the [Book-Crossings dataset](http://www2.informatik.uni-freiburg.de/~cziegler/BX/). This dataset contains 1.1 million ratings (scale of 1-10) of 270,000 books by 90,000 users. \n",
        "\n",
        "After importing and cleaning the data, use `NearestNeighbors` from `sklearn.neighbors` to develop a model that shows books that are similar to a given book. The Nearest Neighbors algorithm measures distance to determine the “closeness” of instances.\n",
        "\n",
        "Create a function named `get_recommends` that takes a book title (from the dataset) as an argument and returns a list of 5 similar books with their distances from the book argument.\n",
        "\n",
        "This code:\n",
        "\n",
        "`get_recommends(\"The Queen of the Damned (Vampire Chronicles (Paperback))\")`\n",
        "\n",
        "should return:\n",
        "\n",
        "```\n",
        "[\n",
        "  'The Queen of the Damned (Vampire Chronicles (Paperback))',\n",
        "  [\n",
        "    ['Catch 22', 0.793983519077301], \n",
        "    ['The Witching Hour (Lives of the Mayfair Witches)', 0.7448656558990479], \n",
        "    ['Interview with the Vampire', 0.7345068454742432],\n",
        "    ['The Tale of the Body Thief (Vampire Chronicles (Paperback))', 0.5376338362693787],\n",
        "    ['The Vampire Lestat (Vampire Chronicles, Book II)', 0.5178412199020386]\n",
        "  ]\n",
        "]\n",
        "```\n",
        "\n",
        "Notice that the data returned from `get_recommends()` is a list. The first element in the list is the book title passed in to the function. The second element in the list is a list of five more lists. Each of the five lists contains a recommended book and the distance from the recommended book to the book passed in to the function.\n",
        "\n",
        "If you graph the dataset (optional), you will notice that most books are not rated frequently. To ensure statistical significance, remove from the dataset users with less than 200 ratings and books with less than 100 ratings.\n",
        "\n",
        "The first three cells import libraries you may need and the data to use. The final cell is for testing. Write all your code in between those cells."
      ]
    },
    {
      "cell_type": "code",
      "execution_count": null,
      "metadata": {
        "id": "Y1onB6kUvo4Z"
      },
      "outputs": [],
      "source": [
        "# import libraries (you may add additional imports but you may not have to)\n",
        "import numpy as np\n",
        "import pandas as pd\n",
        "from scipy.sparse import csr_matrix\n",
        "from sklearn.neighbors import NearestNeighbors\n",
        "import matplotlib.pyplot as plt"
      ]
    },
    {
      "cell_type": "code",
      "execution_count": null,
      "metadata": {
        "id": "iAQGqqO_vo4d",
        "colab": {
          "base_uri": "https://localhost:8080/"
        },
        "outputId": "107a5126-e033-4b31-960f-a64aff71a32a"
      },
      "outputs": [
        {
          "output_type": "stream",
          "name": "stdout",
          "text": [
            "--2022-01-28 13:34:31--  https://cdn.freecodecamp.org/project-data/books/book-crossings.zip\n",
            "Resolving cdn.freecodecamp.org (cdn.freecodecamp.org)... 104.26.3.33, 172.67.70.149, 104.26.2.33, ...\n",
            "Connecting to cdn.freecodecamp.org (cdn.freecodecamp.org)|104.26.3.33|:443... connected.\n",
            "HTTP request sent, awaiting response... 200 OK\n",
            "Length: 26085508 (25M) [application/zip]\n",
            "Saving to: ‘book-crossings.zip’\n",
            "\n",
            "book-crossings.zip  100%[===================>]  24.88M  39.2MB/s    in 0.6s    \n",
            "\n",
            "2022-01-28 13:34:32 (39.2 MB/s) - ‘book-crossings.zip’ saved [26085508/26085508]\n",
            "\n",
            "Archive:  book-crossings.zip\n",
            "  inflating: BX-Book-Ratings.csv     \n",
            "  inflating: BX-Books.csv            \n",
            "  inflating: BX-Users.csv            \n"
          ]
        }
      ],
      "source": [
        "# get data files\n",
        "!wget https://cdn.freecodecamp.org/project-data/books/book-crossings.zip\n",
        "\n",
        "!unzip book-crossings.zip\n",
        "\n",
        "books_filename = 'BX-Books.csv'\n",
        "ratings_filename = 'BX-Book-Ratings.csv'"
      ]
    },
    {
      "cell_type": "code",
      "execution_count": null,
      "metadata": {
        "id": "NClILWOiEd6Q"
      },
      "outputs": [],
      "source": [
        "# import csv data into dataframes\n",
        "df_books = pd.read_csv(\n",
        "    books_filename,\n",
        "    encoding = \"ISO-8859-1\",\n",
        "    sep=\";\",\n",
        "    header=0,\n",
        "    names=['isbn', 'title', 'author'],\n",
        "    usecols=['isbn', 'title', 'author'],\n",
        "    dtype={'isbn': 'str', 'title': 'str', 'author': 'str'})\n",
        "\n",
        "df_ratings = pd.read_csv(\n",
        "    ratings_filename,\n",
        "    encoding = \"ISO-8859-1\",\n",
        "    sep=\";\",\n",
        "    header=0,\n",
        "    names=['user', 'isbn', 'rating'],\n",
        "    usecols=['user', 'isbn', 'rating'],\n",
        "    dtype={'user': 'int32', 'isbn': 'str', 'rating': 'float32'})"
      ]
    },
    {
      "cell_type": "code",
      "source": [
        "# filter data\n",
        "df_books_cnt = pd.DataFrame(df_ratings.groupby('isbn').size(), columns=['count'])\n",
        "popular_books = list(set(df_books_cnt.query('count >= 100').index))  # noqa\n",
        "books_filter = df_ratings.isbn.isin(popular_books).values\n",
        "\n",
        "df_users_cnt = pd.DataFrame(df_ratings.groupby('user').size(), columns=['count'])\n",
        "active_users = list(set(df_users_cnt.query('count >= 200').index))  # noqa\n",
        "users_filter = df_ratings.user.isin(active_users).values\n",
        "#df_ratings_filtered = df_ratings[users_filter]\n",
        "df_ratings_filtered = df_ratings[books_filter & users_filter]\n",
        "df_ratings_filtered.shape"
      ],
      "metadata": {
        "colab": {
          "base_uri": "https://localhost:8080/"
        },
        "id": "ssZbra9giyif",
        "outputId": "95e302b0-aa7b-4fca-c10f-a27ed7fae356"
      },
      "execution_count": null,
      "outputs": [
        {
          "output_type": "execute_result",
          "data": {
            "text/plain": [
              "(49781, 3)"
            ]
          },
          "metadata": {},
          "execution_count": 5
        }
      ]
    },
    {
      "cell_type": "code",
      "source": [
        "df_book_features = df_ratings_filtered.pivot(\n",
        "    index='isbn',\n",
        "    columns='user',\n",
        "    values='rating'\n",
        ").fillna(0)\n",
        "df_book_features.shape"
      ],
      "metadata": {
        "colab": {
          "base_uri": "https://localhost:8080/"
        },
        "id": "QsexfmV7n5W5",
        "outputId": "bb0ba50f-0d8c-4934-c6b6-5f6c57b05987"
      },
      "execution_count": null,
      "outputs": [
        {
          "output_type": "execute_result",
          "data": {
            "text/plain": [
              "(731, 888)"
            ]
          },
          "metadata": {},
          "execution_count": 6
        }
      ]
    },
    {
      "cell_type": "code",
      "source": [
        "from scipy.sparse import csr_matrix\n",
        "# convert dataframe of movie features to scipy sparse matrix\n",
        "mat_book_features = csr_matrix(df_book_features.values)"
      ],
      "metadata": {
        "id": "JYZAshBPoESH"
      },
      "execution_count": null,
      "outputs": []
    },
    {
      "cell_type": "code",
      "source": [
        "model = NearestNeighbors(metric='cosine', algorithm='brute', n_neighbors=20)"
      ],
      "metadata": {
        "id": "oTLies3qoial"
      },
      "execution_count": null,
      "outputs": []
    },
    {
      "cell_type": "code",
      "source": [
        "hashmap = df_books.set_index('isbn').filter(items = list(df_book_features.index), axis=0).to_dict()['title']\n",
        "hashmap1 = dict()\n",
        "for key, value in hashmap.items():\n",
        "  hashmap1.setdefault(value, list()).append(key)"
      ],
      "metadata": {
        "id": "HZGCTx5IArT9"
      },
      "execution_count": null,
      "outputs": []
    },
    {
      "cell_type": "code",
      "source": [
        "hashmap = df_books.set_index('isbn').filter(items = list(df_book_features.index), axis=0).to_dict()['title']\n",
        "hashmap1 = dict(map(reversed, hashmap.items()))\n",
        "hashmap2 = list(df_book_features.index)\n",
        "print(hashmap2.index(hashmap1[\"Where the Heart Is (Oprah's Book Club (Paperback))\"]))\n",
        "print(hashmap[hashmap2[435]])"
      ],
      "metadata": {
        "colab": {
          "base_uri": "https://localhost:8080/"
        },
        "id": "tkkZMHrVkmbF",
        "outputId": "126922d4-1d75-4b3d-cc50-b350fd783a95"
      },
      "execution_count": null,
      "outputs": [
        {
          "output_type": "stream",
          "name": "stdout",
          "text": [
            "435\n",
            "Where the Heart Is (Oprah's Book Club (Paperback))\n"
          ]
        }
      ]
    },
    {
      "cell_type": "code",
      "execution_count": null,
      "metadata": {
        "id": "f5ZUd-L1SQz7"
      },
      "outputs": [],
      "source": [
        "# function to return recommended books - this will be tested\n",
        "def get_recommends(book = \"\"):\n",
        "  model.fit(mat_book_features)\n",
        "  book_code = hashmap2.index(hashmap1[book])\n",
        "  recommendation = model.kneighbors(mat_book_features[book_code],n_neighbors=6)\n",
        "  list_books = []\n",
        "  for idx, book_index in enumerate(recommendation[1][0]):\n",
        "    test = [hashmap[hashmap2[book_index]], recommendation[0][0][idx]]\n",
        "    list_books.append(test)\n",
        "  recommended_books = book, list_books[2:]\n",
        "  return recommended_books"
      ]
    },
    {
      "cell_type": "markdown",
      "metadata": {
        "id": "eat9A2TKawHU"
      },
      "source": [
        "Use the cell below to test your function. The `test_book_recommendation()` function will inform you if you passed the challenge or need to keep trying."
      ]
    },
    {
      "cell_type": "code",
      "execution_count": null,
      "metadata": {
        "id": "jd2SLCh8oxMh",
        "colab": {
          "base_uri": "https://localhost:8080/"
        },
        "outputId": "3e100c81-419d-4f21-e1ab-79b487a2b985"
      },
      "outputs": [
        {
          "output_type": "stream",
          "name": "stdout",
          "text": [
            "(\"Where the Heart Is (Oprah's Book Club (Paperback))\", [['I Know This Much Is True', 0.7677075], ['The Surgeon', 0.7699411], ['The Weight of Water', 0.77085835], [\"I'll Be Seeing You\", 0.8016211]])\n",
            "You passed the challenge! 🎉🎉🎉🎉🎉\n"
          ]
        }
      ],
      "source": [
        "books = get_recommends(\"Where the Heart Is (Oprah's Book Club (Paperback))\")\n",
        "print(books)\n",
        "\n",
        "def test_book_recommendation():\n",
        "  test_pass = True\n",
        "  recommends = get_recommends(\"Where the Heart Is (Oprah's Book Club (Paperback))\")\n",
        "  if recommends[0] != \"Where the Heart Is (Oprah's Book Club (Paperback))\":\n",
        "    test_pass = False\n",
        "  recommended_books = [\"I'll Be Seeing You\", 'The Weight of Water', 'The Surgeon', 'I Know This Much Is True']\n",
        "  recommended_books_dist = [0.8, 0.77, 0.77, 0.77]\n",
        "  for i in range(2): \n",
        "    if recommends[1][i][0] not in recommended_books:\n",
        "      test_pass = False\n",
        "    if abs(recommends[1][i][1] - recommended_books_dist[i]) >= 0.05:\n",
        "      test_pass = False\n",
        "  if test_pass:\n",
        "    print(\"You passed the challenge! 🎉🎉🎉🎉🎉\")\n",
        "  else:\n",
        "    print(\"You haven't passed yet. Keep trying!\")\n",
        "\n",
        "test_book_recommendation()"
      ]
    },
    {
      "cell_type": "markdown",
      "source": [
        "## Implementing a fuzzy finder in our database of books"
      ],
      "metadata": {
        "id": "NP1CSE1U9hn7"
      }
    },
    {
      "cell_type": "code",
      "source": [
        "!pip install fuzzywuzzy\n",
        "from fuzzywuzzy import fuzz\n",
        "def match(book):\n",
        "  match_tuple = []\n",
        "  # get match\n",
        "  for title, isbn in hashmap1.items():\n",
        "    ratio = fuzz.ratio(title.lower(), book.lower())\n",
        "    if ratio >= 50:\n",
        "      match_tuple.append((title, ratio))\n",
        "  # sort\n",
        "  match_tuple = sorted(match_tuple, key=lambda x: x[1])[::-1]\n",
        "  if not match_tuple:\n",
        "    print('Oops! No match is found')\n",
        "  else:\n",
        "    print('Found possible matches in our database: ' '{0}\\n'.format([x[0] for x in match_tuple]))\n",
        "  return match_tuple[0][0]"
      ],
      "metadata": {
        "colab": {
          "base_uri": "https://localhost:8080/"
        },
        "id": "PfqPu3ML4fpJ",
        "outputId": "e518e9ce-9587-4d57-a9c2-13d335cf3765"
      },
      "execution_count": null,
      "outputs": [
        {
          "output_type": "stream",
          "name": "stdout",
          "text": [
            "Requirement already satisfied: fuzzywuzzy in /usr/local/lib/python3.7/dist-packages (0.18.0)\n"
          ]
        }
      ]
    },
    {
      "cell_type": "code",
      "source": [
        "match(\"the Life of pi\")"
      ],
      "metadata": {
        "colab": {
          "base_uri": "https://localhost:8080/",
          "height": 90
        },
        "id": "bjFjjDBL-gBk",
        "outputId": "81f20907-6445-444b-c30e-fb076bb66aed"
      },
      "execution_count": null,
      "outputs": [
        {
          "output_type": "stream",
          "name": "stdout",
          "text": [
            "Found possible matches in our database: ['Life of Pi', 'The Face of Deception', 'The Prince of Tides', 'The Secret Life of Bees', 'The Loop', 'The Alienist', 'The Tao of Pooh', 'The Color of Magic', 'The Burden of Proof', 'The Valley of Horses', 'The House of the Spirits', 'The King of Torts', 'The Client', 'The Temple of My Familiar', 'The English Patient', 'The Reef', 'The Firm', 'The Key to Midnight', 'The Mists of Avalon', 'The Weight of Water', 'The Bonfire of the Vanities', 'The Eyes of Darkness', 'The House of Thunder', \"The Pilot's Wife\", 'The Pelican Brief', 'The Last Precinct', 'The Bridges of Madison County', 'The Rapture of Canaan', 'The Angel of Darkness', 'Peace Like a River', 'The Green Mile', 'From the Corner of His Eye', 'The Bluest Eye', 'The Third Twin', 'P Is for Peril', 'The Winner', 'The Accidental Tourist', 'The Last Juror', 'The Blind Assassin', 'The Lost World', \"The Pilot's Wife : A Novel\"]\n",
            "\n"
          ]
        },
        {
          "output_type": "execute_result",
          "data": {
            "application/vnd.google.colaboratory.intrinsic+json": {
              "type": "string"
            },
            "text/plain": [
              "'Life of Pi'"
            ]
          },
          "metadata": {},
          "execution_count": 94
        }
      ]
    },
    {
      "cell_type": "code",
      "source": [
        "books = get_recommends(match(\"the Life of pi\"))\n",
        "print(books)"
      ],
      "metadata": {
        "colab": {
          "base_uri": "https://localhost:8080/"
        },
        "id": "Qngmegkl8zpQ",
        "outputId": "d21b9b05-7501-4c9a-8f36-176548847ec8"
      },
      "execution_count": null,
      "outputs": [
        {
          "output_type": "stream",
          "name": "stdout",
          "text": [
            "Found possible matches in our database: ['Life of Pi', 'The Face of Deception', 'The Prince of Tides', 'The Secret Life of Bees', 'The Loop', 'The Alienist', 'The Tao of Pooh', 'The Color of Magic', 'The Burden of Proof', 'The Valley of Horses', 'The House of the Spirits', 'The King of Torts', 'The Client', 'The Temple of My Familiar', 'The English Patient', 'The Reef', 'The Firm', 'The Key to Midnight', 'The Mists of Avalon', 'The Weight of Water', 'The Bonfire of the Vanities', 'The Eyes of Darkness', 'The House of Thunder', \"The Pilot's Wife\", 'The Pelican Brief', 'The Last Precinct', 'The Bridges of Madison County', 'The Rapture of Canaan', 'The Angel of Darkness', 'Peace Like a River', 'The Green Mile', 'From the Corner of His Eye', 'The Bluest Eye', 'The Third Twin', 'P Is for Peril', 'The Winner', 'The Accidental Tourist', 'The Last Juror', 'The Blind Assassin', 'The Lost World', \"The Pilot's Wife : A Novel\"]\n",
            "\n",
            "('Life of Pi', [['The Four Agreements: A Practical Guide to Personal Freedom', 0.7600024], ['Daughter of Fortune: A Novel', 0.76325905], ['Welcome to Temptation', 0.7922793], ['A Confederacy of Dunces (Evergreen Book)', 0.79463744]])\n"
          ]
        }
      ]
    }
  ],
  "metadata": {
    "colab": {
      "collapsed_sections": [],
      "name": "fcc_book_recommendation_knn.ipynb",
      "provenance": [],
      "include_colab_link": true
    },
    "kernelspec": {
      "display_name": "Python 3",
      "language": "python",
      "name": "python3"
    },
    "language_info": {
      "codemirror_mode": {
        "name": "ipython",
        "version": 3
      },
      "file_extension": ".py",
      "mimetype": "text/x-python",
      "name": "python",
      "nbconvert_exporter": "python",
      "pygments_lexer": "ipython3",
      "version": "3.6.5"
    }
  },
  "nbformat": 4,
  "nbformat_minor": 0
}
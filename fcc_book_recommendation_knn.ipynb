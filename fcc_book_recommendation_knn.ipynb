{
  "cells": [
    {
      "cell_type": "markdown",
      "metadata": {
        "id": "view-in-github",
        "colab_type": "text"
      },
      "source": [
        "<a href=\"https://colab.research.google.com/github/fabriciocgf/fcc_machine_learning/blob/main/fcc_book_recommendation_knn.ipynb\" target=\"_parent\"><img src=\"https://colab.research.google.com/assets/colab-badge.svg\" alt=\"Open In Colab\"/></a>"
      ]
    },
    {
      "cell_type": "markdown",
      "metadata": {
        "id": "uGd4NYQX1Rf_"
      },
      "source": [
        "*Note: You are currently reading this using Google Colaboratory which is a cloud-hosted version of Jupyter Notebook. This is a document containing both text cells for documentation and runnable code cells. If you are unfamiliar with Jupyter Notebook, watch this 3-minute introduction before starting this challenge: https://www.youtube.com/watch?v=inN8seMm7UI*\n",
        "\n",
        "---\n",
        "\n",
        "In this challenge, you will create a book recommendation algorithm using **K-Nearest Neighbors**.\n",
        "\n",
        "You will use the [Book-Crossings dataset](http://www2.informatik.uni-freiburg.de/~cziegler/BX/). This dataset contains 1.1 million ratings (scale of 1-10) of 270,000 books by 90,000 users. \n",
        "\n",
        "After importing and cleaning the data, use `NearestNeighbors` from `sklearn.neighbors` to develop a model that shows books that are similar to a given book. The Nearest Neighbors algorithm measures distance to determine the “closeness” of instances.\n",
        "\n",
        "Create a function named `get_recommends` that takes a book title (from the dataset) as an argument and returns a list of 5 similar books with their distances from the book argument.\n",
        "\n",
        "This code:\n",
        "\n",
        "`get_recommends(\"The Queen of the Damned (Vampire Chronicles (Paperback))\")`\n",
        "\n",
        "should return:\n",
        "\n",
        "```\n",
        "[\n",
        "  'The Queen of the Damned (Vampire Chronicles (Paperback))',\n",
        "  [\n",
        "    ['Catch 22', 0.793983519077301], \n",
        "    ['The Witching Hour (Lives of the Mayfair Witches)', 0.7448656558990479], \n",
        "    ['Interview with the Vampire', 0.7345068454742432],\n",
        "    ['The Tale of the Body Thief (Vampire Chronicles (Paperback))', 0.5376338362693787],\n",
        "    ['The Vampire Lestat (Vampire Chronicles, Book II)', 0.5178412199020386]\n",
        "  ]\n",
        "]\n",
        "```\n",
        "\n",
        "Notice that the data returned from `get_recommends()` is a list. The first element in the list is the book title passed in to the function. The second element in the list is a list of five more lists. Each of the five lists contains a recommended book and the distance from the recommended book to the book passed in to the function.\n",
        "\n",
        "If you graph the dataset (optional), you will notice that most books are not rated frequently. To ensure statistical significance, remove from the dataset users with less than 200 ratings and books with less than 100 ratings.\n",
        "\n",
        "The first three cells import libraries you may need and the data to use. The final cell is for testing. Write all your code in between those cells."
      ]
    },
    {
      "cell_type": "code",
      "execution_count": null,
      "metadata": {
        "id": "Y1onB6kUvo4Z"
      },
      "outputs": [],
      "source": [
        "# import libraries (you may add additional imports but you may not have to)\n",
        "import numpy as np\n",
        "import pandas as pd\n",
        "from scipy.sparse import csr_matrix\n",
        "from sklearn.neighbors import NearestNeighbors\n",
        "import matplotlib.pyplot as plt"
      ]
    },
    {
      "cell_type": "code",
      "execution_count": null,
      "metadata": {
        "id": "iAQGqqO_vo4d",
        "colab": {
          "base_uri": "https://localhost:8080/"
        },
        "outputId": "107a5126-e033-4b31-960f-a64aff71a32a"
      },
      "outputs": [
        {
          "output_type": "stream",
          "name": "stdout",
          "text": [
            "--2022-01-28 13:34:31--  https://cdn.freecodecamp.org/project-data/books/book-crossings.zip\n",
            "Resolving cdn.freecodecamp.org (cdn.freecodecamp.org)... 104.26.3.33, 172.67.70.149, 104.26.2.33, ...\n",
            "Connecting to cdn.freecodecamp.org (cdn.freecodecamp.org)|104.26.3.33|:443... connected.\n",
            "HTTP request sent, awaiting response... 200 OK\n",
            "Length: 26085508 (25M) [application/zip]\n",
            "Saving to: ‘book-crossings.zip’\n",
            "\n",
            "book-crossings.zip  100%[===================>]  24.88M  39.2MB/s    in 0.6s    \n",
            "\n",
            "2022-01-28 13:34:32 (39.2 MB/s) - ‘book-crossings.zip’ saved [26085508/26085508]\n",
            "\n",
            "Archive:  book-crossings.zip\n",
            "  inflating: BX-Book-Ratings.csv     \n",
            "  inflating: BX-Books.csv            \n",
            "  inflating: BX-Users.csv            \n"
          ]
        }
      ],
      "source": [
        "# get data files\n",
        "!wget https://cdn.freecodecamp.org/project-data/books/book-crossings.zip\n",
        "\n",
        "!unzip book-crossings.zip\n",
        "\n",
        "books_filename = 'BX-Books.csv'\n",
        "ratings_filename = 'BX-Book-Ratings.csv'"
      ]
    },
    {
      "cell_type": "code",
      "execution_count": null,
      "metadata": {
        "id": "NClILWOiEd6Q"
      },
      "outputs": [],
      "source": [
        "# import csv data into dataframes\n",
        "df_books = pd.read_csv(\n",
        "    books_filename,\n",
        "    encoding = \"ISO-8859-1\",\n",
        "    sep=\";\",\n",
        "    header=0,\n",
        "    names=['isbn', 'title', 'author'],\n",
        "    usecols=['isbn', 'title', 'author'],\n",
        "    dtype={'isbn': 'str', 'title': 'str', 'author': 'str'})\n",
        "\n",
        "df_ratings = pd.read_csv(\n",
        "    ratings_filename,\n",
        "    encoding = \"ISO-8859-1\",\n",
        "    sep=\";\",\n",
        "    header=0,\n",
        "    names=['user', 'isbn', 'rating'],\n",
        "    usecols=['user', 'isbn', 'rating'],\n",
        "    dtype={'user': 'int32', 'isbn': 'str', 'rating': 'float32'})"
      ]
    },
    {
      "cell_type": "code",
      "source": [
        "# filter data\n",
        "df_books_cnt = pd.DataFrame(df_ratings.groupby('isbn').size(), columns=['count'])\n",
        "popular_books = list(set(df_books_cnt.query('count >= 100').index))  # noqa\n",
        "books_filter = df_ratings.isbn.isin(popular_books).values\n",
        "\n",
        "df_users_cnt = pd.DataFrame(df_ratings.groupby('user').size(), columns=['count'])\n",
        "active_users = list(set(df_users_cnt.query('count >= 200').index))  # noqa\n",
        "users_filter = df_ratings.user.isin(active_users).values\n",
        "#df_ratings_filtered = df_ratings[users_filter]\n",
        "df_ratings_filtered = df_ratings[books_filter & users_filter]\n",
        "df_ratings_filtered.shape"
      ],
      "metadata": {
        "colab": {
          "base_uri": "https://localhost:8080/"
        },
        "id": "ssZbra9giyif",
        "outputId": "95e302b0-aa7b-4fca-c10f-a27ed7fae356"
      },
      "execution_count": null,
      "outputs": [
        {
          "output_type": "execute_result",
          "data": {
            "text/plain": [
              "(49781, 3)"
            ]
          },
          "metadata": {},
          "execution_count": 5
        }
      ]
    },
    {
      "cell_type": "code",
      "source": [
        "df_book_features = df_ratings_filtered.pivot(\n",
        "    index='isbn',\n",
        "    columns='user',\n",
        "    values='rating'\n",
        ").fillna(0)\n",
        "df_book_features.shape"
      ],
      "metadata": {
        "colab": {
          "base_uri": "https://localhost:8080/"
        },
        "id": "QsexfmV7n5W5",
        "outputId": "bb0ba50f-0d8c-4934-c6b6-5f6c57b05987"
      },
      "execution_count": null,
      "outputs": [
        {
          "output_type": "execute_result",
          "data": {
            "text/plain": [
              "(731, 888)"
            ]
          },
          "metadata": {},
          "execution_count": 6
        }
      ]
    },
    {
      "cell_type": "code",
      "source": [
        "from scipy.sparse import csr_matrix\n",
        "# convert dataframe of movie features to scipy sparse matrix\n",
        "mat_book_features = csr_matrix(df_book_features.values)"
      ],
      "metadata": {
        "id": "JYZAshBPoESH"
      },
      "execution_count": null,
      "outputs": []
    },
    {
      "cell_type": "code",
      "source": [
        "model = NearestNeighbors(metric='cosine', algorithm='brute', n_neighbors=20)"
      ],
      "metadata": {
        "id": "oTLies3qoial"
      },
      "execution_count": null,
      "outputs": []
    },
    {
      "cell_type": "code",
      "source": [
        "hashmap = df_books.set_index('isbn').filter(items = list(df_book_features.index), axis=0).to_dict()['title']\n",
        "hashmap1 = dict()\n",
        "for key, value in hashmap.items():\n",
        "  hashmap1.setdefault(value, list()).append(key)\n",
        "print(hashmap1)"
      ],
      "metadata": {
        "colab": {
          "base_uri": "https://localhost:8080/"
        },
        "id": "HZGCTx5IArT9",
        "outputId": "eca29f6a-c42a-44cb-8857-444a8c86a5ac"
      },
      "execution_count": null,
      "outputs": [
        {
          "output_type": "stream",
          "name": "stdout",
          "text": [
            "{'Politically Correct Bedtime Stories: Modern Tales for Our Life and Times': ['002542730X'], 'Angels': ['0060008032'], 'The Boy Next Door': ['0060096195'], 'Men Are from Mars, Women Are from Venus: A Practical Guide for Improving Communication and Getting What You Want in Your Relationships': ['006016848X'], 'Divine Secrets of the Ya-Ya Sisterhood : A Novel': ['0060173289'], 'The Poisonwood Bible': ['0060175400'], \"Daughter of Fortune : A Novel (Oprah's Book Club (Hardcover))\": ['006019491X'], 'Prodigal Summer': ['0060199652'], \"I Know This Much Is True (Oprah's Book Club)\": ['0060391626'], 'Stupid White Men ...and Other Sorry Excuses for the State of the Nation!': ['0060392452'], 'The Divine Secrets of the Ya-Ya Sisterhood: A Novel': ['0060502258'], 'The Bean Trees': ['0060915544', '0061097314'], 'Their Eyes Were Watching God: A Novel': ['0060916508'], 'Animal Dreams': ['0060921145'], 'Pigs in Heaven': ['0060922532'], 'Divine Secrets of the Ya-Ya Sisterhood: A Novel': ['0060928336'], 'Brave New World': ['0060929871'], 'The Poisonwood Bible: A Novel': ['0060930535'], 'Daughter of Fortune': ['0060932759'], 'Bel Canto: A Novel': ['0060934417'], 'Fast Food Nation: The Dark Side of the All-American Meal': ['0060938455'], 'Five Quarters of the Orange': ['0060958022'], 'Prodigal Summer: A Novel': ['0060959037'], 'Little Altars Everywhere: A Novel': ['0060976845'], 'The God of Small Things': ['0060977493'], 'Wicked: The Life and Times of the Wicked Witch of the West': ['0060987103'], 'Confessions of an Ugly Stepsister : A Novel': ['0060987529'], 'I Know This Much Is True': ['0060987561'], 'The Professor and the Madman: A Tale of Murder, Insanity, and the Making of The Oxford English Dictionary': ['006099486X'], 'One for the Money (Stephanie Plum Novels (Paperback))': ['0061009059'], 'The Perfect Storm : A True Story of Men Against the Sea': ['006101351X'], 'Prey': ['0061015725'], 'The Color of Magic': ['0061020710'], 'The Saving Graces: A Novel': ['0061097101'], 'The Alchemist: A Fable About Following Your Dream': ['0062502182'], \"Charlotte's Web (Trophy Newbery)\": ['0064400557'], 'The Bad Beginning (A Series of Unfortunate Events, Book 1)': ['0064407667'], 'The Reptile Room (A Series of Unfortunate Events, Book 2)': ['0064407675'], 'Angus, Thongs and Full-Frontal Snogging: Confessions of Georgia Nicolson': ['0064472272'], 'Prey: A Novel': ['0066214122'], 'Fried Green Tomatoes at the Whistle Stop Cafe': ['0070212570'], 'Memoirs of a Geisha Uk': ['0099771519'], 'On the Road': ['0140042598'], 'The Tao of Pooh': ['0140067477'], 'Lake Wobegon days': ['0140092323'], 'Love in the Time of Cholera (Penguin Great Books of the 20th Century)': ['0140119906'], 'Of Mice and Men (Penguin Great Books of the 20th Century)': ['0140177396'], \"The Liar's Club: A Memoir\": ['0140179836'], 'The Stone Diaries': ['014023313X'], \"Songs in Ordinary Time (Oprah's Book Club (Paperback))\": ['0140244824'], 'At Home in Mitford (The Mitford Years)': ['014025448X'], 'A Light in the Window (The Mitford Years)': ['0140254544'], \"Bridget Jones's Diary\": ['014028009X', '0141000198', '0330332775', '0670880728'], \"The Girls' Guide to Hunting and Fishing\": ['0140293248', '067088300X'], 'Girl in Hyacinth Blue': ['014029628X'], 'Bridget Jones: The Edge of Reason': ['0140298479'], 'Chocolat': ['014100018X', '0552998486'], 'Icy Sparks': ['0142000205'], 'Year of Wonders': ['0142001430'], 'The Secret Life of Bees': ['0142001740'], 'The Eyre Affair: A Novel': ['0142001805'], \"East of Eden (Oprah's Book Club)\": ['0142004235'], 'Life of Pi': ['0151008116', '0156027321'], 'Mrs Dalloway': ['0156628708'], \"The Samurai's Garden : A Novel\": ['0312144075'], 'The Red Tent (Bestselling Backlist)': ['0312195516'], 'The Hours : A Novel': ['0312243022'], 'Hard Eight : A Stephanie Plum Novel (A Stephanie Plum Novel)': ['0312265859', '0312983867'], 'To the Nines: A Stephanie Plum Novel': ['0312265867'], 'The Nanny Diaries: A Novel': ['0312278586', '0312291639'], 'The Amazing Adventures of Kavalier &amp; Clay': ['0312282990'], 'The Hours: A Novel': ['0312305060'], 'The Corrections: A Novel': ['0312421273'], 'Middlesex: A Novel': ['0312422156', '0374199698'], 'Running with Scissors: A Memoir': ['031242227X'], 'Silence of the Lambs': ['0312924585'], 'September': ['0312924801'], 'Three To Get Deadly : A Stephanie Plum Novel (A Stephanie Plum Novel)': ['0312966091'], 'Tell Me Lies (Tell Me Lies)': ['0312966806'], 'Four To Score (A Stephanie Plum Novel)': ['0312966970'], 'Crazy for You': ['0312971125'], 'High Five (A Stephanie Plum Novel)': ['0312971346'], 'Welcome to Temptation': ['0312974256'], 'Hot Six : A Stephanie Plum Novel (A Stephanie Plum Novel)': ['0312976275'], 'Seven Up (A Stephanie Plum Novel)': ['0312980140'], 'Fast Women': ['0312980159'], 'The Sigma Protocol': ['0312982518'], \"Full House (Janet Evanovich's Full Series)\": ['0312983271'], \"Full Tilt (Janet Evanovich's Full Series)\": ['031298328X'], 'Faking It': ['0312983824'], 'One for the Money (A Stephanie Plum Novel)': ['0312990456'], 'Digital Fortress : A Thriller': ['0312995423'], 'Sea Glass: A Novel': ['0316089699'], 'Lucky : A Memoir': ['0316096199'], 'The Dogs of Babel (Today Show Book Club #12)': ['0316168688'], 'White Oleander : A Novel': ['0316182540', '0316569321'], \"White Oleander : A Novel (Oprah's Book Club)\": ['0316284955'], \"The Pilot's Wife : A Novel\": ['0316601950'], 'The Jester': ['0316602051'], 'The Big Bad Wolf: A Novel': ['0316602906'], '1st to Die: A Novel': ['0316666009', '0446610038'], 'The Lovely Bones: A Novel': ['0316666343'], 'Four Blind Mice': ['0316693006', '0446613266'], '2nd Chance': ['0316693200', '0446612790'], 'Violets Are Blue': ['0316693235', '0446611212'], 'The Catcher in the Rye': ['0316769487'], 'Me Talk Pretty One Day': ['0316776963', '0316777722'], 'Naked': ['0316777730'], 'The Weight of Water : A Novel Tag: Author of Resistance and Strange Fits of Passion': ['0316780375'], \"Fortune's Rocks: A Novel\": ['0316781010'], 'The Last Time They Met : A Novel': ['0316781142', '0316781266'], 'The Weight of Water': ['0316782505'], \"The Pilot's Wife\": ['0316788228'], \"The Pilot's Wife : A Novel Tag: Author of the Weight of Water (Oprah's Book Club (Hardcover))\": ['0316789089'], 'River, Cross My Heart': ['0316899984'], \"Suzanne's Diary for Nicholas\": ['0316969443', '0446611085', '0446679593'], 'The Beach House': ['0316969680', '0446612545'], 'The Vampire Lestat (Vampire Chronicles, Book II)': ['0345313860'], 'Interview with the Vampire': ['0345337662'], 'The Hobbit : The Enchanting Prelude to The Lord of the Rings': ['0345339681'], 'The Fellowship of the Ring (The Lord of the Rings, Part 1)': ['0345339703'], 'The Two Towers (The Lord of the Rings, Part 2)': ['0345339711'], 'The Return of the King (The Lord of the Rings, Part 3)': ['0345339738'], 'Fahrenheit 451': ['0345342968'], \"The Princess Bride: S Morgenstern's Classic Tale of True Love and High Adventure\": ['0345348036'], 'The Killer Angels': ['0345348109'], 'The Mists of Avalon': ['0345350499'], 'The Queen of the Damned (Vampire Chronicles (Paperback))': ['0345351525'], 'Sphere': ['0345353145'], 'Eaters of the Dead': ['0345354613'], 'A Prayer for Owen Meany': ['0345361792'], 'The World According to Garp': ['034536676X'], \"Foucault's Pendulum\": ['0345368754'], 'The Mummy or Ramses the Damned': ['0345369947'], 'Jurassic Park': ['0345370775'], 'How to Make an American Quilt': ['0345370805'], 'The Andromeda Strain': ['0345378482'], 'Congo': ['0345378490'], 'Rising Sun': ['0345380371'], 'Degree of Guilt': ['034538184X'], 'Icebound': ['0345384350'], 'Intensity': ['0345384369'], 'The Witching Hour (Lives of the Mayfair Witches)': ['0345384466'], 'The Tale of the Body Thief (Vampire Chronicles (Paperback))': ['034538475X'], 'Winter Moon': ['0345386108'], 'The Cider House Rules': ['0345387651'], 'Disclosure': ['0345391055'], \"The Hitchhiker's Guide to the Galaxy\": ['0345391802'], 'Dark Rivers of the Heart': ['034539657X'], 'Lasher: Lives of the Mayfair Witches (Lives of the Mayfair Witches)': ['0345397819'], 'Airframe': ['0345402871', '0679446486'], 'The Lost World': ['034540288X'], 'Sleepers': ['0345404114'], 'The Golden Compass (His Dark Materials, Book 1)': ['0345413350'], 'Monster : A Novel (Alex Delaware Novels (Paperback))': ['0345413873'], 'Dr. Death (Alex Delaware Novels (Paperback))': ['0345413881'], 'Flesh and Blood': ['034541389X'], 'The Murder Book': ['0345413903'], 'Timeline': ['0345417623', '0679444815'], 'The Genesis Code': ['0345422317'], 'A Widow for One Year': ['0345424719', '034543479X'], 'The Angel of Darkness': ['0345427637'], \"Open House (Oprah's Book Club (Paperback))\": ['0345435168'], \"The Dress Lodger (Ballantine Reader's Circle)\": ['0345436911'], \"Big Stone Gap: A Novel (Ballantine Reader's Circle)\": ['0345438329'], \"Drowning Ruth (Oprah's Book Club)\": ['0345439104'], 'Black House': ['0345441036'], 'While I Was Gone': ['0345443284'], 'The Talisman': ['0345444884'], \"Big Cherry Holler: A Big Stone Gap Novel (Ballantine Reader's Circle)\": ['0345445848'], \"Back When We Were Grownups : A Novel (Ballantine Reader's Circle)\": ['0345446860'], 'The Surgeon': ['0345447840'], 'Seabiscuit': ['0345465083'], 'Truly, Madly Manhattan': ['0373218036'], 'Engaging The Enemy': ['0373218192'], 'Summer Pleasures': ['0373218397'], 'Table For Two': ['0373218400'], 'Irish Hearts': ['0373484003'], 'Whirlwind (Tyler, Book 1)': ['0373825013'], 'The Corrections': ['0374129983'], \"The Dive From Clausen's Pier (Alex Awards)\": ['0375412824'], 'Blessings': ['0375502238'], 'Open House': ['0375506039'], 'Cold Mountain : A Novel': ['0375700757'], 'A Lesson Before Dying (Vintage Contemporaries (Paperback))': ['0375702709'], 'Ellen Foster': ['0375703055'], \"A Virtuous Woman (Oprah's Book Club (Paperback))\": ['0375703063'], 'White Teeth: A Novel': ['0375703861'], 'Breath, Eyes, Memory': ['037570504X'], 'Plainsong (Vintage Contemporaries)': ['0375705856'], 'Waiting (Vintage International)': ['0375706410'], 'Midwives: A Novel': ['0375706771'], 'The Reader': ['0375707972'], 'A Heartbreaking Work of Staggering Genius': ['0375725784'], 'Empire Falls': ['0375726403'], \"The Dive From Clausen's Pier : A Novel (Vintage Contemporaries (Paperback))\": ['0375727132'], 'House of Sand and Fog': ['0375727345'], \"The Idiot Girls' Action Adventure Club\": ['0375760911'], 'Watership Down': ['0380002930'], 'Jonathan Livingston Seagull': ['0380012863'], 'The Thorn Birds': ['0380018179'], 'Postmortem': ['0380710218'], 'Body of Evidence (Kay Scarpetta Mysteries (Paperback))': ['0380717018'], 'All That Remains (Kay Scarpetta Mysteries (Paperback))': ['0380718332'], 'Cruel &amp; Unusual (Kay Scarpetta Mysteries (Paperback))': ['0380718340'], 'Notes from a Small Island': ['0380727501'], \"Vinegar Hill (Oprah's Book Club (Paperback))\": ['0380730138'], 'The Forgotten (Peter Decker &amp; Rina Lazarus Novels (Paperback))': ['0380730847'], 'Mystic River': ['0380731851'], 'Neverwhere': ['0380789019'], 'American Gods': ['0380789035'], 'What Looks Like Crazy On An Ordinary Day': ['038079487X'], \"Lamb : The Gospel According to Biff, Christ's Childhood Pal\": ['0380813815'], 'The Princess Diaries': ['0380814021'], 'Last Chance Saloon': ['0380820293'], 'Daughter of Fortune: A Novel': ['038082101X'], 'Coraline': ['0380977788'], \"The Book of Ruth (Oprah's Book Club (Paperback))\": ['0385265700'], 'Hannibal': ['038529929X', '0440224675'], 'Charming Billy': ['038533334X'], 'Confessions of a Shopaholic (Summer Display Opportunity)': ['0385335482'], 'Diary of a Mad Bride (Summer Display Opportunity)': ['0385335830'], 'Shopaholic Takes Manhattan (Summer Display Opportunity)': ['0385335881'], 'Shopaholic Ties the Knot': ['0385336179'], 'Like Water for Chocolate: A Novel in Monthly Installments, With Recipes, Romances, and Home Remedies': ['0385420161'], 'Like Water for Chocolate : A Novel in Monthly Installments with Recipes, Romances, and Home Remedies': ['038542017X'], 'The Client': ['038542471X', '0440213525'], 'The Chamber': ['0385424728', '0440220602'], 'The Rainmaker': ['0385424736', '044022165X'], 'The Partner': ['0385472951', '0440224764'], 'Like Water for Chocolate: A Novel in Monthly Installments With Recipes, Romances and Home Remedies': ['0385474016'], 'The Blind Assassin': ['0385475721', '0385720955'], 'The Hot Zone': ['0385479565'], \"Tuesdays with Morrie: An Old Man, a Young Man, and Life's Greatest Lesson\": ['0385484518', '076790592X'], 'Into the Wild': ['0385486804'], \"The Handmaid's Tale : A Novel\": ['038549081X'], 'The Street Lawyer': ['0385490992', '0440225701'], 'Into Thin Air : A Personal Account of the Mt. Everest Disaster': ['0385492081'], 'The Testament': ['0385493800', '0440234743'], 'The Brethren': ['0385497466', '0440236673'], 'Bee Season: A Novel': ['0385498802'], 'A Painted House': ['038550120X', '044023722X'], 'Drowning Ruth': ['0385502532'], 'The Summons': ['0385503822', '0440241073'], 'Atonement: A Novel': ['0385503954'], 'The Da Vinci Code': ['0385504209'], 'Skipping Christmas': ['0385505833', '0385508417'], 'The King of Torts': ['0385508042', '0440241537'], 'The Devil Wears Prada : A Novel': ['038550926X'], 'The Last Juror': ['0385510438'], 'Bleachers': ['0385511612'], 'The Curious Incident of the Dog in the Night-Time (Today Show Book Club #13)': ['0385512104'], 'A Map of the World': ['0385720106'], 'Three Junes': ['0385721420'], 'Atonement : A Novel': ['038572179X'], 'Balzac and the Little Chinese Seamstress : A Novel': ['0385722206'], 'Sisterhood of the Traveling Pants': ['0385730586'], 'The Phantom Tollbooth': ['0394820371'], 'Interpreter of Maladies': ['039592720X'], 'Who Moved My Cheese? An Amazing Way to Deal with Change in Your Work and in Your Life': ['0399144463'], 'Black Notice': ['0399145087', '0425175405'], 'The Last Precinct': ['0399146253', '0425180638'], \"The Bonesetter's Daughter\": ['0399146431', '0804114986'], 'P Is for Peril (Kinsey Millhone Mysteries (Hardcover))': ['0399147195'], 'Q Is for Quarry': ['0399149155', '0425192725'], 'Portrait of a Killer: Jack the Ripper -- Case Closed': ['0399149325'], 'Blow Fly: A Scarpetta Novel': ['0399150897'], 'Lord of the Flies': ['0399501487'], 'The Hunt for Red October': ['0425083837'], 'The Accidental Tourist': ['0425092917'], 'Red Storm Rising': ['042510107X'], 'Watchers': ['0425107469'], 'Patriot Games (Jack Ryan Novels)': ['0425109720'], 'Lightning': ['0425115801'], 'The Cardinal of the Kremlin (Jack Ryan Novels)': ['0425116840'], 'Breathing Lessons': ['042511774X'], 'Clear and Present Danger (Jack Ryan Novels)': ['0425122123'], 'The Bad Place': ['0425124347'], 'The House of Thunder': ['0425132951'], 'The Sum of All Fears (Jack Ryan Novels)': ['0425133540'], 'Hideaway': ['042513525X'], 'Shadowfires': ['0425136981'], 'Turtle Moon': ['042513699X'], 'Without Remorse': ['0425143325'], 'Mr. Murder': ['0425144429'], \"Tom Clancy's Op-Center (Tom Clancy's Op Center (Paperback))\": ['0425147363'], 'The Key to Midnight': ['0425147517'], 'Debt of Honor (Jack Ryan Novels)': ['0425147584'], 'The Body Farm': ['0425147622'], \"Tom Clancy's Op-Center: Mirror Image (Tom Clancy's Op Center (Paperback))\": ['0425150143'], 'Acceptable Risk': ['0425151867'], \"Sophie's World: A Novel About the History of Philosophy\": ['0425152251'], 'The Eyes of Darkness': ['0425153975'], \"From Potter's Field\": ['0425154092'], 'Invasion': ['0425155404'], 'Cause of Death': ['0425158616'], 'Executive Orders (Jack Ryan Novels)': ['0425158632'], \"Hornet's Nest\": ['042516098X'], 'The Rapture of Canaan': ['0425162443'], 'Unnatural Exposure': ['0425163407'], 'Here on Earth': ['0425167313'], 'Point of Origin': ['0425169863'], 'Rainbow Six': ['0425170349'], 'Southern Cross': ['0425172546'], 'Atlantis Found': ['0425177173'], 'Big Trouble': ['0425178102'], 'Easy Prey': ['0425178765'], 'The Bear and the Dragon (Jack Ryan Novels)': ['0425180964'], 'Chosen Prey': ['0425182878'], 'Isle of Dogs': ['0425182908'], 'The Sum of All Fears': ['0425184226'], 'Valhalla Rising (Dirk Pitt Adventures (Paperback))': ['0425185710'], 'Purity in Death': ['042518630X'], 'Mortal Prey': ['0425189864'], 'Portrait of a Killer: Jack the Ripper-- Case Closed (Berkley True Crime)': ['0425192733'], 'Harry Potter and the Chamber of Secrets (Book 2)': ['0439064864', '0439064872'], 'Harry Potter and the Prisoner of Azkaban (Book 3)': ['0439136350', '0439136369'], 'Harry Potter and the Goblet of Fire (Book 4)': ['0439139597', '0439139600'], 'Harry Potter and the Order of the Phoenix (Book 5)': ['043935806X'], \"Harry Potter and the Sorcerer's Stone (Book 1)\": ['043936213X', '0590353403'], 'Echoes': ['0440122090'], \"Slaughterhouse Five or the Children's Crusade: A Duty Dance With Death\": ['0440180295'], 'Shell Seekers': ['0440202043'], 'Red Dragon': ['0440206154'], 'Circle of Friends': ['0440211263'], 'The Firm': ['044021145X'], 'A Time to Kill': ['0440211727'], 'Outlander': ['0440212561'], 'The Copper Beech': ['0440213290'], 'The Pelican Brief': ['0440214041'], 'Dragonfly in Amber': ['0440215625'], \"Smilla's Sense of Snow\": ['0440218535'], 'The Giver (21st Century Reference)': ['0440219078'], 'One True Thing': ['044022103X'], 'The Runaway Jury': ['0440221471'], 'The Glass Lake': ['0440221595'], 'The Horse Whisperer': ['0440222656'], 'Evening Class': ['0440223202'], 'The Return Journey': ['0440224594'], 'The Loop': ['0440224624'], 'Black and Blue': ['0440226104'], 'Summer Sisters': ['0440226430'], 'The Smoke Jumper': ['0440235162'], 'Tara Road': ['0440235596'], 'Tell No One': ['0440236703'], 'Holes (Yearling Newbery)': ['0440414806'], 'A Wrinkle In Time': ['0440498058'], 'A Wrinkle in Time': ['0440998050'], 'Good Omens': ['0441003257'], 'Dune (Remembering Tomorrow)': ['0441172717'], 'Neuromancer (Remembering Tomorrow)': ['0441569595'], 'Stranger in a Strange Land (Remembering Tomorrow)': ['0441790348'], 'To Kill a Mockingbird': ['0446310786'], 'Presumed Innocent': ['0446359866'], 'The Burden of Proof': ['0446360589'], 'Scarlett : The Sequel to Margaret Mitchell\\'s \\\\Gone With the Wind\\\\\"\"': ['0446363251'], 'Along Came a Spider (Alex Cross Novels)': ['0446364193'], \"The General's Daughter\": ['0446364800'], 'Pleading Guilty': ['0446365505'], 'Daisy Fay and the Miracle Man': ['0446394521'], 'The Bridges of Madison County': ['044651652X'], 'Slow Waltz in Cedar Bend': ['0446516538'], 'The Celestine Prophecy (Celestine Prophecy)': ['044651862X'], 'Simple Abundance:  A Daybook of Comfort and Joy': ['0446519138'], 'The Notebook': ['0446520802', '0446605239'], 'The Rescue': ['0446525502', '0446610399'], 'Cane River': ['0446530522'], 'Nights in Rodanthe': ['0446531332'], \"Dude, Where's My Country?\": ['0446532231'], 'Kiss the Girls': ['0446601241'], 'Blood Work': ['0446602620'], 'Absolute Power': ['0446603589'], 'Hide &amp; Seek': ['0446603716'], 'See How They Run': ['0446603929'], 'Sick Puppy': ['0446604666'], 'Jack &amp; Jill (Alex Cross Novels)': ['0446604801'], 'Total Control': ['0446604844'], 'Plum Island': ['0446605409'], 'Roses Are Red (Alex Cross Novels)': ['0446605484'], 'Cat &amp; Mouse (Alex Cross Novels)': ['0446606189'], 'The Winner': ['0446606324'], 'Message in a Bottle': ['0446606812'], 'Unspeakable': ['0446607193'], 'When the Wind Blows': ['0446607657'], 'The Simple Truth': ['0446607711'], 'Pop Goes the Weasel': ['0446608815'], 'Saving Faith': ['0446608890'], 'A Walk to Remember': ['0446608955'], 'Black Friday': ['0446609323'], 'Cradle and All': ['0446609404'], 'Wish You Well': ['0446610100'], 'The Bachelor (Warner Books Contemporary Romance)': ['0446610542'], 'Last Man Standing': ['0446611778'], 'Envy': ['0446611808'], 'A Bend in the Road': ['0446611867'], 'The Virgin Suicides': ['0446670251'], \"Where the Heart Is (Oprah's Book Club (Paperback))\": ['0446672211'], 'The Honk and Holler Opening Soon': ['0446675059'], '\\\\O\\\\\" Is for Outlaw\"': ['0449003787'], 'P Is for Peril': ['0449003795'], 'Seabiscuit: An American Legend': ['0449005615'], 'Manhattan Hunt Club': ['0449006522'], 'Dances With Wolves': ['0449134482'], 'Space': ['0449203794'], \"The Handmaid's Tale\": ['0449212602'], 'G Is for Gumshoe (Kinsey Millhone Mysteries (Paperback))': ['0449219364'], 'H Is for Homicide (Kinsey Millhone Mysteries (Paperback))': ['0449219461'], 'J Is for Judgment': ['0449221482'], 'L Is for Lawless': ['0449221490'], 'K Is for Killer (Kinsey Millhone Mysteries (Paperback))': ['0449221504'], 'I Is for Innocent': ['0449221512'], 'M Is for Malice': ['0449223604'], 'N Is for Noose': ['0449223612'], 'The Third Twin': ['0449227421'], \"A Thousand Acres (Ballantine Reader's Circle)\": ['0449907481'], 'Moo': ['0449910237'], 'The Sparrow': ['0449912558'], 'Eyes of the Dragon': ['0451151259'], 'Misery': ['0451153553', '0451169522'], 'The Tommyknockers': ['0451156609'], 'The Gunslinger (The Dark Tower, Book 1)': ['0451160525'], \"One Flew Over the Cuckoo's Nest\": ['0451163966'], 'The Pillars of the Earth': ['0451166892'], 'The Dark Half': ['0451167317'], 'The Stand: Complete and Uncut': ['0451169530'], 'Four Past Midnight': ['0451170385'], 'Needful Things': ['0451172817'], \"Gerald's Game\": ['0451176464'], 'Dolores Claiborne': ['0451177096'], 'Nightmares &amp; Dreamscapes': ['0451180232'], 'The Door to December': ['0451181379', '0451205421'], 'A Case of Need': ['0451183665'], 'Insomnia': ['0451184963'], 'Rose Madder': ['0451186362'], 'The Bone Collector (Lincoln Rhyme Novels (Paperback))': ['0451188454'], 'Desperation': ['0451188462'], 'Atlas Shrugged': ['0451191145'], 'The Deep End of the Ocean': ['0451197747'], 'Back Roads': ['0451202341', '0670894184'], 'Scarlet Feather': ['0451203771'], '4 Blondes': ['0451203895'], 'Code to Zero': ['0451204530'], 'Dead Sleep': ['0451206525'], 'Jackdaws': ['0451207521'], '1984': ['0451524934'], 'Animal Farm': ['0451526341'], \"Song of Solomon (Oprah's Book Club (Paperback))\": ['0452260116'], 'Beloved (Plume Contemporary Fiction)': ['0452264464'], 'How the Garcia Girls Lost Their Accents (Plume Contemporary Fiction)': ['0452268060'], 'Bastard Out of Carolina': ['0452269571'], 'Beloved': ['0452280621'], 'Girl with a Pearl Earring': ['0452282152'], 'The Bluest Eye': ['0452282195'], 'We Were the Mulvaneys': ['0452282829'], 'Falling Angels': ['0452283205'], 'The Virgin Blue': ['0452284449'], 'That Camden Summer': ['051511992X'], 'Montana Sky': ['0515120618'], 'Sea Swept (Quinn Brothers (Paperback))': ['0515121843'], 'Sanctuary': ['0515122734'], 'Rising Tides': ['051512317X'], 'Inner Harbor (Quinn Brothers (Paperback))': ['0515124214'], 'The Reef': ['051512608X'], 'Jewels of the Sun (Irish Trilogy)': ['0515126772'], \"River's End\": ['0515127833'], 'Tears of the Moon (Irish Trilogy)': ['0515128546'], 'Heart of the Sea (Irish Trilogy)': ['0515128554'], 'Carolina Moon': ['0515130389'], 'Riptide': ['0515130966'], 'Dance upon the Air (Three Sisters Island Trilogy)': ['0515131229'], 'Heaven and Earth (Three Sisters Island Trilogy)': ['0515132020'], 'The Villa': ['0515132187'], 'Face the Fire (Three Sisters Island Trilogy)': ['051513287X'], 'Hemlock Bay': ['0515133302'], 'Midnight Bayou': ['0515133973'], 'Three Fates': ['0515135062'], 'Eleventh Hour: An FBI Thriller (FBI Thriller (Jove Paperback))': ['0515135739'], 'Key of Light (Key Trilogy (Paperback))': ['051513628X'], 'Key of Knowledge (Key Trilogy (Paperback))': ['0515136379'], 'Key of Valor (Roberts, Nora. Key Trilogy, 3.)': ['0515136530'], 'Lies and the Lying Liars Who Tell Them: A Fair and Balanced Look at the Right': ['0525947647'], 'Siddhartha': ['0553208845'], 'Anne of Green Gables (Anne of Green Gables Novels (Paperback))': ['055321313X'], 'Anne of Avonlea (Anne of Green Gables Novels (Paperback))': ['0553213148'], \"The Clan of the Cave Bear (Earth's Children (Paperback))\": ['0553250426'], 'The Valley of Horses': ['0553250531'], 'The Bourne Identity': ['0553260111'], 'The Prince of Tides': ['0553268880'], 'D Is for Deadbeat (Kinsey Millhone Mysteries (Paperback))': ['0553271636'], 'Night': ['0553272535'], 'The House of the Spirits': ['0553273914'], 'Where the Red Fern Grows': ['0553274295'], 'The Bonfire of the Vanities': ['0553275976'], 'Zen and the Art of Motorcycle Maintenance: An Inquiry into Values': ['0553277472'], 'I Know Why the Caged Bird Sings': ['0553279378'], 'E Is for Evidence: A Kinsey Millhone Mystery (Kinsey Millhone Mysteries (Paperback))': ['0553279556'], 'A Is for Alibi (Kinsey Millhone Mysteries (Paperback))': ['0553279912'], 'B Is for Burglar (Kinsey Millhone Mysteries (Paperback))': ['0553280341'], 'C Is for Corpse (Kinsey Millhone Mysteries (Paperback))': ['0553280368'], \"CAT'S EYE\": ['0553282476'], 'F Is for Fugitive (Kinsey Millhone Mysteries (Paperback))': ['0553284789'], \"The Plains of Passage (Earth's Children (Paperback))\": ['0553289411'], 'Still Waters': ['0553292722'], 'Anne Frank: The Diary of a Young Girl': ['0553296981'], 'Ishmael: An Adventure of the Mind and Spirit': ['0553375407'], 'Dying for Chocolate (Culinary Mysteries (Paperback))': ['0553560247'], 'Cry Wolf': ['055356160X'], 'Dark Paradise': ['0553561618'], 'Night Sins': ['055356451X'], 'Guilty as Sin': ['0553564528'], 'Seinlanguage': ['0553569155'], 'The Ugly Duckling': ['0553569910'], 'Long After Midnight': ['0553571818'], 'A Thin Dark Line (Mysteries &amp; Horror)': ['0553571885'], 'Survival of the Fittest: An Alex Delaware Novel': ['0553572326'], 'The Alienist': ['0553572997'], 'Couplehood': ['0553573136'], 'Beach Music': ['0553574574'], 'The Perfect Husband': ['0553576801'], 'The Face of Deception': ['0553578022'], 'The Next Accident': ['0553578693'], 'Ashes to Ashes': ['0553579606'], 'Fear Nothing': ['0553579754'], 'Seize the Night': ['0553580191'], 'False Memory': ['0553580221'], 'A Man in Full': ['0553580930'], 'The Killing Game: Only One Can Win...and the Loser Dies': ['0553581554'], 'The Search': ['0553582127'], 'Final Target': ['0553582135'], 'Body of Lies': ['0553582143'], 'Dust to Dust': ['0553582526'], 'From the Corner of His Eye': ['0553582747'], 'One Door Away from Heaven': ['0553582755'], \"Harry Potter and the Sorcerer's Stone (Harry Potter (Paperback))\": ['059035342X'], \"The Shelters of Stone (Earth's Children Series, No 5)\": ['0609610597'], \"The Sweet Potato Queens' Book of Love\": ['0609804138'], \"The Deep End of the Ocean (Oprah's Book Club (Hardcover))\": ['0670865796'], 'Bridget Jones : The Edge of Reason': ['0670892963'], 'Silent Night : A Christmas Suspense Story': ['067100042X'], 'Two for the Dough': ['0671001795'], \"She's Come Undone (Oprah's Book Club (Paperback))\": ['0671003755'], 'Contact': ['0671004107'], 'On the Street Where You Live': ['0671004530'], 'You Belong To Me': ['0671004549'], \"We'll Meet Again\": ['0671004565'], 'Before I Say Good-Bye': ['0671004573'], 'Deja Dead': ['0671011367'], 'The Summerhouse': ['0671014196'], 'Forever... : A Novel of Good and Evil, Love and Hope': ['067101420X'], \"She's Come Undone (Oprah's Book Club)\": ['0671021001'], 'Bag of Bones': ['067102423X'], 'Hearts In Atlantis': ['0671024248'], 'The Perks of Being a Wallflower': ['0671027344'], 'Angels &amp; Demons': ['0671027360'], 'Deception Point': ['0671027387'], 'Coast Road: A Novel': ['0671027662'], 'Fatal Voyage': ['0671028375'], 'Jewel': ['0671038184'], 'The Green Mile': ['0671041789'], 'The Blue Nowhere : A Novel': ['0671042262'], \"Jewel (Oprah's Book Club)\": ['0671042572'], 'The Girl Who Loved Tom Gordon': ['0671042858'], 'SHIPPING NEWS': ['0671510053'], 'Let Me Call You Sweetheart': ['0671568175'], 'The Color Purple': ['0671617028', '0671727796'], 'While My Pretty One Sleeps': ['0671673688'], 'The Temple of My Familiar': ['0671683993'], 'Wifey': ['0671693816'], 'Seven Habits Of Highly Effective People': ['0671708635'], 'Loves Music, Loves to Dance': ['0671758896'], 'All Around the Town': ['0671793489'], 'Remember Me': ['0671867091'], 'Moonlight Becomes You': ['0671867113'], \"Pretend You Don't See Her\": ['0671867156'], 'The Lottery Winner : Alvirah And Willy Stories': ['0671867172'], \"Schindler's List\": ['0671880314'], \"I'll Be Seeing You\": ['0671888587'], 'FORREST GUMP (Movie Tie in)': ['0671894455'], 'Midnight in the Garden of Good and Evil: A Savannah Story': ['0679429220'], 'A Year in Provence': ['0679731148'], 'The Remains of the Day (Vintage International)': ['0679731725'], 'The House on Mango Street (Vintage Contemporaries)': ['0679734775'], 'American Psycho (Vintage Contemporaries)': ['0679735771'], 'Possession : A Romance': ['0679735909'], 'All the Pretty Horses (The Border Trilogy, Vol 1)': ['0679744398'], 'The English Patient': ['0679745203'], 'Girl, Interrupted': ['0679746048'], 'Midnight in the Garden of Good and Evil': ['0679751521'], \"Corelli's Mandolin : A Novel\": ['067976397X'], 'Snow Falling on Cedars': ['067976402X'], 'A Civil Action': ['0679772677'], 'The Great Gatsby': ['0684801523'], 'Catch 22': ['0684833395'], \"Angela's Ashes: A Memoir\": ['068484267X'], 'STONES FROM THE RIVER': ['068484477X'], 'Tis : A Memoir': ['0684848783'], 'Tis: A Memoir': ['0684865742'], 'The Girl Who Loved Tom Gordon : A Novel': ['0684867621'], \"Angela's Ashes (MMP) : A Memoir\": ['0684872153'], \"ANGELA'S ASHES\": ['0684874350'], 'Miss Julia Speaks Her Mind : A Novel': ['0688177751'], \"Ahab's Wife: Or, The Star-Gazer: A Novel\": ['0688177859'], 'Gap Creek: The Story Of A Marriage': ['0743203631'], \"Daddy's Little Girl\": ['0743206045', '0743460529'], 'From a Buick 8 : A Novel': ['0743211375'], 'Dreamcatcher': ['0743211383', '074343627X', '0743467523'], 'A Beautiful Mind: The Life of Mathematical Genius and Nobel Laureate John Nash': ['0743224574'], 'The Shipping News : A Novel': ['0743225406'], 'The Other Boleyn Girl': ['0743227441'], 'Fall On Your Knees (Oprah #45)': ['0743237188'], 'The Woman Next Door': ['0743411250'], 'Pay It Forward': ['0743412028'], 'Good in Bed': ['0743418174'], 'In Her Shoes : A Novel': ['0743418204'], 'Hearts in Atlantis': ['0743436210'], 'The Mulberry Tree': ['0743437640'], 'The Stone Monkey (Lincoln Rhyme Novels (Paperback))': ['0743437802'], \"Everything's Eventual : 14 Dark Tales\": ['0743457358'], 'Under the Tuscan Sun': ['0767900383'], 'A Walk in the Woods: Rediscovering America on the Appalachian Trail (Official Guides to the Appalachian Trail)': ['0767902521'], 'Jemima J: A Novel About Ugly Ducklings and Swans': ['0767905180'], 'Catch Me If You Can: The True Story of a Real Fake': ['0767905385'], 'A Girl Named Zippy: Growing Up Small in Mooreland Indiana (Today Show Book Club #3)': ['0767915054'], 'Artemis Fowl (Artemis Fowl, Book 1)': ['0786817070'], 'Shopgirl : A Novella': ['0786866586'], 'Lucky Man: A Memoir': ['0786867647'], 'The Five People You Meet in Heaven': ['0786868716'], \"Don't Sweat the Small Stuff and It's All Small Stuff : Simple Ways to Keep the Little Things from Taking Over Your Life (Don't Sweat the Small Stuff Series)\": ['0786881852'], 'Shopgirl': ['0786885688'], \"Don't Stand Too Close to a Naked Man\": ['0786889020'], 'A Confederacy of Dunces (Evergreen Book)': ['0802130208'], 'Four Blondes': ['080213825X'], 'Peace Like a River': ['0802139256'], 'All I Really Need to Know': ['080410526X'], 'It Was on Fire When I Lay Down on It': ['0804105820'], 'The Joy Luck Club': ['0804106304'], \"The Kitchen God's Wife\": ['080410753X'], 'The Hundred Secret Senses': ['080411109X'], 'Secret History': ['0804111359'], 'Thousand Acres': ['0804115761'], 'Welcome to the World, Baby Girl!': ['080411868X'], 'A Patchwork Planet': ['080411918X'], 'Standing in the Rainbow': ['080411935X'], 'Nickel and Dimed: On (Not) Getting By in America': ['0805063897'], 'The Eye of the World (The Wheel of Time, Book 1)': ['0812511816'], \"Ender's Game (Ender Wiggins Saga (Paperback))\": ['0812550706'], \"Left Behind: A Novel of the Earth's Last Days (Left Behind No. 1)\": ['0842329129'], 'Tribulation Force: The Continuing Drama of Those Left Behind (Left Behind No. 2)': ['0842329218'], 'Nicolae: The Rise of Antichrist (Left Behind No. 3)': ['0842329242'], 'Soul Harvest: The World Takes Sides (Left Behind No. 4)': ['0842329250'], \"Left Behind: A Novel of the Earth's Last Days (Left Behind #1)\": ['0842342702'], 'Cold Mountain': ['0871136791'], \"What to Expect When You're Expecting (Revised Edition)\": ['089480829X'], 'Wild Animus': ['0971880107'], 'A Fine Balance': ['140003065X'], \"The No. 1 Ladies' Detective Agency\": ['1400031346'], 'Tears of the Giraffe (No.1 Ladies Detective Agency)': ['1400031354'], 'Morality for Beautiful Girls (No.1 Ladies Detective Agency)': ['1400031362'], \"The No. 1 Ladies' Detective Agency (Today Show Book Club #8)\": ['1400034779'], 'Beach House': ['1551668998'], 'Chicken Soup for the Soul (Chicken Soup for the Soul)': ['155874262X'], 'A Child Called \\\\It\\\\\": One Child\\'s Courage to Survive\"': ['1558743669'], \"Chicken Soup for the Woman's Soul (Chicken Soup for the Soul Series (Paper))\": ['1558744150'], 'Chicken Soup for the Teenage Soul (Chicken Soup for the Soul)': ['1558744630'], \"The Lost Boy: A Foster Child's Search for the Love of a Family\": ['1558745157'], 'Call of the Wild': ['1559029838'], 'High Fidelity': ['1573225517'], \"The Color of Water: A Black Man's Tribute to His White Mother\": ['1573225789'], 'About a Boy': ['1573227331'], 'How to Be Good': ['1573229326'], 'About a Boy (Movie Tie-In)': ['1573229571'], 'Eats, Shoots &amp; Leaves: The Zero Tolerance Approach to Punctuation': ['1592400876'], 'The Four Agreements: A Practical Guide to Personal Freedom': ['1878424319']}\n"
          ]
        }
      ]
    },
    {
      "cell_type": "code",
      "source": [
        "hashmap = df_books.set_index('isbn').filter(items = list(df_book_features.index), axis=0).to_dict()['title']\n",
        "hashmap1 = dict(map(reversed, hashmap.items()))\n",
        "hashmap2 = list(df_book_features.index)\n",
        "print(hashmap2.index(hashmap1[\"Where the Heart Is (Oprah's Book Club (Paperback))\"]))\n",
        "print(hashmap[hashmap2[435]])"
      ],
      "metadata": {
        "colab": {
          "base_uri": "https://localhost:8080/"
        },
        "id": "tkkZMHrVkmbF",
        "outputId": "126922d4-1d75-4b3d-cc50-b350fd783a95"
      },
      "execution_count": null,
      "outputs": [
        {
          "output_type": "stream",
          "name": "stdout",
          "text": [
            "435\n",
            "Where the Heart Is (Oprah's Book Club (Paperback))\n"
          ]
        }
      ]
    },
    {
      "cell_type": "code",
      "execution_count": null,
      "metadata": {
        "id": "f5ZUd-L1SQz7"
      },
      "outputs": [],
      "source": [
        "# function to return recommended books - this will be tested\n",
        "def get_recommends(book = \"\"):\n",
        "  model.fit(mat_book_features)\n",
        "  book_code = hashmap2.index(hashmap1[book])\n",
        "  recommendation = model.kneighbors(mat_book_features[book_code],n_neighbors=6)\n",
        "  list_books = []\n",
        "  for idx, book_index in enumerate(recommendation[1][0]):\n",
        "    test = [hashmap[hashmap2[book_index]], recommendation[0][0][idx]]\n",
        "    list_books.append(test)\n",
        "  recommended_books = book, list_books[2:]\n",
        "  return recommended_books"
      ]
    },
    {
      "cell_type": "markdown",
      "metadata": {
        "id": "eat9A2TKawHU"
      },
      "source": [
        "Use the cell below to test your function. The `test_book_recommendation()` function will inform you if you passed the challenge or need to keep trying."
      ]
    },
    {
      "cell_type": "code",
      "execution_count": null,
      "metadata": {
        "id": "jd2SLCh8oxMh",
        "colab": {
          "base_uri": "https://localhost:8080/"
        },
        "outputId": "3e100c81-419d-4f21-e1ab-79b487a2b985"
      },
      "outputs": [
        {
          "output_type": "stream",
          "name": "stdout",
          "text": [
            "(\"Where the Heart Is (Oprah's Book Club (Paperback))\", [['I Know This Much Is True', 0.7677075], ['The Surgeon', 0.7699411], ['The Weight of Water', 0.77085835], [\"I'll Be Seeing You\", 0.8016211]])\n",
            "You passed the challenge! 🎉🎉🎉🎉🎉\n"
          ]
        }
      ],
      "source": [
        "books = get_recommends(\"Where the Heart Is (Oprah's Book Club (Paperback))\")\n",
        "print(books)\n",
        "\n",
        "def test_book_recommendation():\n",
        "  test_pass = True\n",
        "  recommends = get_recommends(\"Where the Heart Is (Oprah's Book Club (Paperback))\")\n",
        "  if recommends[0] != \"Where the Heart Is (Oprah's Book Club (Paperback))\":\n",
        "    test_pass = False\n",
        "  recommended_books = [\"I'll Be Seeing You\", 'The Weight of Water', 'The Surgeon', 'I Know This Much Is True']\n",
        "  recommended_books_dist = [0.8, 0.77, 0.77, 0.77]\n",
        "  for i in range(2): \n",
        "    if recommends[1][i][0] not in recommended_books:\n",
        "      test_pass = False\n",
        "    if abs(recommends[1][i][1] - recommended_books_dist[i]) >= 0.05:\n",
        "      test_pass = False\n",
        "  if test_pass:\n",
        "    print(\"You passed the challenge! 🎉🎉🎉🎉🎉\")\n",
        "  else:\n",
        "    print(\"You haven't passed yet. Keep trying!\")\n",
        "\n",
        "test_book_recommendation()"
      ]
    },
    {
      "cell_type": "markdown",
      "source": [
        "## Implementing a fuzzy finder in our database of books"
      ],
      "metadata": {
        "id": "NP1CSE1U9hn7"
      }
    },
    {
      "cell_type": "code",
      "source": [
        "!pip install fuzzywuzzy\n",
        "from fuzzywuzzy import fuzz\n",
        "def match(book):\n",
        "  match_tuple = []\n",
        "  # get match\n",
        "  for title, isbn in hashmap1.items():\n",
        "    ratio = fuzz.ratio(title.lower(), book.lower())\n",
        "    if ratio >= 50:\n",
        "      match_tuple.append((title, ratio))\n",
        "  # sort\n",
        "  match_tuple = sorted(match_tuple, key=lambda x: x[1])[::-1]\n",
        "  if not match_tuple:\n",
        "    print('Oops! No match is found')\n",
        "  else:\n",
        "    print('Found possible matches in our database: ' '{0}\\n'.format([x[0] for x in match_tuple]))\n",
        "  return match_tuple[0][0]"
      ],
      "metadata": {
        "colab": {
          "base_uri": "https://localhost:8080/"
        },
        "id": "PfqPu3ML4fpJ",
        "outputId": "e518e9ce-9587-4d57-a9c2-13d335cf3765"
      },
      "execution_count": null,
      "outputs": [
        {
          "output_type": "stream",
          "name": "stdout",
          "text": [
            "Requirement already satisfied: fuzzywuzzy in /usr/local/lib/python3.7/dist-packages (0.18.0)\n"
          ]
        }
      ]
    },
    {
      "cell_type": "code",
      "source": [
        "match(\"the Life of pi\")"
      ],
      "metadata": {
        "colab": {
          "base_uri": "https://localhost:8080/",
          "height": 90
        },
        "id": "bjFjjDBL-gBk",
        "outputId": "81f20907-6445-444b-c30e-fb076bb66aed"
      },
      "execution_count": null,
      "outputs": [
        {
          "output_type": "stream",
          "name": "stdout",
          "text": [
            "Found possible matches in our database: ['Life of Pi', 'The Face of Deception', 'The Prince of Tides', 'The Secret Life of Bees', 'The Loop', 'The Alienist', 'The Tao of Pooh', 'The Color of Magic', 'The Burden of Proof', 'The Valley of Horses', 'The House of the Spirits', 'The King of Torts', 'The Client', 'The Temple of My Familiar', 'The English Patient', 'The Reef', 'The Firm', 'The Key to Midnight', 'The Mists of Avalon', 'The Weight of Water', 'The Bonfire of the Vanities', 'The Eyes of Darkness', 'The House of Thunder', \"The Pilot's Wife\", 'The Pelican Brief', 'The Last Precinct', 'The Bridges of Madison County', 'The Rapture of Canaan', 'The Angel of Darkness', 'Peace Like a River', 'The Green Mile', 'From the Corner of His Eye', 'The Bluest Eye', 'The Third Twin', 'P Is for Peril', 'The Winner', 'The Accidental Tourist', 'The Last Juror', 'The Blind Assassin', 'The Lost World', \"The Pilot's Wife : A Novel\"]\n",
            "\n"
          ]
        },
        {
          "output_type": "execute_result",
          "data": {
            "application/vnd.google.colaboratory.intrinsic+json": {
              "type": "string"
            },
            "text/plain": [
              "'Life of Pi'"
            ]
          },
          "metadata": {},
          "execution_count": 94
        }
      ]
    },
    {
      "cell_type": "code",
      "source": [
        "books = get_recommends(match(\"the Life of pi\"))\n",
        "print(books)"
      ],
      "metadata": {
        "colab": {
          "base_uri": "https://localhost:8080/"
        },
        "id": "Qngmegkl8zpQ",
        "outputId": "d21b9b05-7501-4c9a-8f36-176548847ec8"
      },
      "execution_count": null,
      "outputs": [
        {
          "output_type": "stream",
          "name": "stdout",
          "text": [
            "Found possible matches in our database: ['Life of Pi', 'The Face of Deception', 'The Prince of Tides', 'The Secret Life of Bees', 'The Loop', 'The Alienist', 'The Tao of Pooh', 'The Color of Magic', 'The Burden of Proof', 'The Valley of Horses', 'The House of the Spirits', 'The King of Torts', 'The Client', 'The Temple of My Familiar', 'The English Patient', 'The Reef', 'The Firm', 'The Key to Midnight', 'The Mists of Avalon', 'The Weight of Water', 'The Bonfire of the Vanities', 'The Eyes of Darkness', 'The House of Thunder', \"The Pilot's Wife\", 'The Pelican Brief', 'The Last Precinct', 'The Bridges of Madison County', 'The Rapture of Canaan', 'The Angel of Darkness', 'Peace Like a River', 'The Green Mile', 'From the Corner of His Eye', 'The Bluest Eye', 'The Third Twin', 'P Is for Peril', 'The Winner', 'The Accidental Tourist', 'The Last Juror', 'The Blind Assassin', 'The Lost World', \"The Pilot's Wife : A Novel\"]\n",
            "\n",
            "('Life of Pi', [['The Four Agreements: A Practical Guide to Personal Freedom', 0.7600024], ['Daughter of Fortune: A Novel', 0.76325905], ['Welcome to Temptation', 0.7922793], ['A Confederacy of Dunces (Evergreen Book)', 0.79463744]])\n"
          ]
        }
      ]
    }
  ],
  "metadata": {
    "colab": {
      "collapsed_sections": [],
      "name": "fcc_book_recommendation_knn.ipynb",
      "provenance": [],
      "include_colab_link": true
    },
    "kernelspec": {
      "display_name": "Python 3",
      "language": "python",
      "name": "python3"
    },
    "language_info": {
      "codemirror_mode": {
        "name": "ipython",
        "version": 3
      },
      "file_extension": ".py",
      "mimetype": "text/x-python",
      "name": "python",
      "nbconvert_exporter": "python",
      "pygments_lexer": "ipython3",
      "version": "3.6.5"
    }
  },
  "nbformat": 4,
  "nbformat_minor": 0
}
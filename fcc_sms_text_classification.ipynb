{
  "cells": [
    {
      "cell_type": "markdown",
      "metadata": {
        "id": "view-in-github",
        "colab_type": "text"
      },
      "source": [
        "<a href=\"https://colab.research.google.com/github/fabriciocgf/fcc_machine_learning/blob/main/fcc_sms_text_classification.ipynb\" target=\"_parent\"><img src=\"https://colab.research.google.com/assets/colab-badge.svg\" alt=\"Open In Colab\"/></a>"
      ]
    },
    {
      "cell_type": "markdown",
      "metadata": {
        "id": "Eg62Pmz3o83v"
      },
      "source": [
        "*Note: You are currently reading this using Google Colaboratory which is a cloud-hosted version of Jupyter Notebook. This is a document containing both text cells for documentation and runnable code cells. If you are unfamiliar with Jupyter Notebook, watch this 3-minute introduction before starting this challenge: https://www.youtube.com/watch?v=inN8seMm7UI*\n",
        "\n",
        "---\n",
        "\n",
        "In this challenge, you need to create a machine learning model that will classify SMS messages as either \"ham\" or \"spam\". A \"ham\" message is a normal message sent by a friend. A \"spam\" message is an advertisement or a message sent by a company.\n",
        "\n",
        "You should create a function called `predict_message` that takes a message string as an argument and returns a list. The first element in the list should be a number between zero and one that indicates the likeliness of \"ham\" (0) or \"spam\" (1). The second element in the list should be the word \"ham\" or \"spam\", depending on which is most likely.\n",
        "\n",
        "For this challenge, you will use the [SMS Spam Collection dataset](http://www.dt.fee.unicamp.br/~tiago/smsspamcollection/). The dataset has already been grouped into train data and test data.\n",
        "\n",
        "The first two cells import the libraries and data. The final cell tests your model and function. Add your code in between these cells.\n"
      ]
    },
    {
      "cell_type": "code",
      "execution_count": 1,
      "metadata": {
        "id": "8RZOuS9LWQvv",
        "colab": {
          "base_uri": "https://localhost:8080/"
        },
        "outputId": "384ab269-3b13-4640-91b3-93b4b929f7b6"
      },
      "outputs": [
        {
          "output_type": "stream",
          "name": "stdout",
          "text": [
            "2.7.0\n"
          ]
        }
      ],
      "source": [
        "import tensorflow as tf\n",
        "import pandas as pd\n",
        "from tensorflow import keras\n",
        "import numpy as np\n",
        "import matplotlib.pyplot as plt\n",
        "\n",
        "print(tf.__version__)"
      ]
    },
    {
      "cell_type": "code",
      "execution_count": 2,
      "metadata": {
        "id": "lMHwYXHXCar3",
        "colab": {
          "base_uri": "https://localhost:8080/"
        },
        "outputId": "716ccd1b-35d3-4338-c860-c697c28f6e2d"
      },
      "outputs": [
        {
          "output_type": "stream",
          "name": "stdout",
          "text": [
            "--2022-01-29 03:09:46--  https://cdn.freecodecamp.org/project-data/sms/train-data.tsv\n",
            "Resolving cdn.freecodecamp.org (cdn.freecodecamp.org)... 104.26.2.33, 104.26.3.33, 172.67.70.149, ...\n",
            "Connecting to cdn.freecodecamp.org (cdn.freecodecamp.org)|104.26.2.33|:443... connected.\n",
            "HTTP request sent, awaiting response... 200 OK\n",
            "Length: 358233 (350K) [text/tab-separated-values]\n",
            "Saving to: ‘train-data.tsv’\n",
            "\n",
            "train-data.tsv      100%[===================>] 349.84K  --.-KB/s    in 0.005s  \n",
            "\n",
            "2022-01-29 03:09:46 (67.9 MB/s) - ‘train-data.tsv’ saved [358233/358233]\n",
            "\n",
            "--2022-01-29 03:09:46--  https://cdn.freecodecamp.org/project-data/sms/valid-data.tsv\n",
            "Resolving cdn.freecodecamp.org (cdn.freecodecamp.org)... 104.26.2.33, 104.26.3.33, 172.67.70.149, ...\n",
            "Connecting to cdn.freecodecamp.org (cdn.freecodecamp.org)|104.26.2.33|:443... connected.\n",
            "HTTP request sent, awaiting response... 200 OK\n",
            "Length: 118774 (116K) [text/tab-separated-values]\n",
            "Saving to: ‘valid-data.tsv’\n",
            "\n",
            "valid-data.tsv      100%[===================>] 115.99K  --.-KB/s    in 0.002s  \n",
            "\n",
            "2022-01-29 03:09:46 (58.0 MB/s) - ‘valid-data.tsv’ saved [118774/118774]\n",
            "\n"
          ]
        }
      ],
      "source": [
        "# get data files\n",
        "!wget https://cdn.freecodecamp.org/project-data/sms/train-data.tsv\n",
        "!wget https://cdn.freecodecamp.org/project-data/sms/valid-data.tsv\n",
        "\n",
        "train_file_path = \"train-data.tsv\"\n",
        "test_file_path = \"valid-data.tsv\""
      ]
    },
    {
      "cell_type": "code",
      "execution_count": 3,
      "metadata": {
        "id": "g_h508FEClxO",
        "colab": {
          "base_uri": "https://localhost:8080/",
          "height": 206
        },
        "outputId": "84b7b247-6d95-41e5-af37-b7e100008568"
      },
      "outputs": [
        {
          "output_type": "execute_result",
          "data": {
            "text/html": [
              "\n",
              "  <div id=\"df-95905a24-42c2-4902-ab12-477f29535b09\">\n",
              "    <div class=\"colab-df-container\">\n",
              "      <div>\n",
              "<style scoped>\n",
              "    .dataframe tbody tr th:only-of-type {\n",
              "        vertical-align: middle;\n",
              "    }\n",
              "\n",
              "    .dataframe tbody tr th {\n",
              "        vertical-align: top;\n",
              "    }\n",
              "\n",
              "    .dataframe thead th {\n",
              "        text-align: right;\n",
              "    }\n",
              "</style>\n",
              "<table border=\"1\" class=\"dataframe\">\n",
              "  <thead>\n",
              "    <tr style=\"text-align: right;\">\n",
              "      <th></th>\n",
              "      <th>text</th>\n",
              "      <th>type_ham</th>\n",
              "      <th>type_spam</th>\n",
              "    </tr>\n",
              "  </thead>\n",
              "  <tbody>\n",
              "    <tr>\n",
              "      <th>4174</th>\n",
              "      <td>just woke up. yeesh its late. but i didn't fal...</td>\n",
              "      <td>1</td>\n",
              "      <td>0</td>\n",
              "    </tr>\n",
              "    <tr>\n",
              "      <th>4175</th>\n",
              "      <td>what do u reckon as need 2 arrange transport i...</td>\n",
              "      <td>1</td>\n",
              "      <td>0</td>\n",
              "    </tr>\n",
              "    <tr>\n",
              "      <th>4176</th>\n",
              "      <td>free entry into our £250 weekly competition ju...</td>\n",
              "      <td>0</td>\n",
              "      <td>1</td>\n",
              "    </tr>\n",
              "    <tr>\n",
              "      <th>4177</th>\n",
              "      <td>-pls stop bootydelious (32/f) is inviting you ...</td>\n",
              "      <td>0</td>\n",
              "      <td>1</td>\n",
              "    </tr>\n",
              "    <tr>\n",
              "      <th>4178</th>\n",
              "      <td>tell my  bad character which u dnt lik in me. ...</td>\n",
              "      <td>1</td>\n",
              "      <td>0</td>\n",
              "    </tr>\n",
              "  </tbody>\n",
              "</table>\n",
              "</div>\n",
              "      <button class=\"colab-df-convert\" onclick=\"convertToInteractive('df-95905a24-42c2-4902-ab12-477f29535b09')\"\n",
              "              title=\"Convert this dataframe to an interactive table.\"\n",
              "              style=\"display:none;\">\n",
              "        \n",
              "  <svg xmlns=\"http://www.w3.org/2000/svg\" height=\"24px\"viewBox=\"0 0 24 24\"\n",
              "       width=\"24px\">\n",
              "    <path d=\"M0 0h24v24H0V0z\" fill=\"none\"/>\n",
              "    <path d=\"M18.56 5.44l.94 2.06.94-2.06 2.06-.94-2.06-.94-.94-2.06-.94 2.06-2.06.94zm-11 1L8.5 8.5l.94-2.06 2.06-.94-2.06-.94L8.5 2.5l-.94 2.06-2.06.94zm10 10l.94 2.06.94-2.06 2.06-.94-2.06-.94-.94-2.06-.94 2.06-2.06.94z\"/><path d=\"M17.41 7.96l-1.37-1.37c-.4-.4-.92-.59-1.43-.59-.52 0-1.04.2-1.43.59L10.3 9.45l-7.72 7.72c-.78.78-.78 2.05 0 2.83L4 21.41c.39.39.9.59 1.41.59.51 0 1.02-.2 1.41-.59l7.78-7.78 2.81-2.81c.8-.78.8-2.07 0-2.86zM5.41 20L4 18.59l7.72-7.72 1.47 1.35L5.41 20z\"/>\n",
              "  </svg>\n",
              "      </button>\n",
              "      \n",
              "  <style>\n",
              "    .colab-df-container {\n",
              "      display:flex;\n",
              "      flex-wrap:wrap;\n",
              "      gap: 12px;\n",
              "    }\n",
              "\n",
              "    .colab-df-convert {\n",
              "      background-color: #E8F0FE;\n",
              "      border: none;\n",
              "      border-radius: 50%;\n",
              "      cursor: pointer;\n",
              "      display: none;\n",
              "      fill: #1967D2;\n",
              "      height: 32px;\n",
              "      padding: 0 0 0 0;\n",
              "      width: 32px;\n",
              "    }\n",
              "\n",
              "    .colab-df-convert:hover {\n",
              "      background-color: #E2EBFA;\n",
              "      box-shadow: 0px 1px 2px rgba(60, 64, 67, 0.3), 0px 1px 3px 1px rgba(60, 64, 67, 0.15);\n",
              "      fill: #174EA6;\n",
              "    }\n",
              "\n",
              "    [theme=dark] .colab-df-convert {\n",
              "      background-color: #3B4455;\n",
              "      fill: #D2E3FC;\n",
              "    }\n",
              "\n",
              "    [theme=dark] .colab-df-convert:hover {\n",
              "      background-color: #434B5C;\n",
              "      box-shadow: 0px 1px 3px 1px rgba(0, 0, 0, 0.15);\n",
              "      filter: drop-shadow(0px 1px 2px rgba(0, 0, 0, 0.3));\n",
              "      fill: #FFFFFF;\n",
              "    }\n",
              "  </style>\n",
              "\n",
              "      <script>\n",
              "        const buttonEl =\n",
              "          document.querySelector('#df-95905a24-42c2-4902-ab12-477f29535b09 button.colab-df-convert');\n",
              "        buttonEl.style.display =\n",
              "          google.colab.kernel.accessAllowed ? 'block' : 'none';\n",
              "\n",
              "        async function convertToInteractive(key) {\n",
              "          const element = document.querySelector('#df-95905a24-42c2-4902-ab12-477f29535b09');\n",
              "          const dataTable =\n",
              "            await google.colab.kernel.invokeFunction('convertToInteractive',\n",
              "                                                     [key], {});\n",
              "          if (!dataTable) return;\n",
              "\n",
              "          const docLinkHtml = 'Like what you see? Visit the ' +\n",
              "            '<a target=\"_blank\" href=https://colab.research.google.com/notebooks/data_table.ipynb>data table notebook</a>'\n",
              "            + ' to learn more about interactive tables.';\n",
              "          element.innerHTML = '';\n",
              "          dataTable['output_type'] = 'display_data';\n",
              "          await google.colab.output.renderOutput(dataTable, element);\n",
              "          const docLink = document.createElement('div');\n",
              "          docLink.innerHTML = docLinkHtml;\n",
              "          element.appendChild(docLink);\n",
              "        }\n",
              "      </script>\n",
              "    </div>\n",
              "  </div>\n",
              "  "
            ],
            "text/plain": [
              "                                                   text  type_ham  type_spam\n",
              "4174  just woke up. yeesh its late. but i didn't fal...         1          0\n",
              "4175  what do u reckon as need 2 arrange transport i...         1          0\n",
              "4176  free entry into our £250 weekly competition ju...         0          1\n",
              "4177  -pls stop bootydelious (32/f) is inviting you ...         0          1\n",
              "4178  tell my  bad character which u dnt lik in me. ...         1          0"
            ]
          },
          "metadata": {},
          "execution_count": 3
        }
      ],
      "source": [
        "train_df = pd.read_csv(train_file_path, sep='\\t', names=['type','text'], header=None)\n",
        "one_hot_encoded_train = pd.get_dummies(train_df, columns = ['type'])\n",
        "one_hot_encoded_train.tail()"
      ]
    },
    {
      "cell_type": "code",
      "execution_count": 4,
      "metadata": {
        "id": "zOMKywn4zReN",
        "colab": {
          "base_uri": "https://localhost:8080/",
          "height": 206
        },
        "outputId": "945b0fb3-0872-495c-d4be-1a3286ad1233"
      },
      "outputs": [
        {
          "output_type": "execute_result",
          "data": {
            "text/html": [
              "\n",
              "  <div id=\"df-7c253e2d-26fb-4520-8c79-8aa2709335e7\">\n",
              "    <div class=\"colab-df-container\">\n",
              "      <div>\n",
              "<style scoped>\n",
              "    .dataframe tbody tr th:only-of-type {\n",
              "        vertical-align: middle;\n",
              "    }\n",
              "\n",
              "    .dataframe tbody tr th {\n",
              "        vertical-align: top;\n",
              "    }\n",
              "\n",
              "    .dataframe thead th {\n",
              "        text-align: right;\n",
              "    }\n",
              "</style>\n",
              "<table border=\"1\" class=\"dataframe\">\n",
              "  <thead>\n",
              "    <tr style=\"text-align: right;\">\n",
              "      <th></th>\n",
              "      <th>text</th>\n",
              "      <th>type_ham</th>\n",
              "      <th>type_spam</th>\n",
              "    </tr>\n",
              "  </thead>\n",
              "  <tbody>\n",
              "    <tr>\n",
              "      <th>1387</th>\n",
              "      <td>true dear..i sat to pray evening and felt so.s...</td>\n",
              "      <td>1</td>\n",
              "      <td>0</td>\n",
              "    </tr>\n",
              "    <tr>\n",
              "      <th>1388</th>\n",
              "      <td>what will we do in the shower, baby?</td>\n",
              "      <td>1</td>\n",
              "      <td>0</td>\n",
              "    </tr>\n",
              "    <tr>\n",
              "      <th>1389</th>\n",
              "      <td>where are you ? what are you doing ? are yuou ...</td>\n",
              "      <td>1</td>\n",
              "      <td>0</td>\n",
              "    </tr>\n",
              "    <tr>\n",
              "      <th>1390</th>\n",
              "      <td>ur cash-balance is currently 500 pounds - to m...</td>\n",
              "      <td>0</td>\n",
              "      <td>1</td>\n",
              "    </tr>\n",
              "    <tr>\n",
              "      <th>1391</th>\n",
              "      <td>not heard from u4 a while. call 4 rude chat pr...</td>\n",
              "      <td>0</td>\n",
              "      <td>1</td>\n",
              "    </tr>\n",
              "  </tbody>\n",
              "</table>\n",
              "</div>\n",
              "      <button class=\"colab-df-convert\" onclick=\"convertToInteractive('df-7c253e2d-26fb-4520-8c79-8aa2709335e7')\"\n",
              "              title=\"Convert this dataframe to an interactive table.\"\n",
              "              style=\"display:none;\">\n",
              "        \n",
              "  <svg xmlns=\"http://www.w3.org/2000/svg\" height=\"24px\"viewBox=\"0 0 24 24\"\n",
              "       width=\"24px\">\n",
              "    <path d=\"M0 0h24v24H0V0z\" fill=\"none\"/>\n",
              "    <path d=\"M18.56 5.44l.94 2.06.94-2.06 2.06-.94-2.06-.94-.94-2.06-.94 2.06-2.06.94zm-11 1L8.5 8.5l.94-2.06 2.06-.94-2.06-.94L8.5 2.5l-.94 2.06-2.06.94zm10 10l.94 2.06.94-2.06 2.06-.94-2.06-.94-.94-2.06-.94 2.06-2.06.94z\"/><path d=\"M17.41 7.96l-1.37-1.37c-.4-.4-.92-.59-1.43-.59-.52 0-1.04.2-1.43.59L10.3 9.45l-7.72 7.72c-.78.78-.78 2.05 0 2.83L4 21.41c.39.39.9.59 1.41.59.51 0 1.02-.2 1.41-.59l7.78-7.78 2.81-2.81c.8-.78.8-2.07 0-2.86zM5.41 20L4 18.59l7.72-7.72 1.47 1.35L5.41 20z\"/>\n",
              "  </svg>\n",
              "      </button>\n",
              "      \n",
              "  <style>\n",
              "    .colab-df-container {\n",
              "      display:flex;\n",
              "      flex-wrap:wrap;\n",
              "      gap: 12px;\n",
              "    }\n",
              "\n",
              "    .colab-df-convert {\n",
              "      background-color: #E8F0FE;\n",
              "      border: none;\n",
              "      border-radius: 50%;\n",
              "      cursor: pointer;\n",
              "      display: none;\n",
              "      fill: #1967D2;\n",
              "      height: 32px;\n",
              "      padding: 0 0 0 0;\n",
              "      width: 32px;\n",
              "    }\n",
              "\n",
              "    .colab-df-convert:hover {\n",
              "      background-color: #E2EBFA;\n",
              "      box-shadow: 0px 1px 2px rgba(60, 64, 67, 0.3), 0px 1px 3px 1px rgba(60, 64, 67, 0.15);\n",
              "      fill: #174EA6;\n",
              "    }\n",
              "\n",
              "    [theme=dark] .colab-df-convert {\n",
              "      background-color: #3B4455;\n",
              "      fill: #D2E3FC;\n",
              "    }\n",
              "\n",
              "    [theme=dark] .colab-df-convert:hover {\n",
              "      background-color: #434B5C;\n",
              "      box-shadow: 0px 1px 3px 1px rgba(0, 0, 0, 0.15);\n",
              "      filter: drop-shadow(0px 1px 2px rgba(0, 0, 0, 0.3));\n",
              "      fill: #FFFFFF;\n",
              "    }\n",
              "  </style>\n",
              "\n",
              "      <script>\n",
              "        const buttonEl =\n",
              "          document.querySelector('#df-7c253e2d-26fb-4520-8c79-8aa2709335e7 button.colab-df-convert');\n",
              "        buttonEl.style.display =\n",
              "          google.colab.kernel.accessAllowed ? 'block' : 'none';\n",
              "\n",
              "        async function convertToInteractive(key) {\n",
              "          const element = document.querySelector('#df-7c253e2d-26fb-4520-8c79-8aa2709335e7');\n",
              "          const dataTable =\n",
              "            await google.colab.kernel.invokeFunction('convertToInteractive',\n",
              "                                                     [key], {});\n",
              "          if (!dataTable) return;\n",
              "\n",
              "          const docLinkHtml = 'Like what you see? Visit the ' +\n",
              "            '<a target=\"_blank\" href=https://colab.research.google.com/notebooks/data_table.ipynb>data table notebook</a>'\n",
              "            + ' to learn more about interactive tables.';\n",
              "          element.innerHTML = '';\n",
              "          dataTable['output_type'] = 'display_data';\n",
              "          await google.colab.output.renderOutput(dataTable, element);\n",
              "          const docLink = document.createElement('div');\n",
              "          docLink.innerHTML = docLinkHtml;\n",
              "          element.appendChild(docLink);\n",
              "        }\n",
              "      </script>\n",
              "    </div>\n",
              "  </div>\n",
              "  "
            ],
            "text/plain": [
              "                                                   text  type_ham  type_spam\n",
              "1387  true dear..i sat to pray evening and felt so.s...         1          0\n",
              "1388               what will we do in the shower, baby?         1          0\n",
              "1389  where are you ? what are you doing ? are yuou ...         1          0\n",
              "1390  ur cash-balance is currently 500 pounds - to m...         0          1\n",
              "1391  not heard from u4 a while. call 4 rude chat pr...         0          1"
            ]
          },
          "metadata": {},
          "execution_count": 4
        }
      ],
      "source": [
        "test_df = pd.read_csv(test_file_path, sep='\\t', names=['type','text'], header=None)\n",
        "one_hot_encoded_test = pd.get_dummies(test_df, columns = ['type'])\n",
        "one_hot_encoded_test.tail()"
      ]
    },
    {
      "cell_type": "code",
      "source": [
        "import nltk\n",
        "nltk.download('wordnet')\n",
        "nltk.download('punkt')\n",
        "\n",
        "#Aplicando uma função para tokenizar por palavra\n",
        "one_hot_encoded_train['text'] = one_hot_encoded_train.apply(lambda row: nltk.word_tokenize(row['text']), axis=1)\n",
        "one_hot_encoded_test['text'] = one_hot_encoded_test.apply(lambda row: nltk.word_tokenize(row['text']), axis=1)"
      ],
      "metadata": {
        "id": "q92htZodt1U-",
        "colab": {
          "base_uri": "https://localhost:8080/"
        },
        "outputId": "305d51bc-2b2e-4c4e-e5d5-dae38e2479c0"
      },
      "execution_count": 5,
      "outputs": [
        {
          "output_type": "stream",
          "name": "stdout",
          "text": [
            "[nltk_data] Downloading package wordnet to /root/nltk_data...\n",
            "[nltk_data]   Unzipping corpora/wordnet.zip.\n",
            "[nltk_data] Downloading package punkt to /root/nltk_data...\n",
            "[nltk_data]   Unzipping tokenizers/punkt.zip.\n"
          ]
        }
      ]
    },
    {
      "cell_type": "code",
      "source": [
        "import re\n",
        "\n",
        "from nltk.corpus import stopwords\n",
        "nltk.download('stopwords')\n",
        "language = 'portuguese'\n",
        "\n",
        "#Criando a lista de stopwords\n",
        "stopwords = stopwords.words(language)\n",
        "stopwords = list(set(stopwords))\n",
        "\n",
        "def remove_stopwords(words):\n",
        "    \"\"\"Remover as Stopwords das palavras tokenizadas\"\"\"\n",
        "    new_words = []\n",
        "    for word in words:\n",
        "        if word not in stopwords:\n",
        "            new_words.append(word)\n",
        "    return new_words\n",
        "\n",
        "def to_lowercase(words):\n",
        "    new_words = []\n",
        "    for word in words:\n",
        "        new_word = str(word).lower()\n",
        "        new_words.append(new_word)\n",
        "    return new_words\n",
        "\n",
        "def remove_punctuation(words):\n",
        "    new_words = []\n",
        "    for word in words:\n",
        "        new_word = re.sub(r'[^\\w\\s]', '', word)\n",
        "        if new_word != '':\n",
        "            new_words.append(new_word)\n",
        "    return new_words\n",
        "\n",
        "def normalize(words):\n",
        "    words = to_lowercase(words)\n",
        "    words = remove_punctuation(words)\n",
        "    words = remove_stopwords(words)\n",
        "    return words\n",
        "\n",
        "one_hot_encoded_train['text'] = one_hot_encoded_train.apply(lambda row: normalize(row['text']), axis=1)\n",
        "one_hot_encoded_test['text'] = one_hot_encoded_test.apply(lambda row: normalize(row['text']), axis=1)\n",
        "\n",
        "vocab = one_hot_encoded_train['text'].values.tolist()\n",
        "vocab = [item for sublist in vocab for item in sublist]\n",
        "vocab = list(set(vocab))\n",
        "print(vocab)"
      ],
      "metadata": {
        "id": "eg_238suvsQi",
        "colab": {
          "base_uri": "https://localhost:8080/"
        },
        "outputId": "16b30922-ed2a-4758-ae81-171d0ba5007f"
      },
      "execution_count": 6,
      "outputs": [
        {
          "output_type": "stream",
          "name": "stdout",
          "text": [
            "[nltk_data] Downloading package stopwords to /root/nltk_data...\n",
            "[nltk_data]   Unzipping corpora/stopwords.zip.\n",
            "['kidding', 'ham', '08717898035', 'nig', 'advance', 'jeri', '92h', 'punishment', 'sterm', 'pansy', '29100', 'prizeswith', 'savings', 'butt', 'hint', 'goodfriend', 'shitstorm', 'okey', 'or2optouthv9d', 'colours', 'ciao', 'chgs', 'fren', 'n', 'breather', 'callsmessagesmissed', 'occupy', 'video', 'uh', 'kane', 'air', 'prevent', 'reminding', '85233', 'thet', 'duffer', 'tayseer', 'ne', 'hont', 'arts', '2stoptxt', 'def', 'gonnamissu', 'petrol', '1526', 'opposite', 'page', 'exmpel', 'died', 'changing', 'marsms', 'visitors', 'director', 'sed', 'xuhui', 'leading', 'reduce', 'convincingjust', 'lambda', 'noim', 'reach', 'fb', 'jack', 'gm', 'enketa', 'barely', 'fineinshah', 'neck', 'gona', 'mudyadhu', 'pressure', '3pound', 'lions', 'headstart', 'nope', 'meh', 'timings', 'amy', 'payments', 'help08714742804', 'reminded', 'lubly', 'ultimate', '151', '09111030116', 'shipped', 'cliff', 'naal', 'lovable', 'correction', 'trends', 'mca', 'attending', 'manage', 'jd', 'kept', 'heads', 'fone', 'christians', 'mobileupd8', 'langport', 'depressed', 'w14rg', '6hl', '6zf', 'forfeit', 'je', 'thank', 'govtinstituitions', 'trust', 'ctla', 'yan', '021', 'gbp150week', 'obey', '2stoptx', 'penis', 'stable', 'problemfree', 'temper', '50award', '82277unsub', 'word', '09071517866', 'trishul', 'remind', 'disappointment', 'response', 'euro2004', 'darlings', 'results', 'sliding', 'apparently', 'think', 'sayin', 'sooooo', 'global', 'fair', 'earliest', '100603', 'fights', 'reschedule', 'sariyag', '80122300pwk', '16only', 'from', 'lonely', 'advice', 'fringe', 'award', 'evn', 'sympathetic', 'stifled', 'diddy', 'sunny', 'peak', 'natalja', 'wrking', 'wwwvouch4mecometlpdiningasp', 'juz', 'unemployed', 'hurting', 'aka', 'breaking', 'chikkusimple', 'upgrdcentre', 'charts', 'm95', 'mornings', '3ss', 'webadres', 'sachinjust', 'stand', 'mufti', 'always', 'exams', 'goodenvironment', 'lido', 'studies', 'white', 'stopcs', 'flatter', 'styles', 'contention', 'professional', 'dose', 'luks', '83383', 'didnt', 'reaching', 'nytho', 'mgs', 'diapers', 'looked', 'news', 'grow', 'emailed', 'arises', 'dehydration', 'panalam', 'dinner', 'seven', 'cribbs', 'oops', 'subscrition', 'important', '81151', '1pm', 'billy', 'csstop', '3hrs', '09061209465', 'festival', '5sankatmochan', 'qatar', '69101', 'stitch', 'brownies', 'mwahs', 'debating', 'happily', 'rreveal', 'prescripiton', 'gandhipuram', 'ansr', 'bags', 'bck', 'heard', 'oblisingately', 'againcall', 'places', 'acted', 'color', 'wwwmovietriviatv', 'gnarls', '08709222922', 'gate', 'goodnoon', 'ü', 'bec', 'rv', 'no910', 'report', '1thingi', 'gt', 'ls278bb', '5mls', '6wu', '7634', 'gauge', 'pity', 'aah', 'president', 'toot', 'vegas', 'settle', 'ill', 'kath', 'tot', 'scrappy', 'parish', 'invited', 'sthis', 'constant', 'chg', 'anywhere', 'dreamz', 'unsubscribe', 'perspective', 'immed', 'evone', 'kick', 'offers', 'nicenicehow', 'kiss', 'orange', 'quizwin', 'nalli', '1000call', 'gaytextbuddycom', 'arestaurant', 'unnecessarily', 'bunch', 'replybe', 'applyed', 'ahold', 'hurried', 'sooner', 'survey', 'tog', '08718726970', 'ordered', 'homelove', '2morrow', 'theregoodnight', 'hellohow', 'tms', 'row', 'fridayhope', 'willing', 'pei', 'lily', 'tuth', 'browser', 'xmas', 'kavalan', 'speechless', 'networks', 'cr9', 'maniac', 'relaxing', 'approaching', 'ke', 'help08712400602450p', 'walking', 'be', 'lyfu', 'aeronautics', 'outfit', 'dogbreath', 'cutefrnd', 'tmrw', 'project', 'approve', 'ph08700435505150p', 'hogolo', 'outside', 'accident', 'usualiam', 'audiitions', 'penny', 'b4', 'a50', 'hiya', '09061744553', 'honest', 'send', 'ok', 'guessed', 'fake', 'login', 'litres', 'other', '09058098002', 'mus', 'box420', 'win', 'karo', 'fring', 'cuz', '87066', 'parisfree', 'kill', 'mon', 'korli', 'urgran', '150pmt', 'towards', 'lttrs', 'ta', 'tarpon', 'loxahatchee', 'watch', 'spend', 'wizzle', 'evenings', 'salesman', 'african', 'ay', 'art', 'mac', 'alrite', 'any', 'sarasota', '83338', 'capacity', 'nytec2a3lpmsg', 'ten', '1327', 'php', 'biola', 'everytime', 'spiderman', 'soz', 'onum', 'features', 'rents', '6669', 'idk', 'jas', 'could', 'korean', 'alternativehope', 'reflection', '83222', 'doctors', 'yes434', 'attributed', 'mumtaz', 'vip', 'excited', 'twice', 'ibm', 'movie', 'multiply', 'lots', 'player', 'enjoying', 'goodmorning', 'chinchillas', 'wishing', 'paining', 'waheeda', 'soil', 'blessget', 'reasonable', 'weapon', 'garments', 'times', 'oli', 'claypot', 'stated', 'wwwsmsacuhmmross', 'smoking', 'tyler', 'board', 'weak', 'meow', 'pura', 'bcm4284', 'recently', 'realised', 'opps', '150ppmsg', 'ktv', 'mens', 'eleven', 'waste', 'geeee', '150pmtmsgrcvd18', 'detail', 'hols', 'deeraj', 'rip', 'racing', 'thanks', 'clocks', 'talked', 'into', 'inr', 'loooooool', 'vu', 'outgoing', 'regret', 'break', 'squid', 'gota', 'welcomes', 'thy', 'beerrs', 'drug', 'horniest', '4rowdy', 'notxtcouk', 'member', 'must', 'ummmawill', 'thanx', 'itself', 'allah', 'wear', 'hitteranyway', 'oooooh', 'rael', 'rudi', 'change', 'jst', 'loko', 'med', 'empty', 'ammae', 'love', 'restrictions', 'chachi', 'undrstndng', 'subs', 'uncountable', 'forms', 'fated', 'jerry', '08700621170150p', 'thx', 'certificate', 'adding', '153', 'real1', 'marvel', 'b4280703', 'doublefaggot', 'lasting', '09058097218', 'shitload', 'youre', '3030', '526', '100', 'frauds', 'gd', '15pmin', 'ibored', 'those', 'messy', 'pixels', 'waheed', 'pocketbabecouk', 'rum', '4get', 'access', 'archive', 'much', 'todo', 'kallis', 'l8r', 'uptown', 'mf', 'bcm1896wc1n3xx', 'swiss', 'nevamind', 'yes440', 'favourite', 'scenery', 'doll', 'w4', 'musthu', 'teenager', 'track', 'exe', 'letter', 'line', 'amt', 'deliveredtomorrow', 'jenxxx', 'housewives', 'msn', 'java', 'icky', 'redeemable', '48922', 'freedom', 'fight', 'wake', 'box177', 'age', 'theatre', 'txts', 'callurgent', 'imaginationmy', 'quitting', 'watching', '100psms', 'where', 'alwys', 'values', 'edukkukayee', 'amplikater', 'vatian', 'schedule', 'pockets', 'slave', 'prescription', 'various', 'sachin', 'fantasy', 'pickle', 'drinking', 'apology', 'pints', '3365', 'yijue', 'corrupt', 'sit', 'stuffing', 'photos', 'lv', 'coimbatore', 'millions', 'problematic', '24hrs', 'ts', 'lunsford', 'tune', 'cry', 'liverpool', 'jap', 'thrurespect', 'meshe', '09050005321', 'tsandcs', 'brothas', '08000930705', 'excused', 'matter', 'happen', 'wwwcnupdatescomnewsletter', 'txtstop', 'holla', 'staff', '150pday', 'time', 'please', 'snuggles', '08707808226', 'morningtake', 'drinkin', 'destiny', 'technologies', '08719181503', 'followed', '700', 'ldnw15h', 'women', 'save', 'hearin', 'logo', 'terminatedwe', '0776xxxxxxx', '630', 'jaya', '08715705022', 'spontaneously', 'asssssholeeee', 'k718', 'right', 'knickers', 'salon', 'sae', 'hill', 'stays', '09066380611', 'baaaaaaaabe', 'havin', 'sweet', 'bet', 'handing', '900', '20000', 'exposed', 'spare', 'rearrange', 'determined', 'knew', 'weakness', 'ujhhhhhhh', 'phasing', 'studdying', 'yor', '0089', '18ptxt', 'match', 'belligerent', 'neglet', 'quite', 'mre', 'wotu', '8883', 'however', 'residency', 'chill', 'messageits', 'pls', 'untamed', 'yetunde', '09064018838', 'kaypoh', 'upto', 'female', 'ears', 'officeunderstand', 'sp', 'honeymoon', 'reacting', 'subscriptions', 'calls', 'per', 'hard', 'meanwhile', 'urgent', 'identifier', 'iz', 'sankranti', 'back', 'removal', 'thesmszonecom', '09065171142stopsms08', 'rinu', 'shirt', 'effects', 'scotland', 'unjalur', 'bong', 'smart', 'ali', 'friendofafriend', 'signing', 'okok', 'shiny', 'islands', 'needed', 'messageno', 'grahmbell', 'standing', 'dislikes', 'classes', 'gudni8', 'said', 'dropped', 'no440', 'layin', 'joined', 'nordstrom', '4pavanaputra', 'centre', '88600', 'vs', 'resort', 'westshore', 'hypertension', 'subscription', 'delete', 'wwwasjesuscom', 'avoid', 'develop', 'hesitate', 'who', 'rtking', 'loses', '09065174042', 'figure', '12price', 'theres', 'upcharge', 'free', 'frankie', 'pause', 'regard', 'dolls', 'rayan', 'persian', 'dats', 'avenue', 'usb', 'arcade', 'headache', 'normally', 'dept', 'twat', 'settings', '87575', 'premium', 'toshiba', '2005', 'nd', 'uneventful', 'election', 'dwn', 'wheellock', 'crap', 'dessert', 'gprs', 'seeing', 'pig', 'powerful', 'mark', 'deciding', 'upyeh', 'roses', 'nichols', 'british', 'shesil', 'ground', 'mobile', 'kidz', 'anniversary', 'proverb', 'forgets', 'logon', 'urfeeling', '150psms', '373', 'lead', 'cheese', 'george', 'staying', 'threw', 'wet', 'peace', 'peaceful', 'http', 'parachute', 'csc', 'poker', '09090204448', 'likes', '3rd', 'lyricalladie', 'initiate', 'some1', 'sexy', 'toclaim', 'entirely', '69696', 'disturbing', 'rstm', 'spelling', 'murderer', 'wlcome', 'child', 'meremove', 'temple', 'intrepid', 'indyarockscom', 'is', 'married', 'activities', 'shoot', 'donate', 'though', 'cw25wx', 'limits', 'impossible', 'user', 'thus', 'wad', 'legal', 'swashbuckling', 'noits', 'live', '8', 'incredible', 'brothers', 'dollars', 'to', 'cheers', '6cruel', 'chikku', '4years', 'endowed', 'problems', 'call2optoutlf56', '7am', 'choice', 'arms', 'purpose', 'dayshe', 'fan', 'cred', 'iwana', 'connect', '08715203028', 'pest', 'experiment', 'freaked', 'bblue', 'let', 'absolutely', 'flip', 'aust', 'weve', 'belongs', 'talks', 'sleeps', 'sing', 'chest', 'rgds', 'opened', 'kaitlyn', 'hungover', 'netcollex', 'muz', 'babies', 'bay', 'blu', 'consent', 'unless', 'cramps', 'jaykwon', 'nighters', 'wifehow', 'darling', 'sterling', 'hillsborough', 'flirting', 'november', 'grams', 'bmw', 'wipe', 'fed', 'cook', 'kalisidare', 'lov', '7684', 'came', 'compare', 'leona', 'splash', 'throwing', 'transport', 'admirer', 'regular', 'indeed', 'mode', 'ive', 'swtheart', 'dasara', 'childporn', '08717890890150', 'pobox365o4w45wq', 'wrote', '09064017305', 'pulls', 'jam', 'popcorn', 'sittin', 'jaklin', 'ken', 'dis', 'islove', 'posted', 'barry', 'yifeng', 'ireneere', 'smoothly', 'creativity', 'drivby0quit', 'whats', 'brison', 'avoiding', 'hear', 'savamob', 'flim', 'law', 'stripes', 'fab', 'in2', 'asthma', 'chikkuil', 'list', '09066382422', '087104711148', 'their', 'trains', 'truffles', 'breathing', 'beforewent', 'prods', '09071512432', 'cosign', 'pics', 'hoped', 'shitin', 'asda', 'tablets', 'ques', 'gentleman', 'oredi', 'shorter', 'perhaps', 'souveniers', 'thk', 'care', 'activate', 'duvet', 'vic', 'bend', 'logosmusicnews', 'hussey', '09058099801', 'predicting', '430', 'ntswt', 'vitamin', 'moneyi', '2morro', 'plz', '11mths', 'ee', '08709501522', 'rose', 'sweets', '1450', 'getsleep', 'doggy', 'meat', 'callingforgot', 'squeeeeeze', 'sang', 'anyways', 'tackle', 'bluetooth', '50500', 'passed', 'hungry', 'tol', 'spell', 'now', '5years', 'peoples', '545', 'inconvenience', 'invaders', 'supervisor', '3maruti', '0845', 'shuhui', 'athome', 'attractioni', 'jersey', 'thasa', 'sept', 'pressies', 'vidnot', 'showing', 'charged', '650', 'length', 'tim', 'pillows', 'thatscool', 'supply', 'wwwringtonescouk', 'embarassed', 'charge', 'gently', 'ihave', 'linear', 'tuesday', 'blanked', 'manda', 'shut', 'oral', 'hug', '30th', 'blake', '08718726270150gbpmtmsg18', 'refilled', 'shattered', 'top', 'beer', 'january', '08718720201', 'nydc', 'filling', 'building', 'ortxt', 'clas', 'herethanks', '08717895698', 'posible', 'still', 'carolina', '08717507382', 'bangbabes', 'dearer', 'hari', 'songs', 'accidentally', 'smth', 'dawns', 'sk38xh', 'scary', 'yummmm', 'wld', 'argh', 'funk', 'call2optoutn9dx', 'and', 'potter', 'dvd', 'vehicle', 'should', 'hme', 'pobox12n146tf150p', 'manual', 'cafe', 'painting', 'provided', '82468', 'correct', 'rwm', '60p', 'stands', 'fly', '09064015307', 'fancies', 'checkboxes', 'wks', 'starving', 'vijaykanth', 'yhl', 'group', '4041', 'method', 'motor', 'yun', 'ours', 'typelyk', 'swann', 'nightswt', 'feelin', 'silver', 'karaoke', 'olympics', 'sagamu', 'persevered', 'irulinae', 'gam', 'success', 'tease', 'cozsomtimes', 'dob', 'anythingtomorrow', '09111032124', 'turns', '89080', 'justthought', 'blackand', 'kind', 'mega', 'write', '83110', 'things', 'required', 'helping', 'aquarius', 'bears', 'food', '81303', 'boggy', 'maangalyam', 'rgent', 'footprints', 'fedex', 'txtx', 'affection', '69911', 'fastpls', '4utxt', 'basketball', 'wenever', 'lage', 'papers', 'earlier', 'nyusa', 'frosty', 'ads', 'scenario', 'frontierville', 'std', 'loving', 'sometime', 'apo', 'pleasured', 'traveling', 'enufcredeit', 'lion', 'classic', '2u2', 'alritehave', 'weds', '09099726429', 'experience', '08712460324', 'ringtones', 'havbeen', 'ahthe', 'videopic', 'regards', 'lab', 'actor', 'even', 'jokes', 'traffic', 'storming', 'visit', '7250i', 'kolathupalayam', 'remembrs', 'junna', 'termsapply', 'girlie', 'curfew', 'innu', 'rencontre', 'inch', 'ivatte', 'saturday', 'frog', '261104', 'heart', '2geva', 'ccna', 'outages', 'soonc', '07808247860', 'cornwall', '2channel', 'wwwtxttowincouk', 'abnormally', 'spunout', 'hmmmstill', 'lindsay', 'hotmailcom', 'lousy', 'forums', 'finance', 'reason', 'easter', 'village', 'crack', 'stayed', 'polyc', '62468', 'thanxxx', 'prestige', 'fgkslpopw', 'largest', 'picture', 'ingredients', 'quit', '0a', 'foward', 'meds', 'sexual', 'no434', 'hiding', '08712466669', 'parked', '09061790125', 'tadaaaaa', 'management', 'cashin', 'significant', 'portal', '2nhite', 'gotto', 'testing', 'flat', 'boo', 'potential', 'thekingshead', 'greetings', 'velachery', 'xx', 'area', 'messageit', 'owned', 'allow', 'awww', 'option', 'cme', 'wat', 'wisdom', 'tm', 'shoul', 'share', 'ambrithmaduraimet', 'surname', 'ful', '220cm2', 'sticky', 'balance', 'ettans', 'liao', 'craziest', 'dear1', 'predictive', 'sfirst', 'like', 'cinema', 'force', 'locks', 'abt', 'hearts', 'commercial', 'duo', 'pieces', 'delhi', 'court', 'machines', 'simulate', 'minor', 'rush', 'nitw', 'springs', 'wwwphb1com', 'read', 'wrench', 'purse', 'pages', '6missed', 'buddys', '2wt', 'murdered', 'callcost', 'gail', 'parent', 'godnot', 'wwwshortbreaksorguk', 'unkempt', '08715203685', 'haven', 'wesley', 'eerie', 'weaknesses', 'cometil', 'cdgt', 'gdeve', '3100', 'beers', 'pehle', 'decide', 'boyfriend', 'many', 'umma', 'barolla', 'pan', 'hm', 'musta', 'yummy', 'rs', 'finishd', 'named', 'dates', 'flash', 'hor', 'tshirt', 'knock', 'brought', 'mint', '4', 'rub', 'milk', 'ben', 'unknown', 'meant', 'courageous', 'wahay', 'jet', 'halla', 'assumed', 'propsd', 'manageable', 'wrongly', 'sib', 'wrkin', 'coincidence', 'sooo', 'wishlist', 'slightly', 'affections', 'admin', 'occurs', '9ae', 'excellent', 'okies', '12000pes', 'ya', 'latests', '10pmin', 'mattermsg', 'addamsfa', 'reltnship', 'patty', 'mt', 'exp', 'yogasana', 'guarantee', 'repent', 'maat', 'depends', 'adi', 'personality', 'weeddeficient', 'england', 'praises', 'foley', 'pride', 'lower', 'ni8swt', 'lotsly', 'comment', 'enjoyed', 'wrld', 'cougarpen', 'shinco', 'community', 'box', 'listening', 'ring', 'accumulation', 'yours', 'goodtime', 'psp', 'cost375max', 'goodnight', 'asian', 'bitch', 'shah', '08712101358', 'wedding', 'message', 'jen', '449071512431', 'safely', 'sort', 'menu', 'independence', 'wheel', 'dental', 'hiwhat', 'dont', 'foot', 'facts', 'same', 'lionm', 'blessing', 'w8in', 'death', 'maths', 'vco', 'call2optoutj', 'melle', 'ijust', 'luck2', 'center', 'team', 'smash', '11414', 'within', 'groovy', 'ji', 'description', 'training', 'minute', 'throw', 'countinlots', 'pract', 'handset', 'hsbc', 'crammed', 'handed', 'tram', 'doubletxt', 'hppnss', 'memorable', 'opinions', 'flies', 'desires', 'eshxxxxxxxxxxx', 'btw', '0844', 'pool', 'genus', 'sundayish', 'moseley', 'wan2', 'motivating', 'mob', 'improve', 'aunty', 'paths', 'dice', 'oso', 'letters', 'accordingly', 'mad2', 'famous', '10k', 'fools', 'mate', 'london', 'mb', 'fall', 'stalking', 'wylie', 'ayn', '1680', 'goigng', 'gain', 'bluray', 'puzzeles', 'ceri', 'dokey', 'sapna', 'english', 'rice', 'necklace', 'arrival', 'grinder', 'rimac', 'hat', 'hmv', 'cold', 'strongly', 'arng', 'refundedthis', 'ffffffffff', 'shocking', 'etc', 'adults', 'using', 'cs', 'themob', 'dunno', 'sw73ss', 'b4190604', 'connected', 'slide', '08718730555', 'missed', 'clock', 'steamboat', 'dressed', 'esplanade', 'sic', 'physics', 'chop', 'sitting', 'anybody', 'wc1n3xx', 'fucks', 'sux', 'except', 'tscs', 'uve', 'shove', 'speling', 'prepare', '9', 'realized', 'chat', 'pretend', 'astne', '6days', 'pictures', 'li', 'paris', 'checkin', 'stocked', 'invention', 'throwin', 'pounded', 'mails', 'rate', '09094646631', 'kk', 'fixed', 'unsoldmike', 'careinsha', 'passion', 'tiring', 'happens', 'keyword', 'coat', 'ls1', 'impressed', 'counts', 'starwars3', 'so', 'aproach', 'venaam', 'numbers', 'cochin', 'theredo', 'dem', 'unlike', 'broke', 'haf', 'gent', 'box403', 'tihs', 'mys', 'tai', 'ip4', 'billing', 'skinny', 'raj', 'wwwb4utelecom', 'signin', 'watches', 'nails', 'persons', 'hrs', 'specialcall', 'tasts', 'honesty', 'adjustable', 'shld', 'lined', 'urself', 'shoppin', 'shaved', 'cross', 'locations', 'taught', 'delicious', 'fetching', 'beyond', 'ruining', 'corect', 'forgot', 'kisi', 'lor', 'draws', 'speeding', 'aft', 'name2', 'fredericksburg', 'vid', 'serious', 'seemed', '08002888812', 'massages', 'inst', 'gold', 'uploaded', 'janarige', 'batch', '80', 'mk17', '449month', 'bishan', 'golddigger', 'lotz', 'ppl', 'apologise', 'custcare08718720201', 'sos', 'polytruepixringtonesgames', 'shortly', 'lambu', 'smile', 'lovejen', 'setting', 'ar', 'resolution', 'man', 'granted', 'lock', 'dvg', 'reply', 'young', 'yo', '863', 'husband', 'recent', '80608', 'titleso', 'expecting', 'sandiago', 'frens', 'detailed', 'issues', 'need', 'hurry', 'pobox', 'nobody', 'ooh', 'randomlly', 'quoting', 'permanent', 'engin', '4fil', '82324', 'stuck', 'raksha', 'zouk', '08081263000', 'helen', '32000', '85555', 'holiday', '07090298926', '67441233', 'dough', 'king', 'porn', 'vote', 'drink', 'wine', 'avoids', 'serving', 'deduct', 'seekers', 'useful', 'hitman', 'amanda', 'chennai', '4txtú120', 'msging', 'snoringthey', 'strike', 'nachos', 'entry41', 'grins', 'dirt', 'captain', 'hittng', 'ps', 'vpist', '40533', 'fifteen', 'labor', 'otherwise', 'rayman', 'jane', 'band', 'reception', 'entropication', 'ahead', 'brings', '4eva', 'pray', 'swimming', 'credited', 'marriage', 'treats', 'showered', '08706091795', 'straight', 'fuuuuck', 'woke', 'mundhe', 'plus', 'picked', 'wit', 'comuk220cm2', 'paperwork', 'ralphs', '54', 'mids', 'akonlonely', 'sch', 'students', 'budget', 'chocolate', 'family', '087018728737', '4u', 'lessons', 'helpful', 'organizer', 'till', 'spoke', 'costa', 'bread', 'fingers', 'without', '2kbsubject', 'ran', 'jungle', '2006', 'ym', 'tmr', 'ref', 'fonin', 'seen', 'jess', 'snickering', 'mist', 'random', 'burger', 'engagement', 'dabbles', 'spending', 'dearrakhesh', 'onwards', 'spl', 'accomodate', 'jogging', 'busy', 'netvisionukcom', '3650', 'sk3', 'connection', 'dirty', 'down', 'dip', 'champ', 'beautiful', '2nd', 'todaysundaysunday', '88039', 'coldheard', 'has', 'dha', 'la32wu', 'lay', 'pubcafe', 'freezing', 'mobstorequiz10ppm', 'wicklow', 'burns', 'spring', 'bits', 'oyea', 'kudiyarasu', 'jerk', '150pmsg', 'franxx', 'tickets', 'reset', 'choices', 'seem', 'nearly', 'successfully', 'rofl', '09065171142stopsms08718727870150ppm', 'epi', 'nuther', 'wihtuot', 'hour', 'explicitly', 'paranoid', 'bigger', 'coulda', 'file', '09063442151', 'truble', 'warm', 'drove', 'prob', 'r836', 'soonxxx', 'tuition', 'under', 'knowhe', 'playi', 'illness', 'camera', 'fundamentals', 'faggy', 'ku', 'poly200p', 'fantastic', 'indianpls', 'todaybut', 'ignore', 'unicef', 'ubandu', '4217', 'listen', 'skilgme', 'nite', 'collect', '49557', 'handsomes', 'woodland', 'pass', 'joanna', 'mina', 'at', 'wonderful', 'download', 'datz', 'www100percentrealcom', 'habbahw', 'problum', 'calm', 'monoc', 'hmv1', 'v', 'violet', 'references', 'hmm', 'invite', 'mk45', 'brdget', '1stchoicecouk', 'k', 'carente', 'aha', 'book', 'haul', 'britney', 'swalpa', 'grace', '60pmin', 'engaged', 'cereals', 'parties', 'banks', 'pushes', 'purchase', 'pod', 'subpoly', 'responsible', 'planned', 'defeat', 'breaks', 'sim', 'postcard', 'shoes', 'gravity', 'inclusive', 'short', '84025', 'minuts', 'detroit', 'buddy', 'mmmm', 'poortiyagi', 'wen', 'made', 'sugardad', 'what', 'people', 'arnt', 'brownie', 'virgin', '5wq', 'witout', 'sudden', 'prabhai', '2watershd', 'sumfing', 'purple', 'played', 'call', 'cared', 'sol', 'crucial', 'river', 'contact', 'toldshe', 'lancaster', 'edward', 'favor', 'thousands', '10p', 'lac', 'attitude', 'definitely', 'continue', 'blow', 'prepayment', 'module', 'hanumanji', '40', 'agidhane', 'choosing', 'unconsciously', 'semiobscure', 'perfect', 'someonone', 'marry', 'sport', 'witin', 'nat', 'ondu', 'ibh', 'helps', 'representative', 'eat', 'pendingi', 'sf', '8800', 'pending', 'instantly', 'waiting', 'txt', 'eight', 'sufficient', 'cali', 're', 'spent', 'tomorrowtoday', '3230', 'kkthis', 'bold2', 'js', 'traditions', 'gre', 'buzy', 'speed', 'wn', '69855', 'form', 'wifes', 'alex', 'nri', 'snappy', 'compromised', 'textpod', 'laughing', 'steak', 'xxxx', 'palm', 'buying', 'truck', '24th', 'tell', 'sara', 'dance', 'belovd', '09066350750', 'habit', 'logopic', 'tenants', 'check', 'envy', '80160', 'sura', 'princes', 'tears', '0721072', 'lucyxx', 'ksry', 'topped', '3d', 'mobs', 'travel', 'renewing', 'hgsuite3422lands', 'half8th', 'frnds', 'built', 'answers', 'arguing', 'gsex', 'cos', 'jot', 'arrive', 'badly', 'bslvyl', 'takin', 'evry1', 'showers', 'takes', 'busetop', 'working', 'everyone', '9pm', 'box95qu', 'srs', '0870', 'csbcm4235wc1n3xxcallcost150ppmmobilesvary', 'bandages', 'awesome', 'peach', '447per', 'heron', 'affectionate', 'approved', 'aptitude', 'orc', 'prayingwill', 'items', 'returned', 'birthdate', 'never', 'landlines', 'kthen', 'barring', 'soooo', 'apart', 'snatch', 'respect', 'elliot', '150pmsgrcvd', 'splleing', 'faith', 'unfolds', 'pathaya', 'title', 'babysitting', 'squishy', 'members', 'sickness', 'nus', 'sd', 'philosophical', 'single', 'publish', 'finished', 'uniform', 'propose', 'lies', '09061790121', 'homewot', 'needa', '30apr', 'yrs', 'presleys', 'nofew', 'these', 'specs', '09090900040', 'wow', 'situations', 'legs', '3680', 'bahamas', 'expiry', 'cancer', 'exist', 'beendropping', 'alter', 'fellow', 'hr', 'amp', 'burning', 'probs', 'rajipls', 'scream', 'toopray', 'mcat', 'guilty', 'ability', 'cyclists', 'marandratha', 'bf', 'april', 'sick', 'gap', 'maximize', 'jones', 'swoop', 'okthenwhats', 'askin', 'rp176781', 'jjc', 'stage', '750', 'dignity', 'gave', 'sleepingand', 'bani', 'gbpweek', 'control', 'california', 'guesses', 'iter', 'deepest', 'ga', 'deleted', 'laready', 'goggles', 'moyep', '7cfca1a', 'tho', 'invnted', 'pushbutton', 'stewartsize', 'openings', 'chad', 'pshew', 'sha', 'dick', '09058094454', 'morning', 'beggar', 'cha', 'pix', 'post', 'wonder', 'are', 'yeh', 'subscribed', 'nan', 'brin', 'everyso', 'dileepthank', 'performed', '88066', '09058094455', '09061743386', 'nething', 'reservations', 'healthy', 'passionate', 'permission', 'actin', 'quiteamuzing', 'earlierwe', 'box334sk38ch', '2025050', 'hannaford', 'optout', 'hack', 'selfindependence', 'consensus', 'welcome', 'webeburnin', 'blankets', 'adoring', 'wwwwin82050couk', 'neshanthtel', 'transfr', 'airport', 'guoyang', 'respectful', 'proove', 'package', 'nigh', 'pay', 'laden', 'meets', 'okvarunnathu', 'ppm', 'taxi', 'chickened', '4712', 'want', 'slaaaaave', 'butting', 'payment', 'bloombergcom', 'alive', 'adrink', 'fix', 'keeping', 'tallent', 'slo', 'addicted', 'clean', '45', '9am', 'playing', 'anythin', '2000', 'logoff', 'ceiling', '07808726822', 'membershiptake', 'anyway', 'dialogue', 'mad', 'professors', 'nok', 'process', '0578', 'sheffield', 'sweatter', 'prayrs', 'opportunitypls', '1minmobsmorelkpobox177hp51fl', 'emc1couk', 'hits', 'garbage', 'hehe', 'most', 'previous', 'conditionand', 'backwards', 'dang', 'trouble', 'cock', 'barrel', 'growing', '61200', 'ofsi', 'test', 'soft', 'itwhichturnedinto', 'addie', 'anthony', 'pile', 'grownup', 'mcflyall', 'party', 'bfore', 'plm', 'ironing', 'march', '8am', 'btooth', 'aburo', 'atrocious', 'dogging', '07808', 'humans', 'cocksuckers', 'haha', 'rd', 'x2', 'positive', 'everything', 'yohere', 'granite', 'gon', 'garden', 'gv', 'issue', 'exhaust', 'painful', 'current', 'receivea', '80488biz', 'anand', 'milta', 'incident', 'dodda', 'fuckin', 'vibrant', 'sorts', 'fast', 'yeah', 'ummifying', 'requires', 'wa14', '1winawk', 'suffer', 'herself', 'apt', 'matched', 'brand', 'sinco', 'magic', 'cozy', 'flag', 'simpler', 'sum1', '1500', 'atm', 'fujitsu', 'i', 'sat', 'wap', '7romantic', 'wind', 'tcs', 'm263uz', 'side', 'annie', 'yar', 'geoenvironmental', 'hair', 'hogidhechinnu', 'thriller', 'finds', 'timin', 'nitro', 'confidence', 'mail', 'blocked', 'anyones', 'afternoon', 'harry', 'euro', 'hitler', 'american', '50p', 'goin2bed', 'specialise', 'parco', 'adrian', 'eggspert', 'oyster', '0207', 'lonlines', 'flyng', 'naked', 'tues', 'hunks', 'ofice', 'timi', 'carry', 'toll', 'shortcode', 'fusion', 'nurses', 'k52', 'rahul', 'shouting', 'phne', 'tortilla', '8pm', 'sec', 'tariffs', 'petexxx', 'bian', 'ever', 'style', 'cat', '505060', 'syllabus', 'audrey', 'egg', 'va', '75000', 'evo', 'town', 'queen', 'swing', 'huh', 'textbook', 'nbme', '4th', 'connections', 'cardin', 'phone750', '08712402578', 'woman', '28th', 'jordan', 'bak', 'waitin', 'sorrow', 'staring', 'restock', 'wereare', 'ponnungale', '542', 'contract', 'www4tcbiz', 'winnersclub', 'creep', 'beware', '22', 'decking', 'ctxt', 'pete', 'refund', 'ey', '24', 'record', 'term', 'sad', 'bedbut', 'pack', 'x49your', '2mwen', 'thnx', 'stil', 'konw', '08002988890', 'small', 'txt250com', 'investigate', 'congrats', 'btnational', 'childrens', 'forgive', 'lionp', 'speaking', 'up4', 'or', 'avenge', 'hp20', 'feet', 'fletcher', 'dengra', 'helloed', 'plyr', 'flaked', 'meal', 'scotsman', 'bedrm', 'wml', '16', 'tscs087147403231winawk', 'stores', 'than', 'character', 'rentl', 'role', 'voted', 'wrenching', 'sh', 'neo69', 'fixd', 'starti', 'hi', 'messagethanks', 'kothi', 'matra', 'phrase', 'atten', 'show', 'ready', 'opportunity', 'pin', 'o2fwd', 'myspace', 'indians', 'cn', 'digital', '5ful', 'geeeee', '09058094594', 'colleg', 'uni', 'ec2a', 'spinout', 'update_now', 'contents', 'clip', 'shouted', 'farrell', 'tampa', 'sn', 'senthilhsbc', 'exeter', 'ubi', 'hit', 'hon', 'email', '350', 'lar', 'gucci', 'wating', 'splwat', 'slippers', 'dey', 'missionary', 'yelow', 'ranju', 'rally', 'big', 'mumhas', 'loyalty', 'bros', 'moral', 'command', 'bloomberg', 'spirit', 'virgins', 'smiling', 'finishing', 'miracle', 'answer', 'thru', 'rpl', 'collecting', 'walls', 'okors', 'erotic', 'vivek', 'wc1n', 'petey', 'pases', 'plate', 'financial', 'kiosk', 'uks', 'realise', 'wellda', 'were', '13404', 'younger', '12', 'twilight', 'dr', 'answr', 'ultimately', 'entey', '116', 'www80488biz', '5wb', 'texts', 'conditions', 'ad', 'reserve', 'lives', 'eh', 'exact', 'don', 'syria', 'comin', 'justify', 'grandfather', 'cashto', 'crashed', 'appear', '08715500022', 'spreadsheet', 'plan', 'alaikkumpride', 'electricity', 'tyrone', '850', 'beg', 'modl', 'employer', 'raiden', 'engalnd', '3350', 'fridge', 'dudes', 'ie', 'ft', 'nigeria', 'u', 'urn', 'newport', 'cheat', 'early', 'dependable', 'basic', '2mrw', 'chasing', 'chance', 'calls1minmobsmorelkpobox177hp51fl', 'ripped', '07008009200', '0800', 'symbol', 'laughed', 'howdy', 'passthey', 'punch', '08452810073', 'availablethey', 'careful', '2wks', 'eg23f', 'ese', 'cruise', 'dobby', 'sayhey', 'appointment', 'motive', 'id', 'available', 'rechargerakhesh', 'anot', 'mcr', 'homeowners', '09058094583', 'thursday', 'upd8', 'inspection', '69969', 'prone', 'chikkuali', 'necessity', 'lyk', 'neglect', 'tue', 'crossing', 'unni', 'crickiting', 'hdd', 'ennal', 'killed', 'salam', '0121', 'try', 'records', 'mjzgroup', 'he', 'colany', 'makiing', 'last', 'oru', 'mth', 'pleased', 'participate', 'mojibiola', 'costume', 'hv', 'snowman', 'wwwcomuknet', 'father', 'mondaynxt', 'frwd', 'gram', 'jiayin', 'likeyour', '08702840625comuk', '3wk', 'favorite', 'laptop', 'rock', 'awaiting', 'digits', 'deepak', 'howu', 'bx420', 'b', 'clark', 'andrewsboy', 'lik', 'fit', 'sayask', 'stressed', 'cleaning', 'havnt', 'tired', 'barred', 'if', 'adult', 'ibn', 'polyphonic', 'badrith', 'charles', 'loti', 'percent', 'literally', 'pants', 'lightly', 'remove', '9996', 'of', 'dismay', 'boye', 'vldo', 'clubsaisai', 'mandara', 'link', 'defo', 'ref9307622', 'danger', 'order', 'hogli', 'funky', 'dad', 'singing', 'playerwhy', 'call2optoutf4q', 'entered', 'padhegm', 'evng', 'thandiyachu', '35p', 'sorydarealyfrm', 'idu', 'stay', 'yorge', '83332please', 'eighth', 'freemsg', '195', 'damn', 'hotel', 'for38', 'morphine', 'adventure', 'hours', 'was', 'bleak', 'luxury', 'hate', 'equally', '4mths', 'cheque', '3qxj9', 'usually', 'little', 'fne', 'woods', 'quarter', 'independently', '3gbp', 'jia', 'yes165', 'suppose', 'practicing', 'differbe', 'chapel', 'offense', 'size', 'place', 'self', 'pros', 'nottingham', 'no81151', 'lick', 'ros', 'education', 'rats', '139', 'removed', 'sc', 'india', 'specify', 'norcorp', 'cro1327', 'consistently', 'qing', 'p', 'stink', 'amk', '20', 'sirjii', 'selling', 'noisy', 'die', 'camcorder', 'del', 'scratching', 'eire', 'all', '3', 'moby', 'denis', 'weirdy', 'shall', 'beth', 'maintaining', 'dads', 'elaine', '10', 'mini', '830', 'noun', 'hang', '09064012103', 'havent', 'kalaachutaarama', 'sky', 'snap', 'dating', 'spageddies', 'murder', 'final', '09058094597', 'impatient', 'muht', 'dry', 'iraq', 'tomeandsaid', 'darlin', 'voucher', 'breezy', 'prayers', 'journey', 'windows', '85222', 'profiles', 'theacusations', 'toss', 'weekdays', 'rvx', 'datebox1282essexcm61xn', 'worlds', 'cancelled', '1148', 'keepintouch', 'fran', '09066612661', 'flung', 'missy', 'frndship', 'pimples', 'why', 'reference', 'donno', 'linerental', '1month', 'wise', '250k', 'animal', 'hershe', 'limping', 'ice', 'amongst', 'ukmobiledate', 'smear', 'hopeso', 'wth', 'request', 'advisors', 'grand', 'upload', '2bajarangabali', 'wonders', 'auction', 'tmobile', 'doit', 'body', 'station', 'priest', 'arul', '08714719523', 'half', 'pic', 'treated', 'bloody', 'en', 'tool', 'magical', 'srsly', 'clearer', 'cine', 'gender', 'stop2stop', 'inches', '50pmsg', 'copied', 'diamond', 'ex', 'kg', 'help08700469649', 'pours', 'endof', 'sent', 'werebored', 'accordinglyor', 'countin', 'lane', 'breakfast', 'subscriptn3gbpwk', 'hot', 'hellogorgeous', 'tantrum', '83021', 'hes', 'daytime', 'gibbs', 'felt', 'wiskey', 'santa', 'snowboarding', 'boost', 'drpd', 'textbuddy', 'mutai', 'keeps', 'zhong', 'macha', 'prominent', 'concern', 'nw', 'max6month', '09066358361', 'ipod', 'bed', 'path', 'fret', '5p', 'bring', 'kkany', 'presnts', 'o2coukgames', 'possibility', 'textand', 'wwwsmsacunatalie2k9', 'bike', '449050000301', 'avatar', 'call2optoutj5q', 'dog', 'beneath', '0871277810810', 'rich', 'fowler', 'practicum', 'dearslp', 'unhappiness', 'buy', 'cardiff', 'funny', 'obviously', 'scallies', 'boyf', 'dload', 'kid', 'wrnog', 'specially', 'asleep', 'winner', 'lect', 'hoody', 'harlem', 'radiator', '32f', 'shopwe', 'buzzzz', 'green', 'released', 'stoners', 'womdarfull', 'lkpobox177hp51fl', 'comingtmorow', 'eg', 'gumby', 'dark', 'icicibankcom', 'ph08704050406', 'yam', 'wwwtextcompcom', 'thinl', 'shows', 'favour', 'fightng', 'herepls', 'coins', 'repairs', 'aa', 'recycling', 'gong', 'mofo', 'mel', 'den', 'charlie', 'easily', 'firefox', 'gaze', 'gigolo', 'either', 'wwwtxt2shopcom', 'bell', 'didntgive', 'teachers', 'haiz', 'nokias', 'ma', 'punto', 'sayy', 'leh', 'paragon', 'ended', 'macleran', 'pale', 'rent', 'messagesim', 'university', 'symptoms', '63miles', 'lnly', 'safe', 'eaten', 'basket', 'accommodation', 'age16', 'possible', '071104', 'bedroom', 'mom', 'mailed', 'scotch', 'joinedso', 'asap', 'fighting', 'treat', 'msg', 'imat', 'plane', 'cons', 'causing', 'fish', 'roommates', 'durban', 'pull', 'players', 'modules', 'chess', 'heehee', '6hrs', 'necesity', '008704050406', '150pm', 'guidance', 'falconerf', 'acnt', 'blessings', '9t', 'closer', 'hole', '12hrs', 'interview', '31pmsg', 'gudnyt', 'themes', 'ltd', 'zoe', '88888', 'flute', 'thia', 'good', 'unredeemed', 'partner', 'bar', 'means', 'smokin', 'inever', 'beverage', 'costing', '0808', 'romantic', 'stop', 'politicians', 'licks', 'bagi', 'kodstini', 'ahnow', 'moan', 'snd', 'postponed', 'ache', 'high', '6ramaduth', 'head', 'class', 'goa', 'yesterday', 'yeesh', 'flyi', 'bear', 'touched', 'skins', 'carlie', 'ethnicity', '08718726978', 'local', 'callback', 'replacing', 'feeling', 'xxxxxx', 'questions', 'nic', 'fa', 'passes', 'freak', 'convey', 'lifetime', 'becomes', 'thnq', 'officethenampet', 'knows', 'thot', 'club4', 'stupidits', 'stu', 'cer', 'files', 'dictionary', '31', 'm227xy', 'shudvetold', 'previously', '300603', 'senrddnot', 'sary', '40gb', 'formallypls', 'spacebucks', 'dun', 'tagged', 'morefrmmob', 'weird', 'crave', 'cthen', '48', 'tomorro', '113', 'awake', 'alone', '050703', 'bhaskar', 'purchases', 'txtauction', 'warning', 'urgentlyits', 'trained', 'raed', 'robs', 'vipclub4u', 'hella', 'both', 'settling', 'dear', 'jobs', 'opt', 'champlaxigating', 'holy', 'becoz', 'breathe', 'fear', 'bruce', 'monos', 'have', 'mouth', 'acting', 'itsnot', 'okden', 'involved', 'patients', '83600', 'configure', 'tunde', 'co', 'happiest', 'whispers', 'firsttrue180430jul05', 'meaning', 'drvgsto', '1250', 'somewhere', 'hol', 'fault', 'frying', 'wondar', 'fancy', 'evrydy', 'greet', '10ppm', 'bridgwater', '87121', 'suggestion', 'images', 'necessarily', 'unsubscribed', 'type', 'spotty', 'greatest', 'spiral', 'each', 'finest', 'devils', 'cnn', 'styling', 'name', 'unsub', 'worms', 'section', 'tough', 'sitter', 'least', 'skip', 'onedge', 'shes', 'c', 'wiv', 'silly', 'points', 'bowa', 'aboutas', 'tmorrowpls', 'soiree', 'satthen', 'logos', 'valid', 'onam', 'vargu', 'chechi', 'years', 'conserve', 'lucozade', 'unable', '09071512433', 'xxxxx', 'ashley', 'anytime', 'tel', 'jamster', 'millers', 'begun', 'uothrwise', 'chrgd', 'gudnite', 'dock', 'a150', 'msgs', '400mins', '5th', 'served', '6', 'ethreats', 'kappa', 'neighbor', 'hw', '08719181259', 'best1', 'zac', 'tallahassee', '02072069400', 'stretch', 'lololo', '09050002311', 'mmm', '02070836089', 'sarcasm', 'ned', 'jokin', 'passable', 'mental', 'ic', 'experiencehttp', 'trips', 'neville', 'ws', 'forgotten', 'asthere', '101mega', 'kicks', 'appreciate', 'itmay', 'lesson', '09064012160', 'hcl', 'loan', '800', 'tons', 'yesbut', 'wwwsmsacunat27081980', 'joys', 'pharmacy', 'beauties', 'open', 'scorable', 'oblivious', 'wesleys', 'toothpaste', 'hip', 'troubleshooting', 'clearing', 'boss', '2moro', 'arrested', 'upgrade', 'internal', 'grl', 'randy', 'slip', 'voice', 'recognise', 'r', 'installing', 'complimentary', 'interesting', 'casualty', '8th', 'horo', 'jus', 'nationwide', 'finish', '08712400603', 'masteriastering', 'sms', 'links', 'fried', 'entry', 'store', '150ptext', 'received', 'ass', 'often', 'mention', 'drama', 'riddance', 'heavy', 'outta', 'rebooting', 'oranges', 'sehwag', '25p', 'essential', 'croydon', 'prof', 'pop', 'lol', 'accessible', 'ymca', 'disconnect', '4o', 'tok', 'getting', 'poor', '4goten', '86688', 'ahmad', 'maili', 'ko', 'opening', 'txtin', 'fooled', 'sometimes', 'ink', 'parantella', 'bat', 'reveal', 'voicemail', 'retired', 'vital', 'distance', 'dedicate', '09099726553', 'caveboy', 'pussy', 'prizes', 'box39822', '87070', 'warwick', 'royal', 'depression', 'fave', 'eviction', 'birth', 'lst', 'sighs', 'tron', 'understood', 'flurries', 'ending', '09066364589', 'total', 'tessypls', 'extract', 'darker', 'breathe1', 'partnership', 'misfits', 'thrown', 'shore', 'stuff42moro', 'nigro', '09701213186', 'reslove', 'alcohol', '864233', 'deep', 'ericson', 'namemy', 'fo', 'hgsuite3422landsroww1j6hl', 'wquestion', 'already', 'dl', 'indicate', 'leg', 'opportunityall', 'james', 'ibhltd', 'lesser', 'ugh', 'obese', '08717507711', 'zindgi', 'terrorist', 'killing', 'forever', 'fml', 'vettam', 'mallika', 'darren', 'janx', 'amigos', 'malaria', 'build', 'ps3', 'esaplanade', 'c52', 'secured', 'eatin', 'rule', 'poboxox36504w45wq', 'ba', 'wwwareyouuniquecouk', 'dial', 'bettersn', 'drum', 'advise', 'wedlunch', 'wicked', 'bcmsfwc1n3xx', 'version', 'sw7', 'gr8fun', 'act', 'pouch', 'add', '3510i', 'simonwatson5120', 'er', 'finally', 'yi', 'great', 'them', 'glory', 'mite', 'tht', 'doesdiscount', 'dino', '09061221066', 'natalie', '09066362220', 'bugis', '087123002209am7pm', 'panasonic', 'east', 'cherthalain', 'chillin', 'lazy', '924', 'inviting', 'yesgauti', '08712402972', 'whom', 'hype', 'agesring', 'accent', 'alright', 'capital', '09099726481', 'overdose', 'snogs', 'lyrics', 'invoices', 'tendencies', 'listed', 'gives', 'sugar', 'feng', '3wks', 'behave', 'wa', 'telling', 'asked', 'replying', 'endless', 'rejected', '7876150ppm', 'deartake', 'availablei', 'nor', 'appendix', 'bin', 'remember', 'app', 'convince', 'macho', 'responsibilities', 'july', 'insha', 'aiyar', 'thm', 'tsunami', 'haventcn', 'turn', 'moved', 'tee', 'insurance', '62220cncl', 'college', 'gin', 'mmmmmm', '150ppm', 'suite', 'placeno', 'spice', 'summon', 'sensible', 'valued', 'no1', 'wwwtxt82228com', 'practising', 'surprised', 'playng', 'ukp', 'ru', 'shijas', 'interflora', 'belong', 'doors', 's', 'describe', 'west', 'shelf', 've', 'cupboard', 'talkin', 'brandy', 'asia', '150', 'ore', 'helens', 'escape', 'salad', '4wrd', 'godtaken', 'join', 'evrey', 'offline', 'hopes', 'gotany', '211104', 'bottle', 'ranjith', 'stones', 'earn', 'more', 'secrets', 'campus', 'play', 'parents', 'credit', 'one', 'person', 'sub', 'only1more', 'field', 'tick', 'bus822656166382', '247mp', 'related', 'wwwsmsacugoldviking', 'thnk', 'ovulatewhen', 'would', 'leo', 'feelingood', 'harri', 'ruin', 'channel', 'exterminator', 'own', 'airtel', 'manky', 'keep', 'supposed', 'edition', 'eyeddont', 'thread', '060505', 'vinobanagar', 'wwwrtfsphostingcom', '08718727870', 'tkts', '1030', 'carso', 'being', 'can', 'albi', 'xxxxxxx', 'psxtra', 'transfred', 'feb', 'taj', 'bag', 'eek', 'banneduk', 'couch', 'pm', 'yay', 'lakhs', 'hundreds', 'thgt', 'vasai', 'holby', 'nikiyu4net', 'miwa', 'suddenly', 'l8tr', 'sonyericsson', 'u4', 'ecstacy', 'dollar', 'diwali', '260305', 'repeating', 'lit', 'gnt', 'box434sk38wp150ppm18', '5249', 'fri', 'givits', 'lt', '08712402902', 'forward', '1stone', 'weaseling', 'dramastorm', 'individual', 'healer', 'ofcourse', '730ish', 'gods', 'person2die', 'jacket', 'very', 'windy', 'range', '131004', 'hl', 'panic', 'dat', 'algebra', 'may', 'drivin', 'lover', 'jolt', 'rather', 'cancel', 'gift', 'press', 'bill', 'eruku', '08718738002', 'misss', '09058094565', 'attempt', 'prometazine', 'replace', 'born', 'prepaid', '528', 'rakhesh', 'curious', 'eightish', 'lands', 'male', 'roles', 'mayb', '241', 'varma', 'created', '85069', 'polys', 'mo', 'history', 'prior', 'weekly', 'membership', 'ppm150', '02073162414', 'lookin', 'following', '42810', 'cheesy', 'packalso', 'pound', 'ing', 'later', 'prices', 'golden', 'making', 'wrc', 'red', 'widelivecomindex', '9ja', 'bookshelf', '5k', 'ninish', 'when', 'steps', 'doc', 'italian', 'serena', 'realising', 'fucked', 'downon', 'lingerie', '2004', '09061701444', 'lays', 'lose', 'long', 'yowifes', 'tissco', 'reppurcussions', 'petrolrs', 'echo', 'got', 'gek1510', 'genuine', 'daddy', 'suganya', '3mins', 'booty', 'readers', 'cheap', 'wwwapplausestorecom', 'drugs', 'managed', '5terror', 'offdam', 'different', 'june', 'minded', 'wee', 'gua', 'noon', 'ree', 'jason', 'study', 'shake', '89123', 'kills', '84199', 'unbreakable', 'mnths', 'holder', '41685', 'subscribe', 'freesend', '09058097189', 'influx', 'clearly', 'expect', 'train', 'dub', '0825', 'hates', 'g696ga', 'rows', '1im', 'antelope', '09050000878', 'prakasamanu', 'manege', 'hunny', 'rummer', 'sherawat', 'eyes', 'wwwtxt43com', 'callers', 'hardest', 'reache', 'skateboarding', '18yrs', 'wwwldewcom', 'pobox75ldns7', 'allday', 'hhahhaahahah', 'transcribing', 'csh11', '2morow', 'medicine', '83049', 'sleepsweet', 'include', 'breeze', 'videosounds2', 'screwd', 'super', 'avble', 'yes762', 'ideas', 'arm', '87021', 'titles', 'winning', 'seeds', 'standard', 'motivate', 'dent', '150p', 'zyada', 'ovr', 'completed', '861', '150prcvd', 'hai', 'contented', 'combine', 'renewal', 'ambitious', 'affair', 'trial', 'boundaries', 'punish', 'fieldof', 'space', 'load', 'nudist', 'ish', 'pounds', 'nimya', 'tomo', 'box97n7qp', 'mmmmm', 'tonight', 'escalator', 'sweetie', 'varaya', 'farting', 'tiempo', 'period', 'return', 'surgical', 'funs', 'shhhhh', 'explain', 'while', 'gari', 'recovery', 'delay', '1010', 'chef', 'beauty', 'yunny', 'salary', 'clover', 'pleasure', 'skills', 'sashimi', '08448350055', 'nojst', 'caroline', 'almost', 'frnt', 'instant', 'carlos', 'ovulation', 'clos1', 'bloke', 'porridge', 'luckily', 'pole', 'astronomer', 'xin', 'pa', 'wahleykkumsharing', 'dress', 'bluff', 'evey', 'gifted', 'kintu', 'piah', 'tried', 'oi', 'uin', 'ashes', 'printing', 'waited', 'kits', 'original', 'nature', 'sacked', 'bro', 'online', 'madstini', 'mobno', 'proze', 'hallaq', 'txtstar', 'quote', 'wild', 'card', 'knowwait', 'chinky', 'chikkuwat', 'txting', 'kb', 'hook', 'ntt', 'underdtand', 'uwant', 'vodafone', 'pee', 'westlife', 'changes', 'sip', 'via', 'laugh', 'sleep', 'city', 'owo', 'losing', 'intention', 'sheets', 'bx', 'expires', 'mood', 'iscoming', 'hell', 'bari', 'weirdo', 'railway', 'kittum', 'voucherstext', 'handle', 'customer', 'alaipayuthe', 'really', 'ducking', 'inlude', 'dorothy', 'sen', 'slice', 'coughing', '97n7qp', 'wo', 'chapter', 'gautham', 'alian', 'does', 'nimyapls', 'maintain', 'informed', 'dhoni', 'opinion', 'continent', 'battery', 'lei', 'planettalkinstantcom', 'spain', 'wwwldewcom1win150ppmx3age16subscription', 'lowcost', 'jenne', 'lovers', 'cool', 'acc', 'dnt', 'shy', '077xxx', 'glad', 'cashed', 'macedonia', 'callfreefone', '1st', 'totally', 'manchester', 'polyph', 'smells', 'kip', 'theplace', 'posts', '07090201529', 'yourjob', 'wishin', '2wu', 'truly', 'raglan', 'wid', 'vtired', 'research', 'knowing', 'gary', 'happening', '420', 'lib', 'christmassy', 'borin', 'bank', 'plans', 'gal', '5pm', 'abj', 'messenger', 'parkin', 'sunlight', 'surfing', 'sponsors', 'ajith', 'characters', 'subscribe6gbpmnth', 'technical', 'dled', 'doing', 'bruv', 'future', 'sorrowsi', '1million', 'smaller', 'brighten', 'brb', 'lacsthats', 'resolved', 'openin', '08717509990', 'startedindia', 'vl', 'hen', 'fridays', 'norm150ptone', 'gowait', 'rules', '08707509020', 'm6', 'texted', 'tape', 'prashanthettan', 'hum', 'woah', 'graduated', 'stalk', 'poo', 'roads', 'abi', 'step', 'public', 'talking', 'collected', '08712317606', 'account', 'ifink', 'okday', 'probthat', 'vaguely', 'fixes', '87239', '29m', 'hunt', 'stealing', '08712300220', 'reminds', 'loans', 'travelling', 'admission', 'tight', '09064019014', 'bt', 'closeby', 'presence', 'howz', 'itcould', 'dave', 'holidayso', '285', 'ths', 'less', 'studying', 'dt', 'prompts', 'ugadi', 'pissed', 'five', 'trip', 'footbl', 'terrific', 'stopcost', 'there', 'adore', 'messed', 'telephonic', 'aries', 'agreen', 'mummy', 'baaaaabe', 'viva', 'toa', '81618', 'classmates', 'offer', 'hottest', 'vary', '08452810075over18', 'forth', 'bit', 'friends', 'overheating', 'afterwards', 'sivatats', '2go', 'moving', 'ava', 'begging', 'cloth', 'having', 'unconditionally', 'nitros', 'use', 'telly', 'against', 'oxygen', 'afghanistan', 'bite', 'epsilon', 'differ', 'parade', 'thesis', 'meneed', 'max7', 'gim', 'websitenow', 'puts', 'newquaysend', 'wanted', 'chase', 'checked', 'burgundy', 'problemi', 'wishes', 'consider', 'hero', 'abusers', 'helloooo', 'tenerife', 'tbspersolvo', 'water', 'club4mobilescom', 'mtnl', 'senthil', 'waking', 'suffers', 'superior', 'donewant', 'amazing', 'po', 'aiyah', 'poyyarikatur', 'fat', 'smokes', 'six', 'cleared', 'extra', 'swollen', '1da', 'wildlife', 'across', 'vilikkam', 'among', 'day', 'directors', 'sports', '5ish', 'canceled', 'samachara', 'result', 'foreign', 'hey', 'cab', 'secret', 'thuglyfe', 'tb', 'boy', 'stranger', 'patrick', 'thoughtsi', 'fluids', 'canal', 'face', 'gymnastics', '087147123779am7pm', 'ig11', 'pubs', 'eng', 'orchard', '08715203649', 'belive', 'cst', 'fastest', '4msgs', 'lamp', 'help', 'whose', 'computational', 'calls150ppm', 'logging', 'adp', 'appy', 'interest', 'nasty', '3xx', 't', 'lag', 'mi', 'noe', 'scrumptious', 'greece', 'angry', 'mis', 'shorts', 'math', 'wales', '145', 'rcvd', 'readiness', 'espe', '40mph', 'banned', 'nowadays', 'headset', 'smoked', 'oz', 'learned', 'blank', 'snervous', 'msgticket', 'nyc', 'beloved', 'salmon', '5wkg', '9decent', 'refreshed', 'roomate', 'leave', 'cl', 'graphics', 'calls1minmobsmore', 'karnan', 'hahahause', 'amount', 'motherfucker', '18', 'chip', 'refused', 'cheer', 'companion', 'bob', 'wildest', 'follow', 'hermy', 'oncall', 'formal', 'tncs', 'wants', '7shy', 'getzedcouk', 'jontin', 'smoke', 'visionsmscom', 'frndz', 'hire', 'customers', '45239', 'ag', 'y', 'taxless', '1013', 'told', '18only', 'squatting', 'thewend', 'z', 'second', 'uk', 'vouchers', 'learn', 'disagreeable', 'skye', 'prabu', 'uncomfortable', 'mumbai', '9th', 'hop', 'applebees', 'power', 'number', 'solved', 'wheat', 'spoiled', 'frnd', 'arngd', 'complementary', 'ahhh', 'juicy', 'gettin', 'burden', 'owed', 'memories', 'howard', 'muhommad', 'fizz', 'wasn', 'free2day', 'lasagna', 'losers', 'urgentbut', 'fool', 'sometimerakhesh', 'thoughts', 'lucky', 'netflix', 'sleeping', 'giving', 'salt', 'kadeem', 'secretly', 'ugo', 'cal', 'unspoken', 'ithink', 'charges', 'rem', 'shijutta', '120', 'innocent', 'yupz', 'how', 'lifpartnr', 'guessin', 'scratches', 'some', 'catches', 'urgnt', 'threats', 'toledo', 'kodthini', 'dodgey', 'pesky', 'dearwith', 'reality', 'tom', 'cmon', 'dealer', 'regarding', 'music', 'cld', 'wed', 'profit', 'dena', 'customercare', 'behind', 'gud', 'bcum', 'checkmate', 'soup', '020603', 'others', 'executive', 'drmstake', 'program', 'preschoolcoordinator', 'business', 'abta', 'installation', 'kanagu', 'axis', 'doesnt', 'yourself', 'imma', 'plsi', 'bloodsend', 'champneys', 'nannys', 'no165', 'christ', 'ebay', 'take', '88088', '087016248', 'rocks', 'woo', 'look', 'taste', 'academic', '1956669', 'j', 'vikkyi', 'knees', 'eta', 'hii', 'firmware', '09061221061', 'text', 'hanks', 'thepub', 'buff', 'inshah', 'ca', 'owns', 'hopefully', 'disclose', 'thanksgiving', 'melt', 'afford', 'galileo', 'anti', 'chikkugoing', 'enjoyin', 'vibrator', 'found', 'poly', 'shade', 'wearing', 'motherinlaw', 'two', 'nowonion', 'increase', 'sigh', 'welltake', 'been', 'aww', 'asapok', 'star', '3optical', 'buen', '08717168528', 'begin', '07801543489', 'draw', '4ward', 'sale', 'overa', 'twittering', 'out', 'placement', 'cudnt', 'subscriber', 'neither', 'goss', 'teeth', 'itna', 'exchanged', 'by', '0870k', 'golf', 'ones', 'poem', 'scoring', 'gang', 'wwwgetzedcouk', 'studyn', 'neededsalary', 'transaction', 'complaining', 'science', 'freemessage', 'started', 'ipads', 'protect', 'missunderstding', 'lotto', 'tocallshall', 'sfine', 'joining', 'lo', 'videosound', 'spree', 'apologetic', 'lovely', 'fifa', 'steve', 'functions', '177', 'able', 'failed', 'house', 'aight', 'dreamsmuah', 'competition', 'broken', 'madoke', 'voda', 'ard', 'burn', 'actually', 'browsin', 'benefits', 'amused', '3000', 'grumpy', 'treatin', 'guy', 'taylor', 'jstfrnd', 'txtno', 'prefer', 'atmsms', '2find', 'conected', 'hopeu', '326', 'terms', '50', 'knw', 'wanting', 'announced', 'possessive', 'talents', 'baby', 'internet', 'every', 'wipro', 'iron', 'shun', 'elsewhere', 'upset', 'jez', 'poop', 'worryc', 'custom', 'magicalsongsblogspotcom', 'converter', 'jos', 'everyday', 'girl', 'division', 'breadstick', 'contacts', 'notifications', 'expired', 'life', '07815296484', 'text82228', 'iam', 'basq', 'identification', 'efreefone', 'covers', 'away', 'restrict', 'measure', 'havebeen', '3lp', '09065989182', 'sian', 'yelling', 'rental', '_', 'transfer', 'wil', 'lounge', 'courage', 'payed', 'nightnobody', '447801259231', 'kisses', 'bonus', 'attend', '09061743811', 'downs', 'groovying', 'flower', 'lying', 'kegger', 'repeat', '08718723815', 'friend', 'career', 'cream', 'jiu', 'uncle', 'packs', 'uso', 'bright', 'callin', 'unsold', 'cd', 'skirt', 'wwwbubbletextcom', '20p', 'drastic', 'greeting', 'kissing', 'wait', '4a', 'fromwrk', '07734396839', 'atlast', 'devouring', 'sign', 'hail', 'ages', 'onwords', 'pt2', 'remembered', '121', 'gailxx', 'd', 'guys', 'terry', 'craving', 'spile', 'bx420ip45we', 'register', 'crash', 'worry', 'illspeak', 'starve', 'buyer', 'bills', 'wwwsmsacubootydelious', 'tells', 'normal', 'frank', 'f', 'intha', 'max', 'bathe', 'aslamalaikkum', 'europe', 'wadebridgei', 'watts', 'machi', 'unconvinced', 'abbey', 'ideal', 'upseti', 'mw', 'dare', 'bellearlier', '400', 'networking', 'newsby', 'limit', 'annoying', 'rumour', '2703', 'florida', 'reserves', 'dippeditinadew', 'opponenter', 'le', 'web', 'cheery', 'thats', 'bangb', 'm39m51', 'typical', 'story', 'venugopal', 'happenin', '1childish', 'fromm', 'goodnite', 'maturity', '078', 'makin', 'shivratri', 'fishhead', 'violated', '8830', 'gopalettan', 'goalsteam', 'senor', 'oic', 'vale', 'msg150p', 'perf', 'careumma', 'sends', '5226', 'ias', 'lrg', 'hides', 'dancce', 'modelsony', 'cute', 'extreme', 'advising', 'dream', 'call2optout674', 'dhanush', 'such', 'deliver', '08718727868', 'tonite', 'minimum', 'kkhow', 'around', 'wwwsantacallingcom', 'eurodisinc', 'convenience', 'planeti', 'optimistic', 'because', 'nauseous', 'loo', 'lists', 'ibiza', 'noline', 'week', 'subscribers', 'preferably', 'backdoor', 'lodge', 'temp', 'footie', 'jacuzzi', 'boys', 'since', 'missions', 'stylist', 'blame', 'elephant', '09061213237', 'forevr', 'reasons', 'shampain', '2optoutd3wv', 'numberso', 'sathya', '6230', 'lacking', 'shoranur', 'lapdancer', 'm8s', 'riley', 'autocorrect', 'relation', '7mahaveer', 'mising', 'props', 'touch', 'cards', 'gb', 'oil', '3uz', 'nurungu', 'nit', 'ai', 'ear', 'approaches', 'again', 'salespee', 'trade', 'personal', 'okie', '07786200117', 'comfort', 'dancing', 'watched', 'energy', 'cum', 'isn', 'prem', 'hun', 'kinda', 'elaborate', 'pub', '96', 'unintentional', 'mum', 'valuable', 'coupla', 'rite', 'panicks', 'spam', 'villa', '28', 'yahoo', 'tirunelvai', 'carlin', 'anything', 'complain', 'vava', 'happend', 'elama', '1', 'nalla', 'rocking', 'honeybee', 'julianaland', 'mix', 'assume', 'stuffs', 'sunday', 'swayze', 'boat', 'pocked', 'kuch', 'ryan', 'sounding', 'waqt', 'relatives', 'hypotheticalhuagauahahuagahyuhagga', 'intrude', 'saw', 'payasam', '68866', 'dreamlove', 'massive', 'falls', 'rise', 'swatch', 'outstanding', '20pmin', 'ridden', '4d', 'newest', 'wkent150p16', 'everyones', 'world', 'fill', 'tlk', 'jamstercouk', 'elaya', 'cc', 'full', 'lodging', 'boytoy', 'canteen', 'once', 'avo', 'screen', 'claimcode', 'go', 'walmart', 'satsgettin', 'deck', 'lark', 'truek', 'exposes', 'wrks', 'youphone', '____', 'piece', '09065069154', 'th', 'church', '150pmmorefrommobile2bremovedmobypobox734ls27yf', 'elections', 'discreet', 'internetservice', 'panther', 'corporation', 'cstore', 'nursery', 'reckon', 'becausethey', 'torch', 'worthless', 'mobilesdirect', 'vomit', 'stuffleaving', 'luck', 'nights', '08702840625', 'kano', 'that', 'trouser', 'jelly', '08708034412', 'himso', 'guaranteed', 'books', 'sugababes', 'tonght', 'seems', 'table', '02', 'main', 'derp', 'gwr', 'kwish', 'nowhere', 'remains', '4742', 'sister', 'mobsicom', 'didn', 'resubmit', 'rajitha', 'sorry', 'fidalfication', 'which', 'wwwurawinnercom', 'toppoly', 'burnt', 'brainy', '09061104276', 'works', '46', 'il', 'lot', 'driver', 'sochte', 'dhorte', 'costumes', 'athletic', 'winds', 'vomitin', 'keys', 'usher', 'cbe', 'steal', 'kanji', 'creepy', 'supreme', 'wwworangecoukow', 'approx', 'stream', 'catch', 'relax', 'caller', 'prabha', 'ah', 'congratulation', 'off', 'fees', 'l', 'turkeys', 'conform', 'sounds', 'ni8', 'sometme', 'problembut', 'sacrifice', 'else', 'met', 'housemaid', 'drugdealer', 'log', 'rr', 'processnetworking', 'stool', 'usc', 'ate', 'stoptxtstop150week', 'recount', 'goals', 'names', 'thanx4', 'factory', 'wkg', 'concentrate', 'loves', '2', 'today', 'hui', 'anonymous', 'february', 'chinatown', 'arrow', '25f', 'reaction', 'glorious', 'ds', 'wtc', 'lotr', 'cover', 'looking', 'monday', 'pump', 'best', 'ago', 'msgsometext', '30s', 'light', 'wendy', 'bold', '7pm', '09058091870', 'dayswill', 'yeovil', 'blah', 'cartoon', 'wasting', 'kioskvalid', 'restaurant', 'surf', 'beerage', 'reliant', 'nahi', 'moon', 'jb', 'blackberry', 'bitching', 'tohar', 'biro', 'landmark', 'renewed', 'formsdon', 'ashwini', 'missin', 'recharge', 'shd', 'weiyi', 'saeed', 'nasdaq', 'beta', 'wuld', 'weigh', 'dismissial', 'mind', 'sources', 'black', 'dont4get2text', 'hav', 'otside', 'gist', 'photo', 'somerset', 'promises', 'explicit', '11', '89693', 'problms', '500', 'await', 'enough', 'mums', 'nosh', 'tension', 'caught', 'lip', 'grief', 'px3748', 'jaz', 'receipt', 'idc', 'brah', 'urgh', 'helpline', 'swat', 'just', 'realy', '1225', 'hope', 'premier', 'ors', '150rcvd', 'brain', 'nonetheless', 'instead', 'taka', 'spys', 'couldnt', 'previews', 'popped', 'census', 'completing', 'eg23g', 'farm', 'str', 'werethe', 'n8', 'sofa', '945', 'expiredso', '21f', 'luv', 'coach', 'carefully', 'idiot', 'spoken', 'box385', '946', 'soon', 'natural', 'naughty', 'arent', '5min', '8000930705', 'yesmum', '41782', 'bus', 'lipo', 'sambarlife', 'hudgi', 'paper', 'blog', 'tcrw1', 'itjust', 'exam', 'woul', 'software', 'mates', 'guessing', 'possessiveness', 'cps', 'tonsolitusaswell', 'cut', 'dogg', 'errors', 'zeros', 'fetch', 'kate', 'adam', 'calld', 'trainners', 'hadya', 'crisis', 'window', 'loved', 'willpower', 'bath', 'reached', '20f', 'cherish', 'everythin', 'friendsare', 'beneficiary', 'lecturer', 'sorting', 'murali', 'desert', 'concert', 'prix', 'imf', 'somethin', 'whore', '150week', 'anyone', 'towncud', 'tirupur', 'mnth', 'price', 'videophones', 'bud', 'kitty', '391784', 'befor', 'tui', 'possession', 'wwwtcbiz', 'cnl', 'smiled', 'w1t1jy', '2309', 'confirmd', 'grumble', 'disc', 'mindsetbelieve', 'ask', 'peeps', 'messagestext', 'notified', 'olave', 'waaaat', 'perform', 'complete', 'shortage', 'edhae', 'excuse', '08712404000', 'begins', 'keen', 'her', 'call09050000327', 'revealed', 'camp', 'returns', 'after', 'gei', 'whether', 'sall', 'pthis', 'turned', 'saying', '0794674629107880867867', 'idea', 'info', 'srt', '0871277810710pmin', '1000s', 'lovin', 'travelled', 'customersqueries', '89034', 'freek', 'iff', '2exit', 'becz', 'busyi', 'dreamstake', 'reunion', 'matric', 'worries', 'spaces', 'justbeen', 'road', 'subtoitles', 'song', 'bcums', 'uscedu', 'home', 'kent', 'tank', 'student', 'goodo', 'tests', 'peril', 'rumbling', 'attack', 'eldest', 'aiyo', 'shell', 'see', 'clarify', '09066368753', 'sar', 'girlfrnd', 'orh', 'neway', 'raping', 'tat', 'takecare', 'shadow', 'coast', '10am', 'want2come', 'nap', 'wahala', 'badass', 'hugs', 'wins', 'low', 'callertune', 'aldrine', 'forwarding', 'bored', '5digital', 'irritates', 'on', '6months', 'tone', 'liked', 'claims', 'divert', 'allahrakhesh', 'chances', 'tt', 'jon', 'fathima', '2i', 'floppy', 'wwwfullonsmscom', 'swell', 'kilos', 'sea', 'monthly', 'yest', 'league', 'erm', 'attended', '26th', 'novelty', '82242', 'resume', 'strange', 'roller', 'incomm', 'disappeared', 'information', 'dosomething', 'exciting', 'give', 'error', '84128', 'tips', 'barkleys', 'walks', '80488', 'ericsson', 'northampton', 'saved', 'irritating', 'needle', 'silence', 'clue', 'abeg', 'chiong', 'directly', 'divorce', 'improved', 'tones', 'httpwwwgr8prizescom', 'jazz', 'lucozadecoukwrc', 'age16150ppermesssubscription', 'rct', 'facebook', 'tgxxrz', 'gbpsms', 'bunkers', 'greatness', 'bein', 'w45wq', 'express', '7732584351', 'along', 'impressively', 'chicken', 'someday', 'narcotics', 'lovingly', 'cloud', 'lotta', 'ploughing', 'spoil', 'shining', 'timedhoni', 'topicsorry', 'registered', 'we', 'pdate_now', 'flowers', 'tscs08714740323', '09094646899', 'askd', 'utter', 'dai', 'judgemental', 'agree', 'cuppa', 'inmind', 'brilliant', 'okay', 'stairs', 'prospects', '08719899217', 'bucks', 'quick', 'landlineonly', 'likely', 'fullonsmscom', 'interested', 'roww1jhl', 'yaxxx', 'upgrading', 'this', 'privacy', 'completely', 'chart', 'tarot', 'rain', 'miss', 'problem', 'celebrate', 'tomorrow', 'hardcore', 'acsmsrewards', 'statement', 'ufind', 'days', 'nosy', 'tranquility', 'phil', 'omw', 'passwords', 'shite', 'mean', 'themed', 'smiles', '9funny', 'enjoy', 'arab', 'glass', 'revision', 'url', 'crckt', 'horse', 'piss', 'evening', 'know', 'gmgngegn', 'drinkpa', 'tor', 'someplace', 'faster', 'count', 'myself', 'repair', 'dubsack', 'miles', 'ki', 'stuff', 'thts', 'gifts', '1x150pwk', '2yr', 'belly', 'smsservices', 'sore', 'pain', 'frogaxel', 'stash', 'dot', 'leftovers', 'infernal', 'celebration', 'txt82228couk', 'closed', 'unintentionally', 'game', '09050280520', 'mistake', 'noooooooo', 'noncomittal', 'vill', 'seing', 'website', 'spanish', 'faded', '84484', 'texting', 'plumbers', 'prolly', 'mr', 'sptv', 'texas', 'present', 'poured', 'mssuman', 'jenny', '2marrow', 'supports', 'wont', 'sections', 'promptly', 'smashed', 'christmas', 'infront', 'entitled', 'uses', 'pen', 'jocks', 'pobox45w2tg150p', 'shrek', 'gym', 'struggling', 'your', 'shexy', 'cup', 'ss', 'alertfrom', '1000', 'careers', 'they', 'sez', 'lem', 'calldrove', 'wwwsmsconet', 'bid', 'medical', 'fills', 'printed', 'watever', 'bars', 'gudk', 'select', 'sun0819', '1cup', 'french', 'four', 'lines', 'howda', 'sized', 'mymoby', 'somewhat', 'date', 'credits', 'occasion', 'gr8', 'tonights', 'nmde', 'administrator', 'hmmmm', 'deus', 'ave', 'buns', 'ooooooh', 'tonitebusy', 'flowing', 'invitation', 'broadband', 'rhode', 'country', 'ams', 'jeetey', 'hundredhe', 'mistakes', 'withdraw', '4my', 'friday', 'dayu', 'maraikara', 'pobox36504w45wq', 'valentine', 'mokka', '020903', 'careswt', 'companies', 'erutupalam', 'pence', 'lady', 'cause', 'xnet', 'solihull', 'curry', 'football', 'poking', '8077', 'hamper', 'eachother', 'blokes', 'weekstop', 'talent', 'audition', 'cooperative', 'work', 'inour', 'affairs', 'shindig', 'aaniye', 'dancin', 'rays', 'birthday', 'cars', 'gets', 'lul', 'fox', 'its', 'nxt', 'homecheck', 'valentines', 'sight', 'educational', 'during', 'aretaking', 'dependents', 'totes', 'xy', 'august', 'custcare', 'bhayandar', 'sex', '06', 'emotion', 'password', 'application', 'dict', 'jog', 'gn', 'tacos', 'jobyet', 'edrunk', '08712405022', 'status', 'money', 'la3', 'colour', 'enc', '300603t', '150pwk', 'few', 'nokia6650', 'dumb', 'wotz', 'projects', 'colleagues', 'that2worzels', '09058091854', 'todays', 'wining', 'oh', '08000776320', 'blown', 'jorgeshock', 'downloaded', 'bone', 'worth', 'diff', 'finishes', 'thinking', 'pobox334', 'bimbo', 'ouch', 'heroes', 'abuse', 'regretted', 'victors', 'unhappy', 'clear', 'theirs', 'speak', 'netno', 'aco', 'go2', 'chloe', 'nt', 'poet', 'get4an18th', 'eckankar', 'sleepin', 'starts', 'selected', 'csbcm4235wc1n3xx', 'sue', 'flirt', 'overdid', 'phones', 'midnight', 'resizing', 'g2', 'meeting', 'explosive', 'univ', 'andor', '21st', 'mathematics', 'whatsup', 'position', 'guides', 'clever', 'jo', 'door', 'marking', 'interviw', 'attached', 'tolerance', 'l8', 'iouri', 'believe', '08001950382', 'cuddling', 'someone', 'darkest', 'm', 'studentfinancial', 'puttin', 'garage', 'ab', 'cuddled', 'gained', 'guess', 'dudette', 'id1b6a5ecef91ff937819', 'shb', 'goodevening', 'daplease', 'stressfull', 'kusruthi', 'raised', 'rates', 'multis', 'his', 'grasp', 'auto', 'childish', 'successful', 'dead', 'fun', '40411', 'start', '5', 'checkup', 'carryin', '6romantic', 'kay', '89105', 'nokia150p', 'replied', 'pongal', 'bad', 'secs', 'speciale', 'zoom', '8007', 'lingo', 'enters', 'run', 'monl8rsx', 'yet', 'wer', 'lookatme', 'closes', 'yes', 'fro', '7th', 'msgrcvd18', 'sorta', 'tech', 'resent', 'psychic', '4t', '125gift', 'shot', 'fyi', 'dammit', 'curtsey', 'shifad', 'grocers', 'lotwill', '230ish', 'relocate', 'vikky', 'fainting', 'weeks', 'note', 'voila', 'gimmi', 'probably', 'bac', 'bedreal', 'joke', 'rubber', 'up', 'phoenix', '08718738001', 'ahhhh', 'skyped', 'system', 'chain', 'toplay', 'end', 'audrie', 'shitinnit', '186150', 'resend', '1lemondayno', '3miles', 'cuddle', 'din', 'oni', 'marrgeremembr', 'reflex', 'docks', 'allows', 'yuo', 'figures', 'pandy', 'herwill', 'lift', 'trying', 'finalise', 'loverboy', 'worse', 'coffee', 'shola', 'something', 'night', 'woot', 'fucking', 'unlimited', 'vaazhthukkal', 'xxx', 'hlp', 'min', 'nvm', 'promotion', 'spook', 'cu', '786', 'sisters', '600', 'lifted', 'ac', 'bookedthe', 'steam', 'dresser', 'coveragd', 'hopeing', '89545', 'bowl', 'lotsof', 'nb', 'asking', 'cam', 'bcaz', 'tescos', '1yf', 'semester', 'crore', 'fallen', 'abiola', 'slots', 'q', 'shakara', 'wherevr', 'tip', 'sense', 'dieting', 'ayo', 'answering', 'pilates', 'dhina', 'actual', 'duchess', 'stopbcm', '08719899230', 'only', 'afternoons', 'satanic', 'cousin', 'anjola', 'model', '44', 'xxsp', 'sake', 'subject', 'inside', 'inform', 'comp', 'abroad', 'm221bp', 'yalru', 'iq', 'edison', 'next', 'leu', 'siguviri', 'argentina', 'oja', 'confirmed', 'couple', 'wkend', 'oooh', 'gentle', 'feed', 'boobs', '08718730666', 'mid', 'combination', 'incorrect', '09064011000', 'wherever', 'hello', 'ntwk', 'drinks', 'base', 'raining', 'glasgow', 'between', 'yetty', 'given', 'ego', 'rebel', 'wasnt', 'company', 'replies', 'hugging', 'question', 'interfued', 'atlanta', 'suntec', '9153', 'itlet', 'embassy', 'secretary', 'birla', '08701417012', 'considering', 'rooms', 'december', 'win150ppmx3age16', 'album', 'double', 'waves', 'newscaster', 'shaking', '08715203652', 'stars', 'bluetoothhdset', 'drive', 'hrishi', 'image', 'reassuring', 'sausage', 'held', 'went', 'textoperator', 'indian', 'thenwill', 'astrology', '1hr', 'reg', 'carpark', 'spk', 'it', 'janinexx', 'tulip', 'motorola', 'sales', 'sexychat', 'hearing', 'citizen', 'wt', 'apeshit', 'stability', 'morn', 'cres', 'quizzes', 'requests', 'poorly', 'units', 'realize', 'longer', 'web2mobile', 'reminder', 'holding', 'arun', 'pink', 'wana', 'un', 'island', 'banter', 'computerless', 'knackered', 'bbc', 'placed', 'bbq', 'chief', '08718726270', 'alot', 'intelligent', '09050090044', 'irritated', 'promised', 'finn', 'compulsory', 'japanese', '09061701461', 'timehope', 'smithswitch', '08000938767', '8attractive', 'unclaimed', 'str8', 'workand', 'eerulli', 'juswoke', '80086', '07742676969', 'services', 'say', '2gthr', 'isaiahd', '0871277810910pmin', 'exhausted', 'dearly', 'bao', 'wrecked', '415', 'whenevr', 'wah', 'stomach', 'bb', 'merry', 'kettoda', 'of2000', 'tongued', 'fulfil', 'although', 'minnaminunginte', '4lux', 'spoilt', 'wwwtklscom', 'upping', 'action', 'surrender', 'muchand', 'stagwood', 'tea', 'olage', '7250', '447797706009', 'housework', 'starer', 'disastrous', 'wwwldewcom1win150ppmx3age16', 'gay', 'monthlysubscription', 'victoria', 'beforehand', 'innings', '5000', 'al', 'p399', 'specific', 'quality', '0', '3g', 'animation', 'obedient', 'ptbo', 'blogging', 'about', 'payed2day', 'doinat', 'uwana', 'western', 'fresh', '930', 'hasnt', 'foundurself', 'resub', 'cr01327bt', 'yoga', 'tones2u', 'pretty', '86888', '09063440451', 'outreach', 'grave', 'writhing', 'accounts', 'necessary', 'cooped', 'thought', 'geting', 'common', 'exhibition', 'tree', 'rolled', 'kotees', 'loyal', 'darkness', 'cantdo', 'goldviking', 'expert', 'talk', 'stomps', '10am9pm', 'friendships', 'cheek', 'piggy', 'romcapspam', 'tvhe', 'details', 'caring', 'raviyog', 'castor', 'least5times', 'apples', '12mths', 'crazyin', 'catching', 'checking', '69200', 'compliments', 'yellow', 'god', 'laying', '09064017295', 'coming', 'bottom', 'filthyguys', 'paypal', 'folks', 'tv', 'w', '9am11pm', 'scarcasim', '30', 'answerin', 'neekunna', 'usf', 'onto', 'bilo', 'phoned', '300', 'potato', '2b', '6times', 'forwarded', 'flight', 'erything', 'no83355', 'inconvenient', 'mentor', 'followin', 'way', 'mrng', 'taken', 'zealand', '80082', 'makes', 'moji', 'halloween', 'arithmetic', 'shop', 'sender', 'risks', 'underwear', 'job', 'printer', 'jsco', 'sucks', 'print', 'm8', 'algorithms', 'nte', 'onlydon', 'gokila', 'loads', 'enuff', 'bsn', 'wtf', 'starting', 'jeans', 'fgkslpo', 'needs', '250', 'w111wx', 'probpop', 'tosend', 'msgsubscription', 'aunts', 'kickoff', 'mei', 'lacsthere', 'fakeye', 'difference', 'booked', 'films', 'sarcastic', 'prebook', 'cultures', 'sprint', 'digi', '4few', 'ding', 'cash', 'sppok', '09066358152', 'sunroof', 'desparate', 'screaming', 'w1a', 'hut', 'misscall', '3u', 'goto', 'ms', 'izzit', 'ak', 'scraped', 'hills', 'mins', 'promo', 'formatting', '08002986030', 'feathery', 'babyjontet', 'several', 'teasing', '532', 'brains', 'everybody', 'youuuuu', 'yaxx', 'strong', '07973788240', 'saibaba', 'might', 'dungerees', 'fav', 'negative', 'mandan', 'tonexs', 'complaint', 'cumming', 'adds', 'cheetos', 'rightly', '0871212025016', 'availa', '10000', 'hardly', 'elvis', 'route', 'discount', 'ttyl', '83355', 'mia', 'babe', 'chatting', 'jumpers', 'wwwclubmobycom', 'box139', 'jeremiah', 'appeal', 'sday', 'keralacircle', 'deltomorrow', 'accordin', 'dialling', 'gastroenteritis', 'cookies', 'height', 'sound', '4w', 'cin', 'emily', 'weed', '4got', 'responding', 'yourinclusive', 'coaxing', 'breaker', 'radio', 'huiming', 'shahjahan', 'wot', 'o2', 'location', 'smell', 'enna', 'level', 'going', 'virtual', 'jay', 'aunties', 'callon', 'visitneed', 'bathroom', 'blood', 'hairdressers', 'twelve', 'matured', 'tablet', 'dao', 'silent', 'maybe', 'suits', 'freefone', 'freenokia', 'stamps', 'fact', 'nusstu', 'yep', 'updat', '50s', '450', 'datoday', 'cutie', 'sending', 'norm', 'hlday', 'rply', 'twins', 'wife', 'in', 'cheaper', 'leaves', 'minapn', 'borderline', 'looovvve', 'starring', 'meetgreet', 'drunken', 'weddin', 'bthere', 'st', 'usual', 'gobi', 'lost', 'psychologist', 'offc', '0870753331018', 'im', 'kit', 'spiritual', 'drops', 'armenia', '09066361921', 'deposited', 'over', 'flaky', 'searching', 'lk', 'argue', 'frm', 'sir', 'another', 'worried', 'shanil', '2waxsto', 'masked', 'fishrman', 'slowly', 'official', 'dan', '200', 'lou', 'fuck', 'clarification', 'recreation', '09050001808', '08006344447', 'throws', 'tonitethings', 'fantasies', 'contains', 'hoping', 'events', 'bristol', 'especially', 'xxxxxxxxxxxxxx', 'tis', 'nvq', 'then', 'madam', 'summer', 'satlove', 'moment', 'expensive', 'lifebook', '87077', 'case', 'nervous', 'envelope', 'emergency', 'katexxx', 'derek', 'reverse', 'argument', 'les', 'neft', 'payoh', 'giv', 'waliking', 'hows', 'did', 'joking', '80062', 'waiti', 'sweetest', 'until', 'dooms', 'determine', 'birds', 'wither', 'chk', 'fiting', 'entire', 'wthout', 'grr', 'too', 'call2optout4qf2', 'car', 'wallet', 'dajst', 'dreams', 'shirts', 'old', '7548', '69669', 'germany', 'part', 'arrange', 'bk', 'bcz', 'verified', 'sup', 'postcode', 'spose', 'our', 'aathilove', 'notice', '09066660100', 'tcllc', 'a30', 'alfie', 'floor', 'prizeto', 'lets', 'loose', 'had', 'giggle', 'basically', 'apply2', 'fails', 'confirm', '0870241182716', '09058095201', 'dealing', 'three', 'none', 'understanding', 'site', 'brother', 'gaps', '08718711108', 'woould', 'lie', 'rhythm', 'vry', 'hospital', 'achieve', 'harish', 'verify', 'delivery', 'evry', '08715205273', 'continued', 'valid12hrs', 'videos', 'review', 'forgt', 'cooked', 'thin', 'mall', 'hoo', 'department', 'hanging', 'yup', 'console', 'pobox11414tcrw1', 'perumbavoor', 'isnt', '09065394514', 'scammers', 'worst', 'rewarding', '08718729758', 'dormitory', '09061749602', 'putting', 'challenge', 'inde', 'ur', 'sunshine', 'pc', 'slower', 'club', 'categories', 'hurt', 'dude', 'rajini', 'colin', 'ron', 'frequently', 'whoever', 'woulda', 'my', 'prove', 'aiya', 'nyt', 'unconscious', 'nitz', 'posh', 'suggestions', 'hustle', 'comedycant', 'pisces', 'ax', 'prize', 'syrup', 'g', '730', 'push', 'throat', 'officestill', 'snake', 'cds', 'loosing', '28days', 'tata', '69888nyt', 'filled', 'av', '09058094599', 'eventually', 'shopping', 'owl', 'also', 'notebook', 'active', 'intro', '01223585236', 'violence', 'pouts', 'kr', '32323', 'awarded', 'diseases', 'code', 'queries', 'service', 'bday', '4info', 'tooo', 'library', 'hall', 'correctly', '88877', 'become', 'simply', 'tattoos', 'stock', '2naughty', '6pm', 'weight', 'ringtoneking', '83435', '402', 'balloon', 'crashing', 'nottel', 'suppliers', 'cried', '150pmtmsg', 'fire', 'coz', 'maga', '181104', 'you', 'sells', 'sth', 'recorded', 'completes', '08712402050', 'kalainar', 'together', 'o44345', 'siva', 'gmw', '89555', 'chez', 'wan', '21', 'bare', 'wwwclubzedcouk', 'includes', 'bother', 'display', 'shorethe', 'aftr', 'myparents', 'bomb', '1843', 'mmsto', 'laxinorficated', 'sory', 'avalarr', 'hollalater', 'crazy', '10am7pm', 'leonardo', 'teacher', 'mahal', 'mecause', 'freephone', '123', 'aig', 'superb', 'zebra', 'wasted', 'percentages', 'box1146', 'walkin', 'appt', 'infact', 'asks', 'hiphop', 'colourful', 'pie', 'optin', 'religiously', 'aint', 'cheating', 'easier', 'huge', 'rude', 'ganesh', 'replacement', 'domain', '08719180248', 'sun', 'babes', 'xclusive', 'enter', 'men', 'wwwetlpcoukexpressoffer', 'planning', 'wud', 'unbelievable', 'not', 'seriously', 'kerala', 'wrong', 'implications', 'robinson', '3750', 'practice', 'latest', 'simpsons', '08002986906', 'no762', 'living', 'mmmmmmm', 'nearer', 'returning', 'afraid', 'splashmobile', 'computer', 'messaged', 'sts', 'pre', 'added', 'months', 'trackmarque', 'yr', 'private', '08000407165', 'omg', 'congratulations', '09077818151', 'simple', '087143423992stop', 'iknow', '6th', 'borrow', 'seconds', 'she', 'mj', 'luvd', 'profile', 'whenever', 'specialisation', 'saucy', 'strip', 'pobox1', '2day', 'satisfied', 'tomorrowcall', 'studio', 'ticket', 'decimal', 'wallpaper', '515', 'missing', 'whilltake', 'am', 'weekends', 'canlove', '450ppw', 'cheyyamo', 'amx', 'jsut', '82277', 'creative', '150pmeg', 'loss', 'waht', 'hourish', 'pudunga', 'frmcloud', 'visa', 'move', 'avent', 'social', 'wwwtextpodnet', 'winterstone', 'truth', 'disaster', 'weddingfriend', 'whr', 'prediction', 'stone', 'bootydelious', 'deposit', 'moves', 'itxt', 'surely', 'dull', 'used', 'vday', 'goin', 'real', 'bray', 'moments', 'fink', 'him', 'mono', '530', 'nike', 'or2stoptxt', '2rcv', 'xafter', 'looks', 'shracomorsglsuplt', 'earth', 'transfered', 'twinks', 'done', 'spares', '25', 'gosh', 'x', 'get', 'past', 'buz', 'conclusion', 'well', '08448714184', 'picking', '84', 'xavier', 'beehoon', 'ollubut', 'hidden', 'shoving', 'outbid', 'strtd', 'parts', 'hyde', 'girls', 'chores', 'stress', 'cutting', '3680offer', 'singles', '311004', 'stockport', 'drunk', 'worrying', '6ish', 'mentionned', 'with', 'point', 'suggest', 'mu', 'definite', 'coccooning', 'alerts', 'round', 'anyhow', '150perweeksub', 'ileave', 'cake', 'posting', 'unsecured', 'quizclub', 'fever', 'nattil', '69888', '69698', 'youwanna', 'code4xx26', 'stereo', 'bornplease', 'freshers', '2007', 'limiting', 'promise', 'brief', 'ignoring', 'dint', 'qi', 'yavnt', 'liquor', 'malarky', 'terrible', 'genius', 'won', '85023', 'bbdeluxe', 'trek', 'wnt', 'prescribed', '300p', 'watchin', '09063458130', '07xxxxxxxxx', 'luton', 'biatch', 'tall', 'first', 'adress', 'roommate', 'calling', 'sentence', 'raise', 'sharing', 'grandmas', 'flew', '169', 'lately', 'ringtoneget', 'phone', 'timing', 'bulbs', 'gyno', 'bundle', 'fourth', 'effect', 'qatarrakhesh', 'inc', 'thedailydraw', 'alsoor', 'decisions', 'mahfuuz', 'tiz', 'fondly', 'diesel', 'tnc', 'dimension', 'before', 'score', 'naseeb', 'yday', 'numberrespectful', 'unfortuntly', '07821230901', 'mobiles', 'hands', '08712103738', 'ride', 'generally', 'but', 'republic', '08719839835', 'wings', '95pax', '09061743806', 'park', '1230', 'wwwldewcomsubs161win150ppmx3', '0125698789', 'treacle', 'goal', 'prasanth', 'operator', 'known', 'sure', '2p', 'cruisin', '2stop', 'haircut', 'fones', 'quiet', 'mobilesvary', 'lush', 'ladies', 'nokia6600', 'sleepy', 'gsoh', 'bbd', 'sheet', 'ppt150x3normal', 'warranty', 'attracts', 'quickly', 'mrt', 'docs', 'uncles', 'discussed', 'workin', 'h', 'replys150', 'thinkin', '08717205546', 'rememberi', 'accept', '08701237397', 'njan', 'eye', 'webpage', 'nobut', 'seh', 'processed', 'todayhe', 'activ8', 'agents', 'freaking', 'season', 'box326', 'gossip', 'boring', 'gamestar', 'remb', 'jada', 'box334', 'understand', 'ure', '448712404000', 'casting', '09050000301', 'lunch', 'u2moro', 'latr', 'sane', 'arrived', '09061702893', 'cabin', 'xchat', 'gotbabescouk', 'weather', 'w1j', 'wwwringtonekingcouk', 'wednesday', 'portions', 'herlove', 'sunoco', 'apply', 'tddnewsletter', 'gotten', 'dine', 'slept', 'challenging', 'immediately', 'bout', 'suprman', 'adsense', 'diet', 'ringtone', 'polyh', 'lifeis', 'odalebeku', 'thirunelvali', 'drunkard', 'tke', 'stressful', 'recharged', 'flood', 'national', 'photoshop', 'difficulties', 'roww1j6hl', 'wondering', 'guide', 'skillgame1winaweek', 'discuss', 'fumbling', 'roger', 'ertini', 'roast', 'every1', 'rest', 'pap', 'fifty', 'batsman', 'mush', 'onionrs', '4882', 'payee', '8o', '3sentiment', 'an', '8714714', 'tx', 'db', 'leaving', 'mountains', 'cm', 'famamus', 'efficient', '09095350301', 'walk', 'registration', 'mths', 'grab', 'machan', 'hostel', 'split', '84122', 'fuelled', 'nver', 'amrca', 'expression', 'batchlor', 'rtm', 'authorise', 'entrepreneurs', 'pple', 'monkeespeople', 'cashbincouk', 'converted', 'switch', 'surprise', 'watrdayno', 'mc', 'ha', 'shower', 'nowi', 'skyving', 'ignorant', 'kki', 'nah', 'slap', 'properly', 'matches', 'aids', 'whatever', 'nice', 'jesus', 'gals', 'pierre', 'lvblefrnd', 'spider', 'doubt', 'notixiquating', 'kaiez', 'cell', 'masters', '2003', 'ge', 'pattern', 'scold', 'ends', 'acl03530150pm', '7', 'contacted', 'spatula', 'lmao', '08452810071', 'bleh', 'frndsship', 'xam', 'earning', 'taking', 'attach', 'shipping', 'major', 'laid', 'sum', 'erode', 'phews', 'brolly', 'bird', 'meaningful', 'telephone', 'possibly', 'bpo', 'getstop', 'hamster', 'dracula', 'jan', 'chuckin', 'language', 'melnite', 'macs', 'funeral', 'crab', 'nuerologist', 'savamobmember', 'shouldn', 'office', 'dom', 'kare', 'warming', 'special', 'slices', 'hand', '1hanuman', 'tming', 'particular', 'bowls', 'walked', 'opener', 'mah', 'homeleft', 'khelate', 'somewheresomeone', 'btnationalrate', 'smartcall', 'faber', 'called', 'meatballs', 'september', 'lyf', 'feel', 'uslet', 'taunton', 'bras', '09065069120', 'bollox', 'packing', 'come', 'tensed', 'tag', 'beeen', 'coin', 'uterus', 'boston', 'driving', 'toughest', 'honey', 'pataistha', 'tahan', 'daily', 'ummmmmaah', 'triple', 'whassup', 'armand', 'non', 'kz', 'uncut', 'content', 'lil', 'belt', 'wk', 'whos', 'reward', '2getha', 'costs', 'happiness', 'minutes', 'wallpaperall', 'm26', 'rightio', 'excuses', 'sell', 'priscilla', 'prakasam', 'stylish', 'biggest', 'slow', 'film', 'lobby', 'outs', 'bcoz', 'sam', 'late', 'brainless', 'hurts', 'til', 'marketing', 'sensitive', 'stupid', 'sq825', 'cost150pm', '2hook', 'loverakhesh', 'wktxt', 'receiving', 'strongbuy', 'ikno', 'claim', 'mentionedtomorrow', '09066364349', 'province', 'responcewhat', '4brekkie', 'qet', 'margaret', 'mystery', 'itz', 'nothing', 'drizzling', '61610', 'milkdayno', 'moms', 'prey', 'somebody', 'eastenders', 'phd', 'orig', '8027', 'apartment', '5month', 'hu', 'respond', 'happened', 'ans', 'wwwbridalpetticoatdreamscouk', 'bambling', 'sleepingwith', 'easy', 'tex', 'listener', 'thing', '725', 'pizza', '09050003091', 'jeevithathile', 'bstfrnd', 'mornin', 'paid', '1tulsi', 'hmmm', 'recd', 'tear', 'irritation', 'horrible', 'situation', 'ls15hb', '2667', 'john', 'south', 'gee', '08715203694', 'pobox84', '08712400200', '08712405020', 'odi', 'apps', 'loud', 'exorcist', '2u', 'answered', 'babygoodbye', 'coolmob', 'responsibility', 'breakin', 'confuses', '08714712394', 'deluxe', 'doin', 'www07781482378com', 'choose', 'stayin', 'loneliness', 'okcome', '08701213186', 'thankyou', 'bennys', 'provider', 'property', 'here', 'colourred', 'greatbhaji', 'tiger', '78pmin', '07123456789', 'wif', 'nuclear', 'pai', 'daysèn', 'videochat', 'currently', '1appledayno', 'left', 'outdoors', 'drms', 'desperate', 'establish', 'growrandom', 'hos', 'proper', 'mad1', 'ikea', 'dinero', '10803', 'personmeet', 'vijay', 'nhs', 'rcv', 'wright', 'peripherals', 'park6ph', 'max10mins', 'buyers', 'degree', 'progress', 'network', 'hold', 'hubby', 'sac', 'pro', '2nite', 'century', 'theory', 'chitchat', 'yeshe', 'flights', '6031', 'rights', 'summers', '8ball', 'hee', 'keluviri', 'google', 'hvae', 'heat', 'shit', 'visitor', 'alto18coukwavewaveasp', 'oscar', 'welp', 'defer', 'dontcha', 'messages', 'chinese', 'nanny', 'diamonds', 'picsfree1', 'tones2youcouk', 'require', 'harder', 'gep', 'yck', 'sorted', 'officially', '0784987', 'leafdayno', 'cud', 'call2optout', 'strewn', 'telphone', 'lautech', 'processexcellent', 'daywith', 'lips', 'wats', 'monkeyaround', 'doke', 'forum', 'course', 'yer', 'mathe', 'market', 'evaluation', 'cricket', '2godid', '08450542832', 'bothering', 'opted', 'referin', 'vomiting', '2px', 'ultimatum', 'front', '061104', '08701417012150p', 'buzz', 'proof', 'delivered', 'drop', 'copy', 'tc', 'becaus', 'enemy', 'nora', 'key', 'comingdown', 'room', 'wc', 'whole', '3lions', 'warned', 'yoville', '2im', 'imposter', '85', '434', 'quiz', '2nitetell', 'paying', 'make', 'olowoyey', 'allowed', 'wwwflirtpartyus', 'cant', 'tamilnaduthen', 'fund', 'scrounge', 'impression', 'hockey', '08719180219', 'chick', 'arr', 'andros', 'bought', 'loveme', 'plaza', 'hotels', 'si', 'remet', 'princess', 'billed', 'casing', 'glands', 'ola', 'ghost', 'meive', 'blessed', 'source', 'plenty', 'street', '8hr', 'further', 'mostly', 'heri', 'exorcism', 'aeroplane', 'fired', 'the', 'busty', 'cappuccino', 'chex', '1131', 'sparkling', 'canary', 'okmail', 'collection', 'cashbalance', 'ew', 'cares', 'patent', 'name1', 'nokia', 'amnow', 'arguments', 'horny', 'yes910', 'jules', 'imagine', 'exactly', 'nigpun', 'zed', 'china', 'receive', 'eggs', 'preponed', '2nights', 'b4u', 'olol', 'kanowhr', 'disturb', '09066368327', 'booking', 'forget', '2optout', 'goods', 'logged', 'tobacco', 'suzy', 'maneesha', 'misbehaved', 'gibe', 'value', 'celeb', 'verifying', 'x49', 'edge', 'mitsake', 'ratio', 'ammo', 'wounds', '80878', '150msg', 'dificult', 'maretare', 'slob', '150perwksub', 'importantly', 'daysso', 'showed', 'downloads', 'snow', '08719899229', 'concentrating', 'silently', 'miserable', 'sack', 'conacted', 'broad', '14thmarch', 'cricketer', 'wun', 'conveying', 'rounder', 'buttheres', 'deal', 'mary', 'toleratbcs', 'bye', 'lekdog', 'txtjourney', 'fr', 'invest', 'tomarrow', 'will', 'kids', 'imp', 'closingdate040902', 'spoons', 'buses', 'took', 'vodka', 'sry', 'teaching', 'ho', 'mp3', 'mm', '08081560665', 'merememberin', 'constantly', 'ltd150mtmsgrcvd18', 'rang', 'tix', 'differences', 'net', '118pmsg', 'charity', 'papa', 'brisk', 'put', 'aathiwhere', 'distract', 'swt', '80182', 'hesitation', 'trav', '150ppmpobox10183bhamb64xe', 'byatch', 'gorgeous', 'thurs', 'thinks', 'blue', 'games', 'celebrated', 'fond', 'grandma', 'soonlots', '36504', 'jp', 'words', 'mother', 'us', 'friendship', 'chaps', 'click', 'kanoanyway', '150pmsgrcvdhgsuite3422landsroww1j6hl', 'instructions', 'screamed', 'purity', 'grateful', '08000839402', 'vewy', 'canada', 'doctor', '83738', 'sneham', 'whereare', 'scared', 'suffering', 'la', 'whenwhere', 'neva', 'ngage', 'sipix', 'steering', '86021', 'bbdthts', 'brown', 'sms08718727870', '2hrs', 'settled', 'including', 'announcement', 'hp', '1405', '8lovable', 'fine', '8wp', 'sony', 'magazine', 'outsomewhere', 'frndshp', 'eggpotato', 'wordsevry', 'ringtonekingcouk', 'ldn', '150ptone', 'relationship', 'dozens', 'overtime', 'michael', 'y87', 'everywhere', 'stamped', 'land', 'monster', 'meet', 'find', 'stops', 'bx526', 'meetin', 'direct', 'prepared', 'gone', 'warner', 'kiefercom', 'tmw', 'tap', 'jealous', 'disk', 'children', 'fwiw', 'selflessness', 'hunting', 'due', 'scouse', 'address', 'north', 'heading', 'cost', 'rushing', 'close', 'gr8prizes', 'joker', '1u', 'didt', 'shud', 'bcm', 'oreo', 'perfume', 'middle', 'kkwhere', 'sindu', 'faglord', 'mag', 'fraction', 'goes', 'aunt', 'arpraveesh', 'gas', 'baig', 'breath', 'alert', 'happy', 'lecture', 'school', 'decision', 'dysentry', 'pooja', 'wish', 'merely', 'bites', 'apnt', 'reading', 'bringing', 'pl', 'calicut', 'legitimat', '28thfebt', 'rounds', 'texd', 'pg', 'teach', '5we', 'tunji', '08704439680', 'barbie', 'support', 'cust', 'boatin', 'comedy', '88222', 'anymore', 'pimpleseven', 'landline', 'skype', 'bids', 'confused', 'furniture', 'comes', 'sitll', 'downstem', 'seeking', 'difficult', 'bathing', 'near', 'stopped', '3aj', '09066362206', 'thangam', 'sis', 'bsnl', 'gving', 'honestly', 'randomly', 'joy', 'witot', 'kl341', 'decided', 'search', 'shame', 'pookie', 'doublemins', 'shock', 'lived', '100txtmth', 'storelike', 'series', 'set', 'mine', 'fixedline', 'dedicated', 'far', 'gut', 'wkly', 'remain', 'agalla', 'suply', '150pmin', 'ipad', 'smsshsexnetun', 'hava', 'event', 'pairs', 'happier', 'despite', 'navigate', 'outfor', 'dining', 'better', 'weekend', 'dearloving', 'tirunelvali', 'wwwcashbincouk', 'wifi', 'matrix3', 'eating', 'tobed', 'pick', 'whn', 'movies', 'selection', 'recognises', 'unique', 'format', 'philosophy', 'onlybettr', 'lanre', 'pobox12n146tf15', 'woken', 'month', 'tightly', 'certainly', 'leadership', 'psychiatrist', 'feels', '09061743810', 'walsall', 'll', '515pm', 'matthew', '88800', 'chords', 'mistakeu', 'gpu', 'true', 'mns', 'laundry', 'rebtel', 'calculation', '0789xxxxxxx', 'sold', 'passport', 'ipaditan', 'through', 'swimsuit', 'stuffed', 'smartthough', 'says', 'sudn', 'wwwregalportfoliocouk', 'jabo', 'di', 'joinedhope', 'godyou', 'der', 'changed', 'bakrid', 'tour', 'polo', 'captaining', 'sleepwell', 'running', 'headin', 'block', 'dps', 'deals', 'eve', 'new', 'munsters', 'ishtamayoo', 'rs5', '83118', 'year', 'update', 'tau', 'evaporated']\n"
          ]
        }
      ]
    },
    {
      "cell_type": "code",
      "source": [
        "# Creating a mapping from unique characters to indices\n",
        "word2idx = {u:i for i, u in enumerate(vocab)}\n",
        "idx2word = np.array(vocab)\n",
        "\n",
        "def catch(func, *args, handle=lambda e : 0, **kwargs):\n",
        "    try:\n",
        "        return func(*args, **kwargs)\n",
        "    except Exception as e:\n",
        "        return handle(e)\n",
        "\n",
        "def text_to_int(text):\n",
        "  return np.array([catch(lambda : word2idx[c]) for c in normalize(text)])\n",
        "\n",
        "text_as_int = text_to_int(['what', 'will', 'we', 'do', 'in', 'the', 'shower', 'baby'])\n",
        "print(text_as_int)"
      ],
      "metadata": {
        "id": "TCGX23ptxPgI",
        "colab": {
          "base_uri": "https://localhost:8080/"
        },
        "outputId": "11004208-3055-4dc4-83f1-6299caf429a5"
      },
      "execution_count": 7,
      "outputs": [
        {
          "output_type": "stream",
          "name": "stdout",
          "text": [
            "[1915 7513 5351 6290 7427 7023 4545]\n"
          ]
        }
      ]
    },
    {
      "cell_type": "code",
      "source": [
        "def int_to_text(ints):\n",
        "  try:\n",
        "    ints = ints.numpy()\n",
        "  except:\n",
        "    pass\n",
        "  return ' '.join(idx2word[ints])\n",
        "\n",
        "print(int_to_text(text_as_int))"
      ],
      "metadata": {
        "id": "MRyqqV0Y_xF9",
        "colab": {
          "base_uri": "https://localhost:8080/"
        },
        "outputId": "f2a6bf80-d7c1-43dc-cad4-7a6a964962d6"
      },
      "execution_count": 8,
      "outputs": [
        {
          "output_type": "stream",
          "name": "stdout",
          "text": [
            "what will we in the shower baby\n"
          ]
        }
      ]
    },
    {
      "cell_type": "code",
      "source": [
        "one_hot_encoded_train['text'] = one_hot_encoded_train.apply(lambda row: text_to_int(row['text']), axis=1)\n",
        "one_hot_encoded_test['text'] = one_hot_encoded_test.apply(lambda row: text_to_int(row['text']), axis=1)\n",
        "train_labels = one_hot_encoded_train.pop('type_ham').to_numpy()\n",
        "test_labels = one_hot_encoded_test.pop('type_ham').to_numpy()\n",
        "oone_hot_encoded_train = one_hot_encoded_train.drop('type_spam', axis=1)\n",
        "one_hot_encoded_test = one_hot_encoded_test.drop('type_spam', axis=1)"
      ],
      "metadata": {
        "id": "bqjLDjMmADmC"
      },
      "execution_count": 9,
      "outputs": []
    },
    {
      "cell_type": "code",
      "source": [
        "print(len(train_labels))"
      ],
      "metadata": {
        "id": "XI0PYdO1IX--",
        "colab": {
          "base_uri": "https://localhost:8080/"
        },
        "outputId": "ac6b4edd-ad9f-4ed0-fa80-0ed7f88e7772"
      },
      "execution_count": 10,
      "outputs": [
        {
          "output_type": "stream",
          "name": "stdout",
          "text": [
            "4179\n"
          ]
        }
      ]
    },
    {
      "cell_type": "code",
      "source": [
        "one_hot_encoded_test.tail()"
      ],
      "metadata": {
        "id": "KUvE13RNwrCE",
        "colab": {
          "base_uri": "https://localhost:8080/",
          "height": 206
        },
        "outputId": "0eaa057b-3516-4081-fc61-4b30fa31f9fa"
      },
      "execution_count": 11,
      "outputs": [
        {
          "output_type": "execute_result",
          "data": {
            "text/html": [
              "\n",
              "  <div id=\"df-869005d7-7df4-441a-bceb-a51eec5038cd\">\n",
              "    <div class=\"colab-df-container\">\n",
              "      <div>\n",
              "<style scoped>\n",
              "    .dataframe tbody tr th:only-of-type {\n",
              "        vertical-align: middle;\n",
              "    }\n",
              "\n",
              "    .dataframe tbody tr th {\n",
              "        vertical-align: top;\n",
              "    }\n",
              "\n",
              "    .dataframe thead th {\n",
              "        text-align: right;\n",
              "    }\n",
              "</style>\n",
              "<table border=\"1\" class=\"dataframe\">\n",
              "  <thead>\n",
              "    <tr style=\"text-align: right;\">\n",
              "      <th></th>\n",
              "      <th>text</th>\n",
              "    </tr>\n",
              "  </thead>\n",
              "  <tbody>\n",
              "    <tr>\n",
              "      <th>1387</th>\n",
              "      <td>[7785, 0, 2327, 841, 1722, 5410, 1075, 2911, 0...</td>\n",
              "    </tr>\n",
              "    <tr>\n",
              "      <th>1388</th>\n",
              "      <td>[1915, 7513, 5351, 6290, 7427, 7023, 4545]</td>\n",
              "    </tr>\n",
              "    <tr>\n",
              "      <th>1389</th>\n",
              "      <td>[560, 2166, 6555, 1915, 2166, 6555, 4042, 2166...</td>\n",
              "    </tr>\n",
              "    <tr>\n",
              "      <th>1390</th>\n",
              "      <td>[6469, 7436, 821, 7270, 5054, 3859, 841, 2125,...</td>\n",
              "    </tr>\n",
              "    <tr>\n",
              "      <th>1391</th>\n",
              "      <td>[6626, 227, 145, 3647, 3876, 1928, 1339, 6612,...</td>\n",
              "    </tr>\n",
              "  </tbody>\n",
              "</table>\n",
              "</div>\n",
              "      <button class=\"colab-df-convert\" onclick=\"convertToInteractive('df-869005d7-7df4-441a-bceb-a51eec5038cd')\"\n",
              "              title=\"Convert this dataframe to an interactive table.\"\n",
              "              style=\"display:none;\">\n",
              "        \n",
              "  <svg xmlns=\"http://www.w3.org/2000/svg\" height=\"24px\"viewBox=\"0 0 24 24\"\n",
              "       width=\"24px\">\n",
              "    <path d=\"M0 0h24v24H0V0z\" fill=\"none\"/>\n",
              "    <path d=\"M18.56 5.44l.94 2.06.94-2.06 2.06-.94-2.06-.94-.94-2.06-.94 2.06-2.06.94zm-11 1L8.5 8.5l.94-2.06 2.06-.94-2.06-.94L8.5 2.5l-.94 2.06-2.06.94zm10 10l.94 2.06.94-2.06 2.06-.94-2.06-.94-.94-2.06-.94 2.06-2.06.94z\"/><path d=\"M17.41 7.96l-1.37-1.37c-.4-.4-.92-.59-1.43-.59-.52 0-1.04.2-1.43.59L10.3 9.45l-7.72 7.72c-.78.78-.78 2.05 0 2.83L4 21.41c.39.39.9.59 1.41.59.51 0 1.02-.2 1.41-.59l7.78-7.78 2.81-2.81c.8-.78.8-2.07 0-2.86zM5.41 20L4 18.59l7.72-7.72 1.47 1.35L5.41 20z\"/>\n",
              "  </svg>\n",
              "      </button>\n",
              "      \n",
              "  <style>\n",
              "    .colab-df-container {\n",
              "      display:flex;\n",
              "      flex-wrap:wrap;\n",
              "      gap: 12px;\n",
              "    }\n",
              "\n",
              "    .colab-df-convert {\n",
              "      background-color: #E8F0FE;\n",
              "      border: none;\n",
              "      border-radius: 50%;\n",
              "      cursor: pointer;\n",
              "      display: none;\n",
              "      fill: #1967D2;\n",
              "      height: 32px;\n",
              "      padding: 0 0 0 0;\n",
              "      width: 32px;\n",
              "    }\n",
              "\n",
              "    .colab-df-convert:hover {\n",
              "      background-color: #E2EBFA;\n",
              "      box-shadow: 0px 1px 2px rgba(60, 64, 67, 0.3), 0px 1px 3px 1px rgba(60, 64, 67, 0.15);\n",
              "      fill: #174EA6;\n",
              "    }\n",
              "\n",
              "    [theme=dark] .colab-df-convert {\n",
              "      background-color: #3B4455;\n",
              "      fill: #D2E3FC;\n",
              "    }\n",
              "\n",
              "    [theme=dark] .colab-df-convert:hover {\n",
              "      background-color: #434B5C;\n",
              "      box-shadow: 0px 1px 3px 1px rgba(0, 0, 0, 0.15);\n",
              "      filter: drop-shadow(0px 1px 2px rgba(0, 0, 0, 0.3));\n",
              "      fill: #FFFFFF;\n",
              "    }\n",
              "  </style>\n",
              "\n",
              "      <script>\n",
              "        const buttonEl =\n",
              "          document.querySelector('#df-869005d7-7df4-441a-bceb-a51eec5038cd button.colab-df-convert');\n",
              "        buttonEl.style.display =\n",
              "          google.colab.kernel.accessAllowed ? 'block' : 'none';\n",
              "\n",
              "        async function convertToInteractive(key) {\n",
              "          const element = document.querySelector('#df-869005d7-7df4-441a-bceb-a51eec5038cd');\n",
              "          const dataTable =\n",
              "            await google.colab.kernel.invokeFunction('convertToInteractive',\n",
              "                                                     [key], {});\n",
              "          if (!dataTable) return;\n",
              "\n",
              "          const docLinkHtml = 'Like what you see? Visit the ' +\n",
              "            '<a target=\"_blank\" href=https://colab.research.google.com/notebooks/data_table.ipynb>data table notebook</a>'\n",
              "            + ' to learn more about interactive tables.';\n",
              "          element.innerHTML = '';\n",
              "          dataTable['output_type'] = 'display_data';\n",
              "          await google.colab.output.renderOutput(dataTable, element);\n",
              "          const docLink = document.createElement('div');\n",
              "          docLink.innerHTML = docLinkHtml;\n",
              "          element.appendChild(docLink);\n",
              "        }\n",
              "      </script>\n",
              "    </div>\n",
              "  </div>\n",
              "  "
            ],
            "text/plain": [
              "                                                   text\n",
              "1387  [7785, 0, 2327, 841, 1722, 5410, 1075, 2911, 0...\n",
              "1388         [1915, 7513, 5351, 6290, 7427, 7023, 4545]\n",
              "1389  [560, 2166, 6555, 1915, 2166, 6555, 4042, 2166...\n",
              "1390  [6469, 7436, 821, 7270, 5054, 3859, 841, 2125,...\n",
              "1391  [6626, 227, 145, 3647, 3876, 1928, 1339, 6612,..."
            ]
          },
          "metadata": {},
          "execution_count": 11
        }
      ]
    },
    {
      "cell_type": "code",
      "source": [
        "from keras.preprocessing import sequence\n",
        "VOCAB_SIZE = len(vocab)\n",
        "\n",
        "MAXLEN = 100\n",
        "\n",
        "train_data = sequence.pad_sequences(one_hot_encoded_train['text'].to_numpy(), MAXLEN)\n",
        "test_data = sequence.pad_sequences(one_hot_encoded_test['text'].to_numpy(), MAXLEN)"
      ],
      "metadata": {
        "id": "lPdXREbFKI0j"
      },
      "execution_count": 12,
      "outputs": []
    },
    {
      "cell_type": "code",
      "source": [
        "argu = 1389\n",
        "print(train_data[argu],train_labels[argu])"
      ],
      "metadata": {
        "id": "AWiNJ286L4z9",
        "colab": {
          "base_uri": "https://localhost:8080/"
        },
        "outputId": "12591120-329a-4de0-bd78-cd39f381a81f"
      },
      "execution_count": 13,
      "outputs": [
        {
          "output_type": "stream",
          "name": "stdout",
          "text": [
            "[   0    0    0    0    0    0    0    0    0    0    0    0    0    0\n",
            "    0    0    0    0    0    0    0    0    0    0    0    0    0    0\n",
            "    0    0    0    0    0    0    0    0    0    0    0    0    0    0\n",
            "    0    0    0    0    0    0    0    0    0    0    0    0    0    0\n",
            "    0    0    0    0    0    0    0    0    0    0    0    0    0    0\n",
            "    0    0    0    0    0    0    0    0    0    0    0    0    0    0\n",
            "    0    0    0    0    0    0    0    0    0    0 2440 7458 3557 7427\n",
            " 3036 6553] 1\n"
          ]
        }
      ]
    },
    {
      "cell_type": "code",
      "source": [
        "model = tf.keras.Sequential([\n",
        "    tf.keras.layers.Embedding(VOCAB_SIZE, 32),\n",
        "    tf.keras.layers.LSTM(32),\n",
        "    tf.keras.layers.Dense(64, activation=\"relu\"),\n",
        "    tf.keras.layers.Dense(1, activation=\"sigmoid\")\n",
        "])\n",
        "model.summary()"
      ],
      "metadata": {
        "id": "FaZDnqldMqfh",
        "colab": {
          "base_uri": "https://localhost:8080/"
        },
        "outputId": "90481719-dc4c-436d-8e0c-5175013386a3"
      },
      "execution_count": 14,
      "outputs": [
        {
          "output_type": "stream",
          "name": "stdout",
          "text": [
            "Model: \"sequential\"\n",
            "_________________________________________________________________\n",
            " Layer (type)                Output Shape              Param #   \n",
            "=================================================================\n",
            " embedding (Embedding)       (None, None, 32)          250464    \n",
            "                                                                 \n",
            " lstm (LSTM)                 (None, 32)                8320      \n",
            "                                                                 \n",
            " dense (Dense)               (None, 64)                2112      \n",
            "                                                                 \n",
            " dense_1 (Dense)             (None, 1)                 65        \n",
            "                                                                 \n",
            "=================================================================\n",
            "Total params: 260,961\n",
            "Trainable params: 260,961\n",
            "Non-trainable params: 0\n",
            "_________________________________________________________________\n"
          ]
        }
      ]
    },
    {
      "cell_type": "code",
      "source": [
        "model.compile(loss=\"binary_crossentropy\",optimizer=\"rmsprop\",metrics=['acc'])\n",
        "\n",
        "history = model.fit(train_data, train_labels, epochs=5, validation_split=0.2)"
      ],
      "metadata": {
        "id": "U3rnPhOeM-c8",
        "colab": {
          "base_uri": "https://localhost:8080/"
        },
        "outputId": "4f4813c0-ded9-4dbe-ae8d-f085de826f63"
      },
      "execution_count": 15,
      "outputs": [
        {
          "output_type": "stream",
          "name": "stdout",
          "text": [
            "Epoch 1/5\n",
            "105/105 [==============================] - 8s 51ms/step - loss: 0.2322 - acc: 0.9204 - val_loss: 0.1005 - val_acc: 0.9737\n",
            "Epoch 2/5\n",
            "105/105 [==============================] - 5s 45ms/step - loss: 0.0540 - acc: 0.9853 - val_loss: 0.0461 - val_acc: 0.9868\n",
            "Epoch 3/5\n",
            "105/105 [==============================] - 5s 45ms/step - loss: 0.0296 - acc: 0.9907 - val_loss: 0.0696 - val_acc: 0.9773\n",
            "Epoch 4/5\n",
            "105/105 [==============================] - 5s 44ms/step - loss: 0.0209 - acc: 0.9943 - val_loss: 0.0483 - val_acc: 0.9880\n",
            "Epoch 5/5\n",
            "105/105 [==============================] - 5s 45ms/step - loss: 0.0148 - acc: 0.9958 - val_loss: 0.0700 - val_acc: 0.9797\n"
          ]
        }
      ]
    },
    {
      "cell_type": "code",
      "source": [
        "results = model.evaluate(test_data, test_labels)\n",
        "print(results)"
      ],
      "metadata": {
        "id": "L6gdwv-rNIKv",
        "colab": {
          "base_uri": "https://localhost:8080/"
        },
        "outputId": "283c6808-feb8-4616-bd5d-a8b8628ee79c"
      },
      "execution_count": 16,
      "outputs": [
        {
          "output_type": "stream",
          "name": "stdout",
          "text": [
            "44/44 [==============================] - 0s 10ms/step - loss: 0.0623 - acc: 0.9842\n",
            "[0.06231816112995148, 0.9841954112052917]\n"
          ]
        }
      ]
    },
    {
      "cell_type": "code",
      "execution_count": 17,
      "metadata": {
        "id": "J9tD9yACG6M9",
        "colab": {
          "base_uri": "https://localhost:8080/"
        },
        "outputId": "59b9d77d-6700-472a-b07d-6d47eb984fd2"
      },
      "outputs": [
        {
          "output_type": "stream",
          "name": "stdout",
          "text": [
            "[0.9999516, 'ham']\n"
          ]
        }
      ],
      "source": [
        "# function to predict messages based on model\n",
        "# (should return list containing prediction and label, ex. [0.008318834938108921, 'ham'])\n",
        "def predict_message(pred_text):\n",
        "  tokens = nltk.word_tokenize(pred_text)\n",
        "  text_int = text_to_int(tokens)\n",
        "  text_int = sequence.pad_sequences([text_int], MAXLEN)[0]\n",
        "  pred = np.zeros((1,MAXLEN))\n",
        "  pred[0] = text_int\n",
        "  result = model.predict(pred)\n",
        "  prediction =  result[0][0]\n",
        "  if prediction > 0.5:\n",
        "    out = 'ham'\n",
        "  else:\n",
        "    out = 'spam'\n",
        "\n",
        "  return [prediction, out]\n",
        "\n",
        "pred_text = \"how are you doing today?\"\n",
        "\n",
        "prediction = predict_message(pred_text)\n",
        "print(prediction)"
      ]
    },
    {
      "cell_type": "code",
      "execution_count": 18,
      "metadata": {
        "id": "Dxotov85SjsC",
        "colab": {
          "base_uri": "https://localhost:8080/"
        },
        "outputId": "10927ebb-a57a-49f1-e213-da7825ed26e9"
      },
      "outputs": [
        {
          "output_type": "stream",
          "name": "stdout",
          "text": [
            "You passed the challenge. Great job!\n"
          ]
        }
      ],
      "source": [
        "# Run this cell to test your function and model. Do not modify contents.\n",
        "def test_predictions():\n",
        "  test_messages = [\"how are you doing today\",\n",
        "                   \"sale today! to stop texts call 98912460324\",\n",
        "                   \"i dont want to go. can we try it a different day? available sat\",\n",
        "                   \"our new mobile video service is live. just install on your phone to start watching.\",\n",
        "                   \"you have won £1000 cash! call to claim your prize.\",\n",
        "                   \"i'll bring it tomorrow. don't forget the milk.\",\n",
        "                   \"wow, is your arm alright. that happened to me one time too\"\n",
        "                  ]\n",
        "\n",
        "  test_answers = [\"ham\", \"spam\", \"ham\", \"spam\", \"spam\", \"ham\", \"ham\"]\n",
        "  passed = True\n",
        "\n",
        "  for msg, ans in zip(test_messages, test_answers):\n",
        "    prediction = predict_message(msg)\n",
        "    if prediction[1] != ans:\n",
        "      passed = False\n",
        "\n",
        "  if passed:\n",
        "    print(\"You passed the challenge. Great job!\")\n",
        "  else:\n",
        "    print(\"You haven't passed yet. Keep trying.\")\n",
        "\n",
        "test_predictions()"
      ]
    }
  ],
  "metadata": {
    "colab": {
      "collapsed_sections": [],
      "name": "fcc_sms_text_classification.ipynb",
      "provenance": [],
      "include_colab_link": true
    },
    "kernelspec": {
      "display_name": "Python 3",
      "name": "python3"
    },
    "language_info": {}
  },
  "nbformat": 4,
  "nbformat_minor": 0
}
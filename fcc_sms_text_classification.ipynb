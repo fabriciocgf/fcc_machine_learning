{
  "cells": [
    {
      "cell_type": "markdown",
      "metadata": {
        "id": "view-in-github",
        "colab_type": "text"
      },
      "source": [
        "<a href=\"https://colab.research.google.com/github/fabriciocgf/fcc_machine_learning/blob/main/fcc_sms_text_classification.ipynb\" target=\"_parent\"><img src=\"https://colab.research.google.com/assets/colab-badge.svg\" alt=\"Open In Colab\"/></a>"
      ]
    },
    {
      "cell_type": "markdown",
      "metadata": {
        "id": "Eg62Pmz3o83v"
      },
      "source": [
        "*Note: You are currently reading this using Google Colaboratory which is a cloud-hosted version of Jupyter Notebook. This is a document containing both text cells for documentation and runnable code cells. If you are unfamiliar with Jupyter Notebook, watch this 3-minute introduction before starting this challenge: https://www.youtube.com/watch?v=inN8seMm7UI*\n",
        "\n",
        "---\n",
        "\n",
        "In this challenge, you need to create a machine learning model that will classify SMS messages as either \"ham\" or \"spam\". A \"ham\" message is a normal message sent by a friend. A \"spam\" message is an advertisement or a message sent by a company.\n",
        "\n",
        "You should create a function called `predict_message` that takes a message string as an argument and returns a list. The first element in the list should be a number between zero and one that indicates the likeliness of \"ham\" (0) or \"spam\" (1). The second element in the list should be the word \"ham\" or \"spam\", depending on which is most likely.\n",
        "\n",
        "For this challenge, you will use the [SMS Spam Collection dataset](http://www.dt.fee.unicamp.br/~tiago/smsspamcollection/). The dataset has already been grouped into train data and test data.\n",
        "\n",
        "The first two cells import the libraries and data. The final cell tests your model and function. Add your code in between these cells.\n"
      ]
    },
    {
      "cell_type": "code",
      "execution_count": 1,
      "metadata": {
        "id": "8RZOuS9LWQvv",
        "colab": {
          "base_uri": "https://localhost:8080/"
        },
        "outputId": "3e9e8cfc-e4bb-4f32-f0c5-a09a964c34db"
      },
      "outputs": [
        {
          "output_type": "stream",
          "name": "stdout",
          "text": [
            "2.7.0\n"
          ]
        }
      ],
      "source": [
        "import tensorflow as tf\n",
        "import pandas as pd\n",
        "from tensorflow import keras\n",
        "import numpy as np\n",
        "import matplotlib.pyplot as plt\n",
        "\n",
        "print(tf.__version__)"
      ]
    },
    {
      "cell_type": "code",
      "execution_count": 2,
      "metadata": {
        "id": "lMHwYXHXCar3",
        "colab": {
          "base_uri": "https://localhost:8080/"
        },
        "outputId": "b7f133f7-e5bf-4b54-f4c8-4d78fc6f951a"
      },
      "outputs": [
        {
          "output_type": "stream",
          "name": "stdout",
          "text": [
            "--2022-01-29 03:04:54--  https://cdn.freecodecamp.org/project-data/sms/train-data.tsv\n",
            "Resolving cdn.freecodecamp.org (cdn.freecodecamp.org)... 104.26.2.33, 172.67.70.149, 104.26.3.33, ...\n",
            "Connecting to cdn.freecodecamp.org (cdn.freecodecamp.org)|104.26.2.33|:443... connected.\n",
            "HTTP request sent, awaiting response... 200 OK\n",
            "Length: 358233 (350K) [text/tab-separated-values]\n",
            "Saving to: ‘train-data.tsv’\n",
            "\n",
            "train-data.tsv      100%[===================>] 349.84K  --.-KB/s    in 0.01s   \n",
            "\n",
            "2022-01-29 03:04:55 (30.7 MB/s) - ‘train-data.tsv’ saved [358233/358233]\n",
            "\n",
            "--2022-01-29 03:04:55--  https://cdn.freecodecamp.org/project-data/sms/valid-data.tsv\n",
            "Resolving cdn.freecodecamp.org (cdn.freecodecamp.org)... 104.26.2.33, 172.67.70.149, 104.26.3.33, ...\n",
            "Connecting to cdn.freecodecamp.org (cdn.freecodecamp.org)|104.26.2.33|:443... connected.\n",
            "HTTP request sent, awaiting response... 200 OK\n",
            "Length: 118774 (116K) [text/tab-separated-values]\n",
            "Saving to: ‘valid-data.tsv’\n",
            "\n",
            "valid-data.tsv      100%[===================>] 115.99K  --.-KB/s    in 0.002s  \n",
            "\n",
            "2022-01-29 03:04:55 (49.0 MB/s) - ‘valid-data.tsv’ saved [118774/118774]\n",
            "\n"
          ]
        }
      ],
      "source": [
        "# get data files\n",
        "!wget https://cdn.freecodecamp.org/project-data/sms/train-data.tsv\n",
        "!wget https://cdn.freecodecamp.org/project-data/sms/valid-data.tsv\n",
        "\n",
        "train_file_path = \"train-data.tsv\"\n",
        "test_file_path = \"valid-data.tsv\""
      ]
    },
    {
      "cell_type": "code",
      "execution_count": 3,
      "metadata": {
        "id": "g_h508FEClxO",
        "colab": {
          "base_uri": "https://localhost:8080/",
          "height": 206
        },
        "outputId": "dc823c29-f2a0-4e68-ac7b-96f0b7c9374a"
      },
      "outputs": [
        {
          "output_type": "execute_result",
          "data": {
            "text/html": [
              "\n",
              "  <div id=\"df-45809e1e-d35f-41fc-a46f-1b9ded336e6a\">\n",
              "    <div class=\"colab-df-container\">\n",
              "      <div>\n",
              "<style scoped>\n",
              "    .dataframe tbody tr th:only-of-type {\n",
              "        vertical-align: middle;\n",
              "    }\n",
              "\n",
              "    .dataframe tbody tr th {\n",
              "        vertical-align: top;\n",
              "    }\n",
              "\n",
              "    .dataframe thead th {\n",
              "        text-align: right;\n",
              "    }\n",
              "</style>\n",
              "<table border=\"1\" class=\"dataframe\">\n",
              "  <thead>\n",
              "    <tr style=\"text-align: right;\">\n",
              "      <th></th>\n",
              "      <th>text</th>\n",
              "      <th>type_ham</th>\n",
              "      <th>type_spam</th>\n",
              "    </tr>\n",
              "  </thead>\n",
              "  <tbody>\n",
              "    <tr>\n",
              "      <th>4174</th>\n",
              "      <td>just woke up. yeesh its late. but i didn't fal...</td>\n",
              "      <td>1</td>\n",
              "      <td>0</td>\n",
              "    </tr>\n",
              "    <tr>\n",
              "      <th>4175</th>\n",
              "      <td>what do u reckon as need 2 arrange transport i...</td>\n",
              "      <td>1</td>\n",
              "      <td>0</td>\n",
              "    </tr>\n",
              "    <tr>\n",
              "      <th>4176</th>\n",
              "      <td>free entry into our £250 weekly competition ju...</td>\n",
              "      <td>0</td>\n",
              "      <td>1</td>\n",
              "    </tr>\n",
              "    <tr>\n",
              "      <th>4177</th>\n",
              "      <td>-pls stop bootydelious (32/f) is inviting you ...</td>\n",
              "      <td>0</td>\n",
              "      <td>1</td>\n",
              "    </tr>\n",
              "    <tr>\n",
              "      <th>4178</th>\n",
              "      <td>tell my  bad character which u dnt lik in me. ...</td>\n",
              "      <td>1</td>\n",
              "      <td>0</td>\n",
              "    </tr>\n",
              "  </tbody>\n",
              "</table>\n",
              "</div>\n",
              "      <button class=\"colab-df-convert\" onclick=\"convertToInteractive('df-45809e1e-d35f-41fc-a46f-1b9ded336e6a')\"\n",
              "              title=\"Convert this dataframe to an interactive table.\"\n",
              "              style=\"display:none;\">\n",
              "        \n",
              "  <svg xmlns=\"http://www.w3.org/2000/svg\" height=\"24px\"viewBox=\"0 0 24 24\"\n",
              "       width=\"24px\">\n",
              "    <path d=\"M0 0h24v24H0V0z\" fill=\"none\"/>\n",
              "    <path d=\"M18.56 5.44l.94 2.06.94-2.06 2.06-.94-2.06-.94-.94-2.06-.94 2.06-2.06.94zm-11 1L8.5 8.5l.94-2.06 2.06-.94-2.06-.94L8.5 2.5l-.94 2.06-2.06.94zm10 10l.94 2.06.94-2.06 2.06-.94-2.06-.94-.94-2.06-.94 2.06-2.06.94z\"/><path d=\"M17.41 7.96l-1.37-1.37c-.4-.4-.92-.59-1.43-.59-.52 0-1.04.2-1.43.59L10.3 9.45l-7.72 7.72c-.78.78-.78 2.05 0 2.83L4 21.41c.39.39.9.59 1.41.59.51 0 1.02-.2 1.41-.59l7.78-7.78 2.81-2.81c.8-.78.8-2.07 0-2.86zM5.41 20L4 18.59l7.72-7.72 1.47 1.35L5.41 20z\"/>\n",
              "  </svg>\n",
              "      </button>\n",
              "      \n",
              "  <style>\n",
              "    .colab-df-container {\n",
              "      display:flex;\n",
              "      flex-wrap:wrap;\n",
              "      gap: 12px;\n",
              "    }\n",
              "\n",
              "    .colab-df-convert {\n",
              "      background-color: #E8F0FE;\n",
              "      border: none;\n",
              "      border-radius: 50%;\n",
              "      cursor: pointer;\n",
              "      display: none;\n",
              "      fill: #1967D2;\n",
              "      height: 32px;\n",
              "      padding: 0 0 0 0;\n",
              "      width: 32px;\n",
              "    }\n",
              "\n",
              "    .colab-df-convert:hover {\n",
              "      background-color: #E2EBFA;\n",
              "      box-shadow: 0px 1px 2px rgba(60, 64, 67, 0.3), 0px 1px 3px 1px rgba(60, 64, 67, 0.15);\n",
              "      fill: #174EA6;\n",
              "    }\n",
              "\n",
              "    [theme=dark] .colab-df-convert {\n",
              "      background-color: #3B4455;\n",
              "      fill: #D2E3FC;\n",
              "    }\n",
              "\n",
              "    [theme=dark] .colab-df-convert:hover {\n",
              "      background-color: #434B5C;\n",
              "      box-shadow: 0px 1px 3px 1px rgba(0, 0, 0, 0.15);\n",
              "      filter: drop-shadow(0px 1px 2px rgba(0, 0, 0, 0.3));\n",
              "      fill: #FFFFFF;\n",
              "    }\n",
              "  </style>\n",
              "\n",
              "      <script>\n",
              "        const buttonEl =\n",
              "          document.querySelector('#df-45809e1e-d35f-41fc-a46f-1b9ded336e6a button.colab-df-convert');\n",
              "        buttonEl.style.display =\n",
              "          google.colab.kernel.accessAllowed ? 'block' : 'none';\n",
              "\n",
              "        async function convertToInteractive(key) {\n",
              "          const element = document.querySelector('#df-45809e1e-d35f-41fc-a46f-1b9ded336e6a');\n",
              "          const dataTable =\n",
              "            await google.colab.kernel.invokeFunction('convertToInteractive',\n",
              "                                                     [key], {});\n",
              "          if (!dataTable) return;\n",
              "\n",
              "          const docLinkHtml = 'Like what you see? Visit the ' +\n",
              "            '<a target=\"_blank\" href=https://colab.research.google.com/notebooks/data_table.ipynb>data table notebook</a>'\n",
              "            + ' to learn more about interactive tables.';\n",
              "          element.innerHTML = '';\n",
              "          dataTable['output_type'] = 'display_data';\n",
              "          await google.colab.output.renderOutput(dataTable, element);\n",
              "          const docLink = document.createElement('div');\n",
              "          docLink.innerHTML = docLinkHtml;\n",
              "          element.appendChild(docLink);\n",
              "        }\n",
              "      </script>\n",
              "    </div>\n",
              "  </div>\n",
              "  "
            ],
            "text/plain": [
              "                                                   text  type_ham  type_spam\n",
              "4174  just woke up. yeesh its late. but i didn't fal...         1          0\n",
              "4175  what do u reckon as need 2 arrange transport i...         1          0\n",
              "4176  free entry into our £250 weekly competition ju...         0          1\n",
              "4177  -pls stop bootydelious (32/f) is inviting you ...         0          1\n",
              "4178  tell my  bad character which u dnt lik in me. ...         1          0"
            ]
          },
          "metadata": {},
          "execution_count": 3
        }
      ],
      "source": [
        "train_df = pd.read_csv(train_file_path, sep='\\t', names=['type','text'], header=None)\n",
        "one_hot_encoded_train = pd.get_dummies(train_df, columns = ['type'])\n",
        "one_hot_encoded_train.tail()"
      ]
    },
    {
      "cell_type": "code",
      "execution_count": 4,
      "metadata": {
        "id": "zOMKywn4zReN",
        "colab": {
          "base_uri": "https://localhost:8080/",
          "height": 206
        },
        "outputId": "8287058d-3313-47d4-e62a-9c05b6cd9558"
      },
      "outputs": [
        {
          "output_type": "execute_result",
          "data": {
            "text/html": [
              "\n",
              "  <div id=\"df-eb01e3a5-b104-45b9-9463-749a80d87ea9\">\n",
              "    <div class=\"colab-df-container\">\n",
              "      <div>\n",
              "<style scoped>\n",
              "    .dataframe tbody tr th:only-of-type {\n",
              "        vertical-align: middle;\n",
              "    }\n",
              "\n",
              "    .dataframe tbody tr th {\n",
              "        vertical-align: top;\n",
              "    }\n",
              "\n",
              "    .dataframe thead th {\n",
              "        text-align: right;\n",
              "    }\n",
              "</style>\n",
              "<table border=\"1\" class=\"dataframe\">\n",
              "  <thead>\n",
              "    <tr style=\"text-align: right;\">\n",
              "      <th></th>\n",
              "      <th>text</th>\n",
              "      <th>type_ham</th>\n",
              "      <th>type_spam</th>\n",
              "    </tr>\n",
              "  </thead>\n",
              "  <tbody>\n",
              "    <tr>\n",
              "      <th>1387</th>\n",
              "      <td>true dear..i sat to pray evening and felt so.s...</td>\n",
              "      <td>1</td>\n",
              "      <td>0</td>\n",
              "    </tr>\n",
              "    <tr>\n",
              "      <th>1388</th>\n",
              "      <td>what will we do in the shower, baby?</td>\n",
              "      <td>1</td>\n",
              "      <td>0</td>\n",
              "    </tr>\n",
              "    <tr>\n",
              "      <th>1389</th>\n",
              "      <td>where are you ? what are you doing ? are yuou ...</td>\n",
              "      <td>1</td>\n",
              "      <td>0</td>\n",
              "    </tr>\n",
              "    <tr>\n",
              "      <th>1390</th>\n",
              "      <td>ur cash-balance is currently 500 pounds - to m...</td>\n",
              "      <td>0</td>\n",
              "      <td>1</td>\n",
              "    </tr>\n",
              "    <tr>\n",
              "      <th>1391</th>\n",
              "      <td>not heard from u4 a while. call 4 rude chat pr...</td>\n",
              "      <td>0</td>\n",
              "      <td>1</td>\n",
              "    </tr>\n",
              "  </tbody>\n",
              "</table>\n",
              "</div>\n",
              "      <button class=\"colab-df-convert\" onclick=\"convertToInteractive('df-eb01e3a5-b104-45b9-9463-749a80d87ea9')\"\n",
              "              title=\"Convert this dataframe to an interactive table.\"\n",
              "              style=\"display:none;\">\n",
              "        \n",
              "  <svg xmlns=\"http://www.w3.org/2000/svg\" height=\"24px\"viewBox=\"0 0 24 24\"\n",
              "       width=\"24px\">\n",
              "    <path d=\"M0 0h24v24H0V0z\" fill=\"none\"/>\n",
              "    <path d=\"M18.56 5.44l.94 2.06.94-2.06 2.06-.94-2.06-.94-.94-2.06-.94 2.06-2.06.94zm-11 1L8.5 8.5l.94-2.06 2.06-.94-2.06-.94L8.5 2.5l-.94 2.06-2.06.94zm10 10l.94 2.06.94-2.06 2.06-.94-2.06-.94-.94-2.06-.94 2.06-2.06.94z\"/><path d=\"M17.41 7.96l-1.37-1.37c-.4-.4-.92-.59-1.43-.59-.52 0-1.04.2-1.43.59L10.3 9.45l-7.72 7.72c-.78.78-.78 2.05 0 2.83L4 21.41c.39.39.9.59 1.41.59.51 0 1.02-.2 1.41-.59l7.78-7.78 2.81-2.81c.8-.78.8-2.07 0-2.86zM5.41 20L4 18.59l7.72-7.72 1.47 1.35L5.41 20z\"/>\n",
              "  </svg>\n",
              "      </button>\n",
              "      \n",
              "  <style>\n",
              "    .colab-df-container {\n",
              "      display:flex;\n",
              "      flex-wrap:wrap;\n",
              "      gap: 12px;\n",
              "    }\n",
              "\n",
              "    .colab-df-convert {\n",
              "      background-color: #E8F0FE;\n",
              "      border: none;\n",
              "      border-radius: 50%;\n",
              "      cursor: pointer;\n",
              "      display: none;\n",
              "      fill: #1967D2;\n",
              "      height: 32px;\n",
              "      padding: 0 0 0 0;\n",
              "      width: 32px;\n",
              "    }\n",
              "\n",
              "    .colab-df-convert:hover {\n",
              "      background-color: #E2EBFA;\n",
              "      box-shadow: 0px 1px 2px rgba(60, 64, 67, 0.3), 0px 1px 3px 1px rgba(60, 64, 67, 0.15);\n",
              "      fill: #174EA6;\n",
              "    }\n",
              "\n",
              "    [theme=dark] .colab-df-convert {\n",
              "      background-color: #3B4455;\n",
              "      fill: #D2E3FC;\n",
              "    }\n",
              "\n",
              "    [theme=dark] .colab-df-convert:hover {\n",
              "      background-color: #434B5C;\n",
              "      box-shadow: 0px 1px 3px 1px rgba(0, 0, 0, 0.15);\n",
              "      filter: drop-shadow(0px 1px 2px rgba(0, 0, 0, 0.3));\n",
              "      fill: #FFFFFF;\n",
              "    }\n",
              "  </style>\n",
              "\n",
              "      <script>\n",
              "        const buttonEl =\n",
              "          document.querySelector('#df-eb01e3a5-b104-45b9-9463-749a80d87ea9 button.colab-df-convert');\n",
              "        buttonEl.style.display =\n",
              "          google.colab.kernel.accessAllowed ? 'block' : 'none';\n",
              "\n",
              "        async function convertToInteractive(key) {\n",
              "          const element = document.querySelector('#df-eb01e3a5-b104-45b9-9463-749a80d87ea9');\n",
              "          const dataTable =\n",
              "            await google.colab.kernel.invokeFunction('convertToInteractive',\n",
              "                                                     [key], {});\n",
              "          if (!dataTable) return;\n",
              "\n",
              "          const docLinkHtml = 'Like what you see? Visit the ' +\n",
              "            '<a target=\"_blank\" href=https://colab.research.google.com/notebooks/data_table.ipynb>data table notebook</a>'\n",
              "            + ' to learn more about interactive tables.';\n",
              "          element.innerHTML = '';\n",
              "          dataTable['output_type'] = 'display_data';\n",
              "          await google.colab.output.renderOutput(dataTable, element);\n",
              "          const docLink = document.createElement('div');\n",
              "          docLink.innerHTML = docLinkHtml;\n",
              "          element.appendChild(docLink);\n",
              "        }\n",
              "      </script>\n",
              "    </div>\n",
              "  </div>\n",
              "  "
            ],
            "text/plain": [
              "                                                   text  type_ham  type_spam\n",
              "1387  true dear..i sat to pray evening and felt so.s...         1          0\n",
              "1388               what will we do in the shower, baby?         1          0\n",
              "1389  where are you ? what are you doing ? are yuou ...         1          0\n",
              "1390  ur cash-balance is currently 500 pounds - to m...         0          1\n",
              "1391  not heard from u4 a while. call 4 rude chat pr...         0          1"
            ]
          },
          "metadata": {},
          "execution_count": 4
        }
      ],
      "source": [
        "test_df = pd.read_csv(test_file_path, sep='\\t', names=['type','text'], header=None)\n",
        "one_hot_encoded_test = pd.get_dummies(test_df, columns = ['type'])\n",
        "one_hot_encoded_test.tail()"
      ]
    },
    {
      "cell_type": "code",
      "source": [
        "import nltk\n",
        "nltk.download('wordnet')\n",
        "nltk.download('punkt')\n",
        "\n",
        "#Aplicando uma função para tokenizar por palavra\n",
        "one_hot_encoded_train['text'] = one_hot_encoded_train.apply(lambda row: nltk.word_tokenize(row['text']), axis=1)\n",
        "one_hot_encoded_test['text'] = one_hot_encoded_test.apply(lambda row: nltk.word_tokenize(row['text']), axis=1)"
      ],
      "metadata": {
        "id": "q92htZodt1U-",
        "colab": {
          "base_uri": "https://localhost:8080/"
        },
        "outputId": "5563e31a-b44d-48ed-fb9f-4218298a0a5b"
      },
      "execution_count": 5,
      "outputs": [
        {
          "output_type": "stream",
          "name": "stdout",
          "text": [
            "[nltk_data] Downloading package wordnet to /root/nltk_data...\n",
            "[nltk_data]   Unzipping corpora/wordnet.zip.\n",
            "[nltk_data] Downloading package punkt to /root/nltk_data...\n",
            "[nltk_data]   Unzipping tokenizers/punkt.zip.\n"
          ]
        }
      ]
    },
    {
      "cell_type": "code",
      "source": [
        "import re\n",
        "\n",
        "from nltk.corpus import stopwords\n",
        "nltk.download('stopwords')\n",
        "language = 'portuguese'\n",
        "\n",
        "#Criando a lista de stopwords\n",
        "stopwords = stopwords.words(language)\n",
        "stopwords = list(set(stopwords))\n",
        "\n",
        "def remove_stopwords(words):\n",
        "    \"\"\"Remover as Stopwords das palavras tokenizadas\"\"\"\n",
        "    new_words = []\n",
        "    for word in words:\n",
        "        if word not in stopwords:\n",
        "            new_words.append(word)\n",
        "    return new_words\n",
        "\n",
        "def to_lowercase(words):\n",
        "    new_words = []\n",
        "    for word in words:\n",
        "        new_word = str(word).lower()\n",
        "        new_words.append(new_word)\n",
        "    return new_words\n",
        "\n",
        "def remove_punctuation(words):\n",
        "    new_words = []\n",
        "    for word in words:\n",
        "        new_word = re.sub(r'[^\\w\\s]', '', word)\n",
        "        if new_word != '':\n",
        "            new_words.append(new_word)\n",
        "    return new_words\n",
        "\n",
        "def normalize(words):\n",
        "    words = to_lowercase(words)\n",
        "    words = remove_punctuation(words)\n",
        "    words = remove_stopwords(words)\n",
        "    return words\n",
        "\n",
        "one_hot_encoded_train['text'] = one_hot_encoded_train.apply(lambda row: normalize(row['text']), axis=1)\n",
        "one_hot_encoded_test['text'] = one_hot_encoded_test.apply(lambda row: normalize(row['text']), axis=1)\n",
        "\n",
        "vocab = one_hot_encoded_train['text'].values.tolist()\n",
        "vocab = [item for sublist in vocab for item in sublist]\n",
        "vocab = list(set(vocab))\n",
        "print(vocab)"
      ],
      "metadata": {
        "id": "eg_238suvsQi",
        "colab": {
          "base_uri": "https://localhost:8080/"
        },
        "outputId": "fd99242a-6db2-4f6b-9cec-15020d1af57d"
      },
      "execution_count": 6,
      "outputs": [
        {
          "output_type": "stream",
          "name": "stdout",
          "text": [
            "[nltk_data] Downloading package stopwords to /root/nltk_data...\n",
            "[nltk_data]   Unzipping corpora/stopwords.zip.\n",
            "['june', 'cuz', 'rule', 'call2optoutn9dx', '8o', '30s', 'ph08704050406', 'wap', 'studying', 'thepub', '100603', 'move', 'bus', 'hypotheticalhuagauahahuagahyuhagga', 'takes', 'donno', 'daplease', 'listening', 'bloody', 'run', '80488biz', 'lyrics', 'vodka', 'thatscool', 'blessing', 'hungover', 'apps', 'version', 'wkent150p16', 'falconerf', 'xy', 'print', 'beer', 'txts', 'reset', 'weeddeficient', '09061743386', 'partnership', 'ques', 'harder', 'inform', 'advance', 'using', 'bbdeluxe', 'pic', 'sunday', 'helping', 'salary', 'lmao', '20000', '2rcv', 'perhaps', '1000', 'shouting', 'appt', 'shoes', 'just', 'wearing', 'smear', 'delay', 'instantly', '08709501522', 'copied', '850', 'sum1', 'prayrs', 'contact', 'allow', 'wants', 'shahjahan', 'wml', 'tuth', 'wanting', 'setting', 'abnormally', '09061702893', 'whilltake', 'hair', 'conditions', 'warwick', 'revision', 'notebook', 'informed', 'loads', 'tt', 'chinatown', 'namemy', 'watchin', 'amk', 'm6', 'arul', 'persons', 'operator', 'begin', 'dad', 'ctla', 'passionate', 'madoke', 'prevent', 'drms', 'drinkin', 'subscribe', 'price', 'deep', 'oooh', 'ali', 'supreme', '2marrow', 'wats', 'njan', 'division', 'eyeddont', '35p', 'womdarfull', 'ros', 'truble', 'apartment', 'reveal', 'xxxxxxx', 'kr', 'aids', 'hell', 'afraid', 'mjzgroup', 'm39m51', 'god', '62220cncl', 'chords', 'pobox84', 'birthday', 'couple', 'xxxxxxxxxxxxxx', 'messagethanks', 'record', 'blown', '89080', 'ticket', 'footie', 'must', 'delete', 'outbid', 'dozens', 'outdoors', 'lips', 'smoking', 'aeroplane', 'jjc', 'okmail', 'adventure', 'north', 'final', 'surf', 'appeal', 'old', 'followin', '09071512432', '87021', 'chat', 'stopcs', 'winning', 'vikkyi', 'entirely', 'natural', 'among', 'i', 'dint', 'nosy', 'checkmate', 'latr', 'mob', 'earlier', 'golden', '0578', 'idk', 'flower', 'disappointment', 'bedrm', 'wishing', 'invention', 'consider', 'curfew', 'undrstndng', 'quality', 'didn', 'include', 'justthought', '97n7qp', 'cheaper', 'reasons', 'friendships', 'center', 'yeh', 'careful', 'grocers', 'forfeit', 'lightly', 'nokia6650', 'feeling', 'finest', 'goodnight', 'november', 'valued', 'slip', 'frens', 'wildest', 'notixiquating', 'madstini', 'coming', 'haventcn', '4lux', '4fil', '0870753331018', 'hopes', '008704050406', 'alto18coukwavewaveasp', 'pounds', 'chitchat', 'roww1jhl', 'lionm', 'hit', 'memorable', 'speeding', 'rocking', 'slippers', 'fluids', 'hype', 'taunton', 'literally', 'bcm4284', 'm', 'oblisingately', 'avoiding', 'nice', 'shorethe', 'en', '12000pes', '2moro', 'describe', 'aiya', '151', 'granted', 'sterm', 'spreadsheet', 'getzedcouk', 'plz', 'pattern', 'confuses', 'female', 'forwarding', 'moseley', 'influx', 'configure', 'sk3', 'weirdo', 'sexychat', 'dot', '402', 'ruining', 'soonlots', 'raining', 'consent', 'burns', 'award', 'page', 'answering', 'puts', 'cramps', 'rang', 'bblue', '145', 'parties', 'detroit', 'kavalan', 'bcz', 'mentor', 'sall', 'hamper', 'born', 'splwat', 'gandhipuram', 'hi', 'overdose', 'later', 'cuddling', 'ge', 'splleing', '449050000301', 'begun', 'restrict', 'cashed', '2stop', 'canlove', 'opps', 'ithink', 'spares', 'cloth', 'rakhesh', 'club', 'hermy', 'garments', '02073162414', 'devouring', 'princes', 'outreach', 'table', 'suganya', 'forget', 'ltd', 'ws', 'preschoolcoordinator', 'rice', 'grandmas', 'musthu', 'txtin', 'bian', 'touch', 'advice', '7876150ppm', 'makiing', 'worry', 'various', 'pie', 'bought', 'ya', 'club4', 'name2', 'k52', 'several', 'cornwall', 'dificult', 'hii', 'finally', 'bro', 'intelligent', 'flirt', 'frndshp', 'spaces', 'secured', 'fun', 'px3748', 'agalla', 'parachute', 'noline', 'goods', '09095350301', 'refilled', 'becoz', 'fizz', 'neekunna', 'cn', 'toughest', 'mca', 'dungerees', 'go2', 'goals', 'wwwetlpcoukexpressoffer', 'o2', 'proove', '08701213186', 'asda', 'randomlly', 'hundredhe', 'easily', 'men', 'request', 'bangbabes', 'getsleep', 'joke', 'canada', 'guoyang', 'tree', 'paths', '2hrs', 'mentionedtomorrow', 'reminder', 'quiet', 'freezing', 'pookie', 'site', 'delhi', 'chasing', 'ac', 'wasting', 'deepest', 'number', 'nyt', 'phd', 'chances', 'qing', 'custom', 'previous', 'fromm', 'oyster', 'unfortuntly', 'province', 'fuelled', 'agidhane', 'rub', 'prakasam', 'popcorn', 'pickle', 'door', 'kidz', 'expiredso', 'backdoor', '532', 'guaranteed', 'waiting', 'realise', 'srsly', '09066358361', 'sang', 'profiles', 'provider', 'necessarily', 'flatter', 'aka', 'starting', 'sudden', 'no910', 'callback', 'nottingham', 'instant', 'completes', 'reserves', 'dislikes', 'taking', 'flag', 'eighth', '1da', 'adoring', 'okie', 'unbreakable', '150ppmsg', 'thread', 'cumming', 'lingerie', 'beeen', 'jokes', 'maangalyam', 'stated', 'dimension', 'ceiling', 'cliff', 'cer', '2go', 'steps', 'trainners', 'visa', 'windy', 'house', 'tor', 'single', 'bills', 'blah', '08452810075over18', 'thet', 'arm', '08715205273', 'hu', 'mofo', 'diet', 'persian', 'claimcode', 'repairs', '48', 'pc', 'cousin', 'frm', 'ice', '69888', 'apology', 'headache', 'split', 'horniest', 'bunch', 'mobsicom', 'm8s', 'wktxt', '447801259231', 'nurungu', 'lowcost', 'bid', 'fuckin', 'result', 'docs', 'dayshe', 'basically', 'congratulation', 'chillin', 'listen', 'asapok', 'minimum', 'unicef', 'themes', 'twat', 'prompts', 'messenger', 'hot', '420', 'raiden', 'nasdaq', 'east', 'pants', 'kissing', 'fired', 'jada', 'or2optouthv9d', '80', 'engalnd', 'fink', 'txt250com', 'possibly', '08715500022', 'priscilla', 'interest', 'taxless', '150pmmorefrommobile2bremovedmobypobox734ls27yf', 'strike', 'alritehave', '08715203649', 'heads', 'cudnt', 'land', 'babygoodbye', 'ldnw15h', 'chatting', 'finance', 'banneduk', 'vital', 'wipe', 'fainting', 'dodda', 'suzy', 'askin', '61200', 'howz', 'aslamalaikkum', 'habbahw', 'wwwtxt82228com', 'forevr', 'relaxing', 'trouble', 'scorable', 'title', 'fonin', 'office', 'hurting', 'craziest', 'belongs', 'favour', 'stairs', 'seven', 'wat', '2b', 'cooped', 'galileo', '86021', 'selected', 'perspective', 'pete', 'courage', 'complementary', 'nonetheless', 'importantly', 'interfued', 'untamed', 'yest', 'elama', 'shoot', 'ovulatewhen', 'drastic', 'dudette', 'gets', 'ikno', 'rushing', 'snatch', 'nannys', 'wkly', 'leadership', 'along', 'recharged', 'updat', 'careumma', 'right', 'tadaaaaa', 'take', 'act', 'attached', 'loved', 'login', 'praises', 'playng', 'hundreds', 'luckily', 'lark', 'avo', 'dick', 'looovvve', 'ruin', 'onwards', '0800', 'friendship', 'lovingly', 'wrench', '08718726270', '078', 'checkup', 'honest', 'rtm', 'why', 'hoped', 'slept', 'use', 'others', 'xxx', 'laundry', 'characters', 'front', '3680', 'cuppa', 'deartake', 'imaginationmy', 'bold2', 'bites', 'skins', 'prestige', 'herlove', 'scallies', 'grahmbell', 'mising', 'quizclub', 'shall', 'dancing', '150pm', 'zindgi', 'superior', 'smiles', 'teeth', '450', 'hitteranyway', 'related', '07734396839', 'guessin', 'babe', '08719899229', 'mail', 'mecause', 'hunny', '415', 'yesbut', 'jontin', '08712300220', 'brilliant', 'behave', 'shuhui', 'none', 'ref9307622', 'brownies', 'shakara', '09090900040', 'erotic', 'x49', 'space', 'webpage', 'ad', 'yifeng', '15pmin', 'checkboxes', 'perform', 'adore', 'gary', 'boo', 'posible', 'abuse', 'todays', 'fr', 'arrived', 'auction', 'town', 'working', 'mmmmm', 'enough', 'jez', 'howda', 'affectionate', 'bleh', 'yi', 'wipro', '3sentiment', 'bulbs', 'formsdon', 'gifts', 'disconnect', 'kwish', 'cooked', 'another', '87070', 'kitty', 'fetching', 'spain', 'images', 'leafdayno', 'wwwregalportfoliocouk', 'dan', 'unredeemed', '69855', 'happening', 'buzz', 'animal', 'underwear', '09111032124', 'asks', 'christians', 'census', 'leading', 'gari', 'exist', 'announcement', 'nah', 'peace', 'goalsteam', 'awww', 'costing', 'carente', 'won', 'wwworangecoukow', 'pg', 'anyway', 'hl', 'welltake', '6669', 'contents', 'ee', 'brighten', 'bfore', '75000', 'scotland', 'txtstop', '2day', 'star', '021', 'mayb', 'units', '071104', 'tui', '08719899217', 'prescription', 'downon', 'at', 'studdying', 'wright', 'forgt', 'gmw', 'treatin', 'babyjontet', 'opinions', 'responding', 'fear', '118pmsg', 'flute', 'network', 'weigh', 'brothers', 'patients', 'stuck', 'macha', 'tram', 'goodenvironment', 'miracle', 'forgot', 'rush', 'prepayment', 'gee', '20f', 'dearrakhesh', 'openin', 'camera', 'enemy', 'letter', 'str', 'lazy', 'warning', 'browser', 'trying', 'adp', 'needed', 'busy', 'woould', '80878', 'fetch', 'fiting', 'korli', 'didnt', 'tour', 'monkeyaround', 'apart', '18yrs', 'kodthini', 'engaged', 'mnth', 'hp20', 'polo', 'height', 'chez', 'watched', '195', 'jsut', 'attempt', 'elsewhere', '08707808226', 'myself', 'swell', 'wad', 'cali', '150pmtmsgrcvd18', 'parantella', 'weaknesses', 'mobilesdirect', 'spoken', 'exeter', 'speciale', 'r', 'frndz', 'usf', 'misss', 'itsnot', 'board', 'thinkin', 'meow', 'asleep', 'keep', 'less', 'whatsup', 'expensive', 'steve', 'talking', 'format', 'information', 'spending', '85555', 'nt', 'access', 'friendsare', '2i', 'sport', 'trishul', 'ma', 'drum', 'yetty', 'aboutas', 'pussy', 'spiderman', 'bad', 'yhl', '0871277810810', '5years', '08712400603', 'teasing', '69669', '6031', '0870241182716', 'prepaid', 'ie', 'unni', 'hmv1', '10803', 'eg23g', '3000', 'mon', 'tallent', '87066', 'woodland', 'credited', 'reach', 'jacuzzi', '08450542832', 'nightswt', 'ew', 'dena', 'ji', 'thoughtsi', 'folks', 'quite', 'ntwk', '150pwk', 'ym', 'flurries', 'forum', '24th', '3gbp', 'alternativehope', 'certificate', 'sweetest', 'uncut', 'shows', 'ass', 'oblivious', 'control', 'plaza', 'idc', 'monoc', 'slightly', 'sory', 'jia', 'silence', 'rays', 'pobox45w2tg150p', 'romantic', 'oranges', 'polyc', 'trends', '7548', 'answr', '41685', 'drivin', 'outta', 'asthma', 'askd', 'sunoco', 'nyc', 'either', 'amigos', 'latests', '8am', 'pest', 'timedhoni', 'skip', 'comes', 'remind', 'england', 'lingo', '08006344447', '08719181259', 'tog', 'election', 'minnaminunginte', 'surgical', 'bonus', 'studio', '09058094599', 'jap', 'feng', 'station', 'vday', 'pink', 'active', 'phoned', 'helps', 'whenwhere', 'indeed', 'doit', 'heroes', 'no762', 'cometil', '3350', '5ish', 'kkthis', 'd', 'bagi', 'pending', '45', '285', '5mls', '150rcvd', 'yrs', 'bros', 'doubletxt', 'animation', 'duvet', 'hol', 'ayo', '08712460324', 'notifications', 'pig', 'naseeb', 'shoving', 'arcade', 'bhayandar', 'journey', '3100', 'nothing', 'excellent', 'noncomittal', 'resub', 'email', 'tata', 'avent', 'matthew', 'bathroom', 'jamster', 'props', 'more', 'virgins', '2309', 'jess', 'person2die', 'speak', 'relation', 'gautham', 'stifled', 'hang', 'yday', 'catch', 'coz', 'unfolds', 'woo', 'cash', 'transcribing', '2naughty', 'jane', 'happenin', 'lifted', 'ese', '9pm', 'travelling', 'westlife', 'process', 'ure', 'loosing', 'wine', 'benefits', 'released', 'group', 'merely', 'punch', '1327', 'liao', 'pieces', 'tall', 'tendencies', 'thriller', 'pooja', 'one', '10', 'liked', 'conveying', 'cancer', 'wrecked', 'machi', '82324', 'cheyyamo', 'edge', 'buzy', 'inviting', 'toledo', 'availa', 'wot', 'ink', 'konw', 'lei', 'audiitions', 'kath', 'christmassy', 'whenevr', 'often', 'amused', 'shiny', 'pobox36504w45wq', 'timing', 'wquestion', 'male', 'complaining', 'burgundy', 'replace', 'rumour', 'including', 'theregoodnight', 'l8', 'foot', 'tyrone', 'kids', 'questions', 'paid', 'freedom', 'basic', '2667', 'wc1n', 'voila', 'moms', 'wrenching', 'rinu', 'std', 'lor', 'happiness', 'telphone', 'wn', 'bedreal', 'meremove', 'mad1', 'enketa', 'blokes', 'ntswt', 'arnt', 'module', 'gsoh', 'adrian', 'creep', 'erutupalam', 'situation', 'hip', 'league', 'loose', 'merry', 'shite', 'euro', 'found', '82468', 'xclusive', 'whole', 'shoul', 'exhausted', 'wifes', 'tlk', 'bother', 'teenager', 'gotany', 'social', '09099726429', 'sugardad', 'means', 'specialisation', 'lotto', 'sat', 'bars', 'cause', 'kg', '121', 'bears', 'pizza', 'incredible', 'printing', 'nike', 'tm', 'kick', 'lobby', 'messagesim', 'freephone', 'messed', 'jeevithathile', 'inclusive', 'indians', 'broadband', '40gb', 'cheap', '8830', 'for38', 'lonely', 'doors', 'dvd', 'sometime', 'poortiyagi', 'when', 'billing', 'lage', 'credits', 'itxt', 'stealing', 'crickiting', 'telephone', 'freemessage', 'j', 'program', 'moved', 'sar', 'straight', 'eye', 'supposed', 'asked', 'publish', 'rest', 'wkg', 'bb', 'ors', '25', 'vary', 'opposite', 'ah', 'sisters', 'choose', 'kate', 'tscs087147403231winawk', 'phil', 'countin', 'smithswitch', 'parents', 'si', 'uneventful', 'bloodsend', 'tenants', 'traditions', '7634', 'proverb', 'videos', 'glands', 'squatting', 'colourred', '8lovable', 'sound', 'btw', 'raj', 'rats', 'av', 'affections', 'location', 'beers', 'money', 'barely', 'dressed', 'ultimately', 'earliest', 'piggy', 'superb', 'hv', 'ic', 'thesis', 'continued', 'remb', 'chikkuwat', 'jeri', 'enjoyed', 'whispers', 'smart', 'pt2', 'twelve', 'mrt', 'boggy', 'uve', 'prices', 'oja', 'anybody', 'scratching', 'same', '08718723815', '3750', 'trial', 'wid', 'blogging', 'intha', 'sts', 'twittering', 'role', 'apologetic', 'poop', 'gb', '1million', 'thewend', 'leaves', 'jan', 'buddy', 'tayseer', 'machan', 'console', 'wwwldewcom1win150ppmx3age16', 'dang', 'archive', 'dreamsmuah', 'expecting', 'sariyag', 'stand', 'overtime', 'gaze', 'subscrition', 'weeks', 'applebees', 'scammers', 'lacsthere', 'bitch', 'leaving', 'intrepid', 'fran', 'lt', '924', '09064017295', 'hopeso', 'nevamind', 'comingdown', 'crashing', 'tattoos', 'mobno', 'mark', 'bell', 'call09050000327', 'couldnt', 'thanxxx', '447797706009', 'simonwatson5120', 'unclaimed', 'desires', '2im', 'stuffing', 'flyng', 'quoting', 'especially', 'temp', 'charles', 'penis', 'strongbuy', 'der', 'cheetos', '505060', 'laugh', 'her', 'scouse', 'jules', 'read', 'lifeis', 'hogidhechinnu', 'hearing', 'tips', 'victoria', 'ability', 'argentina', 'surrender', 'wise', 'salespee', 'involved', 'stressed', 'someone', 'new', 'messagestext', 'marry', 'within', 'club4mobilescom', 'ummifying', 'shindig', 'isn', 'moneyi', 'mudyadhu', 'dajst', 'await', 'b4280703', '10pmin', 'pride', 'sonyericsson', 'full', 'coffee', 'mcr', 'wonderful', 'msgrcvd18', 'dollar', 'underdtand', '4utxt', 'definite', 'age16', 'onam', 'cc', 'lunch', 'wuld', 'be', 'unconscious', 'child', 'cardiff', 'upload', 'somerset', '077xxx', 'filled', 'cashbalance', 'doesnt', '32000', 'rum', 'becz', 'married', '09066368327', 'nit', '83110', 'whoever', 'ikea', 'timi', 'warm', 'golddigger', 'wo', 'breadstick', 'alter', 'pics', 'je', 'headin', 'know', 'bout', 'shopwe', 'perfect', 'z', 'mths', 'juicy', 'godtaken', 'everyone', 'privacy', 'busetop', 'welcomes', 'issue', 'db', 'via', 'woman', 'fond', 'keys', 'temple', 'howard', 'treats', 'nytho', 'drama', 'greatness', 'warming', 'anand', 'bcoz', 'sherawat', 'rajitha', 'dent', 'eastenders', 'heading', 'li', 'scrumptious', 'ortxt', 'cps', 'feed', 'days', 'offdam', 'anyones', 'unable', 'stalking', 'sumfing', 'spell', '4my', 'passes', 'mys', '08712402972', '4712', 'max', 'job', 'boye', 'tensed', 'eruku', 'ca', '61610', 'canteen', 'pull', 'upset', 'quote', 'subtoitles', 'advisors', 'tones', 'entered', 'character', 'unconditionally', 'awesome', 'throw', 'accept', 'steering', 'river', 'orchard', 'least', '600', 'b4190604', '09066612661', 'mj', 'guidance', 'airtel', 'gbpweek', '88088', 'meeting', 'pisces', 'ola', 'zouk', 'ceri', 'spree', '449month', '220cm2', 'stable', 'area', 'reply', 'ethreats', 'blackberry', 'whn', '12', '86888', 'tihs', 'amanda', 'nig', 'ufind', 'childporn', 'disclose', 'put', 'my', 'leona', 'abiola', 'hen', 'toa', 'bcmsfwc1n3xx', 'walsall', 'yeshe', 'ryan', 'turkeys', 'limit', 'wwwtklscom', 'cost', 'depends', 'cl', 'those', 'wwwapplausestorecom', 'eurodisinc', 'railway', 'thats', 'sf', '2nhite', 'champ', 'grins', 'started', 'monthly', 'juswoke', 'w111wx', 'midnight', 'yor', 'thrurespect', 'ashley', '1u', 'dai', 'century', 'jealous', 'tscs', 'raised', 'rofl', 'secrets', 'rally', 'wwwwin82050couk', 'testing', 'uwana', 'ovulation', '3lions', 'opportunitypls', 'roast', 'opted', 'hui', 'however', 'improved', 'urgent', '09064018838', 'idu', 'mind', 'vaguely', 'attach', 'langport', '40533', '____', 'sub', 'stay', 'feet', 'p399', 'rate', 'pa', 'adding', 'gotten', 'unintentionally', 'we', 'yuo', 'greet', 'landmark', 'invoices', 'upcharge', 'spring', 'boring', 'evng', 'sim', 'sparkling', 'dog', 'homewot', 'lock', 'comin', 'doll', '9am', 'whether', '21', 'champneys', 'the', 'aa', 'roomate', 'treacle', 'yeovil', 'pierre', '07742676969', 'hum', 'swayze', 'gently', 'subscriptions', 'stressfull', 'predicting', 'president', 'tick', 'footbl', 'promised', 'you', 'whose', 'ab', 'dialogue', 'sunny', 'gudnite', 'inch', 'camp', 'callsmessagesmissed', '3680offer', 'down', '07801543489', 'buyers', 'quit', 'danger', 'card', 'laready', 'hides', 'java', 'brison', 'continent', 'nails', 'cashin', '09099726481', 'law', 'cultures', 'y', 'envelope', 'somethin', 'keen', 'wishlist', 'orig', 'smartthough', 'someonone', 'franxx', 'pobox365o4w45wq', 'prior', 'starring', 'book', 'track', 'pence', 'weekly', 'tacos', 'gudk', '6romantic', 'modules', 'considering', 'cruise', 'hasnt', 'audrey', 'measure', 'ivatte', 'sms08718727870', 'generally', 'msgticket', 'minapn', '5pm', 'walkin', 'velachery', 'were', 'left', 'vpist', 'bsnl', 'morning', 'western', 'tocallshall', 'sale', 'kiosk', '0721072', 'sfine', 'bluetoothhdset', 'renewed', '3mins', '4eva', 'randy', 'grandfather', 'sitter', 'solved', 'mate', 'mu', 'masters', 'itz', 'aldrine', 'hmmm', 'nydc', 'love', 'knock', 'hiya', 'damn', 'portal', 'holy', 'filling', '1230', 'stuff', 'perfume', 'alcohol', '08718711108', '2getha', 'jacket', 'standard', 'careers', 'wen', 'jo', 'ki', 'exchanged', 'internet', 'forgets', 'evey', 'widelivecomindex', '08712466669', 'ru', 'iq', 'toplay', 'years', 'dippeditinadew', 'gek1510', 'able', 'pandy', 'tcs', 'leftovers', 'cyclists', 'handing', 'dependable', 'shah', 'amount', 'jaklin', 'doctor', 'realized', 'sen', 'prominent', 'hos', 'happens', 'dealing', 'detailed', 'blow', 'removal', 'yaxx', '0825', 'mobs', 'vewy', 'syllabus', 'citizen', 'stitch', 'includes', 'agreen', 'linear', 'had', 'senthilhsbc', 'smiled', 'stash', 'hava', 'spinout', 'truck', 'stuffed', '3ss', 'innu', 'norm150ptone', 'olowoyey', 'value', 'shot', 'gifted', 'wifehow', 'maximize', 'clarification', '2025050', 'callurgent', 'abt', 'belt', '050703', 'manual', 'mad2', 'jay', 'immed', '500', 'date', '63miles', 'near', 'jd', '08704439680', 'hand', '09061744553', 'nasty', 'mm', 'pan', 'wc', 'aftr', 'felt', 'violated', 'eg23f', 'lololo', 'availablei', '07808726822', 'eng', 'wizzle', 'bslvyl', 'beggar', 'uwant', 'blocked', '09058091870', 'tablets', '150msg', 'power', 'purpose', 'knows', 'eyes', 'factory', 'panasonic', 'unsoldmike', 'watching', 'simpsons', 'summon', 'shinco', 'lekdog', 'extreme', 'subscribe6gbpmnth', 'ciao', 'inside', 'many', 'skyped', 'olol', 'la32wu', '150pmsg', 'cheque', 'monl8rsx', 'effect', 'suprman', 'duffer', 'thought', 'nordstrom', '2gthr', 'grave', 'graphics', 'sometme', 'best', 'firsttrue180430jul05', 'fletcher', 'predictive', 'ill', 'messaged', 'fifteen', 'toothpaste', 'settings', 'ax', 'beerage', 'basket', 'trek', 'truth', 'accordin', 'success', 'baig', 'haf', 'image', 'formatting', 'gained', 'max6month', 'replybe', 'box97n7qp', 'delivered', 'romcapspam', 'yowifes', '150pmt', 'childrens', 'successfully', 'loans', '4pavanaputra', 'goto', 'goa', 'exhaust', '95pax', 'bit', 'w45wq', 'ave', '8883', 'pehle', 'cake', 'transaction', 'system', 'psxtra', 'laptop', 'maniac', 'poem', 'prolly', 'hanging', 'paris', 'vic', 'excuse', 'actor', 'desparate', 'sigh', 'bluff', 'neglet', '2channel', 'feels', 'chachi', '7pm', 'receivea', 'coolmob', 'handle', 'ok', 'murder', 'lovely', 'temper', 'conditionand', 'affairs', 'avoids', 'devils', 'timings', 'broken', 'ultimatum', 'bathing', 'swollen', 'financial', 'ennal', 'only1more', 'sections', 'hols', 'dreamz', 'fave', 'option', 'yalru', 'westshore', 'lac', 'divorce', 'expires', 'remain', 'useful', 'iam', 'fucking', 'invited', 'feelingood', 'who', 'goodnite', 'holla', 'handsomes', 'hgsuite3422landsroww1j6hl', '526', 'red', 'la3', 'choices', 'rich', 'looked', 'yet', 'tooo', 'hostel', 'wendy', 'confirm', 'payee', 'quiteamuzing', '1tulsi', 'aquarius', 'changing', 'comfort', 'bhaskar', 'aunts', 'certainly', 'stayin', '08715705022', 'sup', 'receipt', 'beforewent', 'support', 'gone', 'uploaded', 'ambitious', 'abta', 'nearer', 'b4', 'clearly', 'box334', '16only', 'terrible', 'been', 'ish', 'cs', 'howdy', 'personal', 'papa', 'customer', 'lanre', 'model', 'avalarr', '0784987', 'snappy', 'bx420ip45we', 'hellogorgeous', 'enters', 'hmmmstill', '08701417012150p', 'shrek', 'they', 'could', 'vu', 'stink', 'printer', 'creative', 'textand', 'hershe', 'motorola', 'lancaster', 'fuuuuck', 'sharing', '261104', 'cozsomtimes', 'comingtmorow', 'rude', 'inmind', 'frnds', 'conform', 'ringtonekingcouk', 'appendix', 'uh', '85', 'thank', 'farting', 'feathery', 'partner', 'theirs', 'noooooooo', 'he', 'screwd', 'twins', '4', 'pap', 'heri', 'titles', 'came', 'venugopal', 'verifying', 'step', 'lush', 'guessed', 'rv', 'elvis', 'holding', 'interested', 'repent', 'hustle', 'callingforgot', 'typical', 'yoga', 'english', 'blu', '750', 'addicted', 'urgnt', 'little', 'into', 'distance', 'wrong', '087123002209am7pm', 'connect', 'ralphs', 'selection', 'lapdancer', 'misbehaved', 'homelove', 'shirts', 'cancelled', 'figures', 'noe', '08002888812', 'bari', 'prize', 'hills', 'calicut', 'or2stoptxt', 'gre', '09058094583', 'exorcism', 'texas', 'early', 'med', '28th', '2optout', 'x49your', 'footprints', 'turns', 'nw', 'weekends', 'datebox1282essexcm61xn', 'tues', 'eckankar', 'kip', 'wwwrtfsphostingcom', 'concert', 'typelyk', 'honesty', 'strewn', 'courageous', 'wonder', 'hw', 'cover', 'wishes', 'stones', 'gate', 'logged', 'tx', 'ipads', 'mutai', '1st', 'badrith', 'threw', 'creepy', 'safe', 'base', 'texting', 'evaluation', 'appy', '07xxxxxxxxx', 'dock', 'aathiwhere', 'machines', 'afternoons', 'get', 'gauge', 'whos', 'capital', 'ambrithmaduraimet', 'lay', 'petexxx', 'tomarrow', 'lubly', 'mis', 'everyso', 'rite', 'readers', '89123', 'half', 'placeno', 'settled', 'posh', 'gmgngegn', 'sooo', 'sleepingwith', 'reached', 'imat', 'problematic', 'but', 'pleasure', 'ho', 'th', 'patty', 'epi', 'sh', 'busty', 'explain', 'rock', 'macs', 'textbuddy', 'try', 'callcost', 'would', 'lotsof', 'subscribers', 'batchlor', '08717898035', 'bck', 'converted', 'fools', 'vasai', '08709222922', 'nalli', 'serious', 'huh', 'petey', 'cant', 'fundamentals', 'ss', 'apo', 'margaret', 'apt', 'grateful', 'epsilon', '09066382422', 'nd', 'real', 'get4an18th', 'language', 'exact', 'genus', 'hairdressers', 'hurried', 'game', 'problum', 'replys150', 'ijust', 'colin', 'senrddnot', '82277', 'fed', 'legal', 'prefer', 'sorted', 'portions', 'snowman', 'hav', 'gv', 'help08712400602450p', 'beta', '4u', 'appointment', 'havin', 'milk', 'qatar', 'frogaxel', 'reache', 'care', 'w4', 'african', 'maturity', 'msgs', 'muhommad', 'dedicated', 'deals', 'styling', 'flaky', '49557', 'swann', 'byatch', 'argument', 'wallet', '6cruel', 'chikkuali', 'wahleykkumsharing', 'appreciate', 'lol', 'music', 'tarot', 'ofcourse', 'bomb', 'expiry', '100txtmth', 'secret', 'ü', 'yes440', '08718730666', 'practising', 'graduated', '89105', 'max10mins', 'macleran', 'digits', 'max7', 'urself', '09050003091', 'loooooool', 'charges', 'range', 'evening', 'datz', 'different', 'kidding', 'log', 'open', 'your', 'cochin', '01223585236', 'izzit', 'afternoon', 'tscs08714740323', 'limping', 'browsin', '87077', 'understanding', 'evry', 'loyalty', 'find', 'webeburnin', '40mph', 'frnd', 'habit', 'frankie', 'going', 'differences', 'gain', 'till', 'maga', 'singles', '120', 'janx', 'given', '2004', 'gota', 'time', 'country', 'hyde', 'aunt', 'help08714742804', 'prakasamanu', 'todaybut', 'rr', 'neway', '08718730555', 'rows', '09061701444', 'greece', 'tightly', 'shame', 'freshers', 'restaurant', 'expression', 'dubsack', '1yf', 'returns', 'yes910', 'fills', 'quick', 'error', 'sday', 'interflora', 'threats', 'loxahatchee', '2morow', 'itmay', 'yohere', 'jos', 'mouth', 'a150', 'taylor', 'identification', 'tunji', '150perwksub', 'lucyxx', '2mwen', 'wwwbridalpetticoatdreamscouk', 'aunty', '07090201529', 'got', 'tissco', '1thingi', 'nvq', 'valid12hrs', 'box', 'secs', '50s', 'differbe', 'lovers', 'wining', 'best1', 'happened', 'mwahs', 'honestly', 'follow', 'dont', '40', 'arab', 'abj', 'receive', 'lane', 'seen', 'preponed', 'determine', 'peoples', 'manda', 'easter', 'owned', 'leonardo', 'yunny', 'oni', 'doin', 'outages', 'sehwag', '80182', 'king', 'nighters', 'announced', 'gua', 'dl', 'troubleshooting', 'least5times', 'yesgauti', 'okay', 'promptly', 'charged', 'britney', 'picture', '08719180248', 'victors', '1', 'brain', 'tbspersolvo', 'longer', 'teach', 'hmv', 'growrandom', 'luton', 'reckon', 'sooner', 'wales', 'denis', 'vote', 'enjoyin', 'heard', 'ahmad', 'cold', 'roommate', 'umma', 'boatin', 'simpler', '8800', 'john', '300603', 'double', 'quitting', 'repeat', 'juz', '0844', 'help08700469649', '09061743810', 'o44345', 'hurt', 'roger', 'cried', 'jenne', 'planettalkinstantcom', 'dammit', 'handed', 'in2', 'score', 'tex', 'lets', 's', 'infernal', 'toppoly', 'msgsubscription', 'pod', 'ahnow', 'sooooo', 'snuggles', 'slice', 'freefone', 'previews', 'frndship', 'survey', 'thedailydraw', 'may', 'hearts', 'boyfriend', '3', 'renewal', 'valuable', 'christmas', 'decision', 'color', 'jobs', 'meal', '700', 'acted', 'calling', 'shining', 'transport', 'knowhe', 'ubi', 'salad', 'per', 'itjust', 'recd', 'issues', 'wrking', 'checked', 'bundle', 'dads', 'rounds', 'company', 'establish', 'foley', '09094646899', 'ask', '09066660100', 'arithmetic', 'ring', 'stupidits', 'pockets', 'rcv', 'naal', 'pases', 'details', 'subscriptn3gbpwk', 'replies', '2nite', 'ranju', 'today', 'wun', 'champlaxigating', 'bids', 'beverage', 'bday', 'drug', 'fullonsmscom', 'wwwclubmobycom', 'nuther', 'from', 'lions', 'cookies', 'preferably', 'hill', 'symbol', 'snowboarding', 'hont', '84484', 'floppy', 'internal', 'okvarunnathu', '12mths', 'monster', 'fix', 'celebrate', 'wwwb4utelecom', '10000', '0a', 'nanny', 'shun', 'dogbreath', 'wereare', 'w1t1jy', 'onlybettr', 'small', 'shouted', 'direct', 'hands', 'belly', 'three', 'terrific', 'win', 'lib', 'unconvinced', 'mathematics', 'against', 'wellda', '2kbsubject', 'audrie', 'startedindia', '08717509990', 'arrival', 'carpark', 'oru', 'sayy', 'connected', 'local', 'urn', 'crazyin', 'healer', 'wwwtxttowincouk', 'sleeps', 'vldo', '89034', 'festival', 'books', 'tiz', 'cme', 'art', 'empty', 'likely', 'route', '09058097189', 'ni8', 'movies', 'mids', 'ppl', 'fights', 'smaller', 'change', 'pile', 'cock', 'chef', 'shanil', 'billy', 'overdid', '528', '5p', 'wwwurawinnercom', 'voucher', 'polyh', 'pound', 'blanked', 'disaster', '8hr', 'fall', '80160', 'finds', 'pobox11414tcrw1', 'intention', 'geeee', 'sary', 'tobed', 'vomiting', 'logon', 'national', 'speaking', 'matric', 'sankranti', 'mumhas', '10ppm', 'rstm', 'summers', 'nokia150p', 'salt', 'join', 'tonight', 'purse', 'grasp', 'dancin', '09111030116', 'sd', 'outs', 'community', '7', 'neville', 'promo', '09064012103', 'robs', 'can', 'comuk220cm2', 'roads', 'road', 'amrca', 'okors', 'bec', 'shell', 'sent', 'mymoby', 'nte', 'fightng', 'downs', 'check', 'kay', 'premier', 'lose', 'verified', 'calls1minmobsmore', 'textbook', 'believe', '4msgs', '1500', 'petrol', 'stocked', 'fair', 'stewartsize', 'ebay', 'website', 'entry', 'spook', 'hun', 'wwwcomuknet', 'donewant', 'forwarded', '07090298926', 'beauties', 'not', 'inr', 'vill', 'pee', '3510i', 'loss', 'harish', 'combination', 'caroline', 'something', 'fifty', 'presnts', 'brings', 'pre', 'derek', 'elaya', 'normal', 'goodnoon', 'offc', 'obedient', 'gudni8', 'panicks', 'kanowhr', 'medicine', '08448350055', 'applyed', 'omg', '9am11pm', 'fathima', 'understood', 'maili', 'resizing', 'hut', 'classmates', 'met', 'telephonic', 'will', 'round', 'hoping', 'fan', 'academic', 'jon', 'jerry', 'lambda', 'text82228', 'warned', 'trips', 'stamped', 'convincingjust', 'fast', 'fgkslpopw', 'causing', 'kisses', 'fails', 'chess', 'shattered', '2stoptxt', 'sfirst', 'worse', 'claypot', 'its', 'no83355', 'celeb', 'httpwwwgr8prizescom', 'nmde', 'dead', 'nb', 'sch', 'fridge', 'anyhow', 'hotel', 'q', 'julianaland', 'jen', 'gnt', 'girl', 'blackand', 'allday', 'opponenter', 'apeshit', 'waiti', 'rem', 'pretend', 'novelty', 'vs', 'embassy', 'watts', 'bugis', 'newquaysend', 'gprs', 'slap', 'ymca', 'call2optoutlf56', 'necesity', '1450', 'drugdealer', 'probs', 'doke', 'patent', '08701237397', 'ages', 'speechless', 'id', 'show', 'flash', '7mahaveer', 'mens', 'alive', '6', 'cheers', 'except', '0794674629107880867867', 'marking', '08712101358', 'tonights', 'xxxxx', 'sentence', 'ksry', 'shouldn', 'bowls', 'further', '08715203652', 'pale', 'hopeing', '88039', 'explosive', 'kisi', 'yep', 'cheery', 'mattermsg', 'emc1couk', 'happend', 'arrive', 'unemployed', 'knees', '08712317606', 'voucherstext', 'haul', 'amt', 'diamonds', '4742', 'commercial', 'some1', 'sn', 'friend', '84', 'market', 'leh', 'fucked', 'cres', 'mokka', 'hmm', 'dreamstake', 'sura', 'used', 'prebook', '89545', 'yijue', 'missunderstding', 'internetservice', 'places', 'hours', 'stretch', 'hard', 'jones', 'ibored', 'size', 'vl', 'if', 'kb', 'frog', 'fire', '08707509020', 'loti', 'hall', 'hiphop', 'tool', 'rental', 'doesdiscount', 'original', 'organizer', 'pract', 'lacsthats', 'spontaneously', 'intrude', 'awarded', 'planning', 'offline', 'meneed', 'news', 'annoying', 'illspeak', 'smartcall', 'breathing', 'shudvetold', 'treated', '3u', 'watch', 'againcall', 'amp', 'emotion', '09058094565', 'compulsory', 'theredo', 'poured', 'nature', 'txt82228couk', 'sapna', 'blame', 'www4tcbiz', 'puttin', 'laden', 'scotch', 'instead', 'force', 'hearin', '83049', 'murderer', 'kuch', '69888nyt', 'killing', 'choice', 'getstop', 'biggest', 'spunout', 'travel', 'burger', 'bat', 'smsservices', '087143423992stop', 'belligerent', 'crisis', 'purple', 'calls150ppm', 'voda', 'tis', 'wa14', 'matter', '62468', '5month', 'kickoff', 'thgt', 'cheating', 'fakeye', 'his', 'valentines', 'oz', 'back', 'fifa', '08717205546', '150pmeg', '061104', 'x', 'g696ga', 'barring', 'teacher', 'childish', 'moyep', '08712405020', 'hari', 'misfits', 'kolathupalayam', 'bbdthts', 'sinco', 'aptitude', 'meat', 'test', 'nor', 'deleted', '08717507382', 'axis', 'notified', 'freak', 'nimya', '116', '449071512431', 'swing', 'need', 'passthey', 'brdget', 'complete', 'stream', '09058098002', 'contention', 'source', 'mine', 'thru', 'islands', 'aha', '7250i', 'videosound', 'mahal', 'joker', 'sez', 'update_now', 'stuffleaving', 'only', 'goodo', 'brown', 'riddance', 'jeremiah', 'onwords', 'makin', 'mf', 'gbp150week', 'icky', '0871277810710pmin', 'simulate', 'kaitlyn', 'potential', 'rooms', 'endof', '2morro', 'catching', 'letters', 'aproach', 'indyarockscom', 'jb', 'vipclub4u', 'savings', 'tim', 'grace', 'rightly', 'wit', 'skilgme', 'fox', 'wt', 'leo', 'psychiatrist', 'hee', 'gumby', 'tell', 'strip', 'shola', 'masked', 'psychologist', 'lesson', 'aiyo', 'looking', 'stockport', 'strongly', 'sit', 'itlet', 'us', 'hugging', 'comment', 'pubcafe', '09071512433', 'entrepreneurs', 'stayed', 'light', 'sic', 'feelin', 'park', 'alaipayuthe', '9funny', '78pmin', 'due', 'motivate', 'farm', 'combine', 'losing', 'abi', 'okies', 'flew', 'labor', '08001950382', 'yes165', 'mus', 'require', 'lying', 'litres', 'motive', 'paragon', 'bright', 'laughed', 'length', 'giggle', 'hail', 'painting', 'confirmd', 'phone750', 'bollox', 'goal', 'cheesy', 'coulda', 'callon', 'edison', 'response', 'shes', 'activ8', 'g2', 'truffles', 'xmas', 'wld', 'oops', 'entry41', 'savamobmember', 'shop', 'yorge', 'key', 'hugs', 'stripes', 'asap', 'anythin', 'herself', '28', 'innocent', 'yelling', 'worthless', 'express', 'holiday', 'disturb', 'lookatme', '6zf', '150pmsgrcvd', 'practicum', 'onedge', 'drmstake', 'seem', 'sometimerakhesh', 'flowing', 'church', 'done', '36504', 'inc', 'surprise', 'scary', 'approaches', 'frosty', 'created', 'hai', 'anonymous', 'ppm', 'postponed', 'euro2004', 'planned', 'funk', 'snoringthey', 'buddys', 'tag', 'potter', 'srt', 'sorydarealyfrm', 'logo', '09061743806', 'happy', 'learn', 'prabu', '2005', 'lead', 'stomach', 'recreation', 'uni', 'discuss', 'bstfrnd', 'morningtake', 'play', 'yahoo', 'requires', 'gender', 'daywith', 'future', 'cud', 'cloud', 'efreefone', 'cin', 'cool', 'lady', 'matra', 'starve', '2find', 'befor', 'avenge', 'woods', 'plans', 'pongal', 'btnational', 'texd', '1680', 'non', 'adds', '5sankatmochan', '2hook', 'collection', 'hollalater', 'tonght', '08000776320', 'body', 'lift', 'jumpers', 'bt', '24', 'concentrate', 'chrgd', 'fancies', 'difference', 'lots', '1stone', 'dolls', 'janinexx', 'fusion', '08000930705', 'ms', '08718727870', 'rise', 'u4', 'dull', '2stoptx', 'invest', 'possessive', 'prizeto', 'sorry', '50', 'city', 'gas', 'gay', 'career', 'somebody', 'dirt', 'happiest', 'kanagu', 'deeraj', 'lotta', 'nora', 'cuddled', 'delicious', '2godid', 'cougarpen', 'atmsms', 'apologise', 'cute', 'place', 'def', 'paining', 'smell', 'loneliness', 'stoners', 'ec2a', 'everywhere', 'btooth', 'push', 'welp', 'dudes', 'dice', '7250', 'inshah', 'unjalur', 'spent', 'vibrant', 'pop', 'dps', 'neshanthtel', '31pmsg', 'bank', 'terry', 'sivatats', 'dinero', '5wb', 'worms', 'kano', 'packing', 'to', 'losers', '0845', '1000call', 'charlie', 'british', 'eggpotato', 'termsapply', 'stopcost', 'cross', 'great', 'casualty', 'completing', 'performed', 'corrupt', 'says', 'thk', 'nan', 'nitw', 'freaking', '83383', 'wrkin', 'arguing', '515', 'boobs', 'wwwsmsacugoldviking', 'prob', 'remember', 'sends', 'count', '82242', 'bet', 'mw', 'netno', '48922', 'box139', 'la', 'row', 'filthyguys', 'history', 'careswt', 'lrg', 'csstop', 'morefrmmob', 'description', 'greatest', 'knowwait', 'honeybee', 'hotels', 'arr', 'owns', '123', 'senthil', '81303', 'mcat', '09077818151', 'hhahhaahahah', 'mostly', 'borrow', 'bed', 'jerk', 'slices', 'goldviking', '68866', 'kthen', 'waliking', 'french', 'shijutta', '087016248', 'saturday', 'clean', 'bowa', '88600', 'ettans', 'disk', 'pthis', 'seh', 'peripherals', '6ish', 'melnite', 'becomes', 'wear', '08000938767', 'dearer', 'doinat', '211104', '50p', 'itself', 'wihtuot', 'september', 'resend', 'munsters', 'uncle', 'shaved', '09058094594', 'exam', 'sae', 'hoo', 'projects', 'passed', 'boys', 'clarify', 'sth', 'nimyapls', 'rejected', 'officeunderstand', 'smoked', 'silently', 'needa', 'accounts', 'gold', 'bishan', 'shore', 'ache', 'asssssholeeee', 'uothrwise', 'irritating', 'refund', 'seeing', 'harry', 'youphone', 'snervous', 'mono', 'cam', 'lov', '25p', 'nervous', 'amplikater', 'harlem', 'presleys', 'slow', 'irritated', 'ds', 'is', 'jiu', 'software', 'young', 'tarpon', 'o2coukgames', 'vibrator', 'allowed', 'loverboy', 'natalja', 'box334sk38ch', 'faber', 'opened', 'pool', 'delivery', 'lifpartnr', 'skirt', 'tel', 'wwwflirtpartyus', 'plane', 'dave', 'cdgt', 'soz', 'mobile', 'alaikkumpride', 'lotr', 'thanx4', 'finishd', '09066380611', 'yummmm', 'chikkuil', 'addie', 'wicked', 'nri', 'layin', 'lul', 'times', 'alot', 'yan', 'bloombergcom', 'oscar', 'sending', 'sorting', 'co', 'purity', 'stopbcm', 'spoil', 'cm', 'nowadays', 'both', 'norcorp', 'rumbling', 'breaking', 'afghanistan', 'probably', 'arms', 'sake', 'mindsetbelieve', 'wwwtxt2shopcom', 'dessert', 'ahold', 'breath', 'jam', 'bread', 'raed', 'virgin', 'together', 'jordan', 'watever', 'worth', 'correctly', 'shit', 'sprint', 'told', 'thousands', '11mths', 'was', 'sthis', 'bcm1896wc1n3xx', 'kz', 'received', 'tariffs', 'antelope', 'k718', 'link', 'palm', 'caring', 'remove', 'regard', 'andor', '85222', 'relationship', 'rwm', '0871212025016', 'cust', '83332please', 'wwwldewcom1win150ppmx3age16subscription', 'brainless', 'played', 'sight', 'fighting', 'brah', 'user', 'agesring', 'iwana', 'wildlife', '08081263000', '09066364349', 'nuerologist', 'horo', '6wu', 'haven', 'jamstercouk', 'acc', 'grandma', 'yes', 'tears', 'fraction', 'yo', 'reflection', 'style', 'theacusations', 'wahay', 'fb', 'waheeda', 'nigro', 'saw', 'sliding', '311004', 'licks', 'code4xx26', 'unsubscribe', 'faded', 'lik', 'does', 'w1a', 'mint', 'gr8', 'sept', 'pura', 'disc', 'cereals', 'inever', 'ideal', 'oso', '150pmin', 'gona', 'tiempo', 'manage', 'screamed', 'simply', 'taste', 'compliments', 'karaoke', 'sittin', 'phone', 'mallika', 'owl', 'wkend', 'omw', 'shoranur', 'records', '4041', 'godyou', 'expect', 'ooh', 'tddnewsletter', '786', 'csh11', 'pobox12n146tf150p', 'tvhe', 'feb', 'forums', 'muchand', 'opener', 'debating', 'ft', 'toldshe', 'chuckin', 'gang', '391784', 'lotwill', 'or', 'high', 'rose', 'viva', '4d', 'nvm', 'hoody', 'tongued', 'ava', 'telly', 'accident', 'neither', 'brownie', 'va', 'pity', 'zhong', 'block', 'yoville', 'theatre', 'hmmmm', 'faglord', 'categories', 'pm', 'conected', 'badly', 'library', 'wins', 'lies', 'ben', 'dialling', 'distract', 'embarassed', 'wings', 'bk', 'loveme', 'free2day', 'y87', 'beforehand', 'wating', 'paperwork', 'mountains', 'beware', 'windows', 'voted', 'drizzling', 'interview', 'boundaries', 'cream', '0789xxxxxxx', 'struggling', 'nite', 'dismay', 'squeeeeeze', '6days', 'kind', 'guide', '7732584351', 'compare', 'mix', 'csbcm4235wc1n3xxcallcost150ppmmobilesvary', 'attack', 'prescripiton', 'screaming', 'contented', 'ugadi', 'wwwasjesuscom', 'espe', 'erything', 'herwill', 'wwwldewcom', 'darling', 'warranty', '020603', 'crammed', 'wwwcnupdatescomnewsletter', 'fujitsu', 'spend', 'reltnship', 'redeemable', '864233', 'chg', 'weddingfriend', 'woul', 'edhae', '1148', 'kiss', 'slowly', 'brainy', 'qatarrakhesh', 'carryin', 'credit', 'liverpool', 'jaykwon', 'croydon', 'beg', 'eg', 'worrying', '113', 'kki', '09065394514', 'traveling', 'ads', 'concentrating', 'piece', 'spile', 'aathilove', 'global', '88888', 'nething', 'kare', 'hiding', 'thekingshead', 'sara', 'neglect', 'sure', 'jiayin', 'neighbor', 'pobox1', 'opportunityall', 'recount', 'maraikara', '542', 'upto', 'write', 'parked', 'zoom', '07008009200', 'particular', '1minmobsmorelkpobox177hp51fl', 'mag', 'lined', 'plm', 'hrs', 'bahamas', 'wer', 'itwhichturnedinto', 'frmcloud', 'water', 'specify', 'smoothly', 'bite', 'studies', '09066364589', 'sweets', 'nhs', 'visitor', 'whom', '11414', 'poor', 'sleepwell', 'taka', 'moji', 'sold', 'fixedline', 'hsbc', 'godnot', 'gift', 'gwr', 'deepak', 'logoff', 'shopping', 'ear', 'sleepsweet', 'specialise', '450ppw', '861', 'lie', 'isnt', 'sales', '09061221066', 'laid', 'mobiles', 'payments', 'placed', 'hes', 'lou', 'promises', 'dip', 'fallen', 'beloved', 'vale', 'across', 'iz', 'studentfinancial', 'ranjith', 'vco', 'trip', 'of', '08712405022', 'leg', 'mobstorequiz10ppm', 'urgh', 'algebra', 'chest', 'slower', '1appledayno', 'constant', 'a30', 'differ', 'missions', 'hrishi', 'aah', 'trav', 'team', 'emily', 'tonexs', 'head', 'bay', 'jog', 'swimming', 'haha', '2yr', 'breathe1', 'sofa', 'onionrs', '06', 'url', 'proze', 'genuine', 'deposit', 'gong', 'jenny', 'black', '5249', 'radio', 'potato', 'begins', 'proper', 'mk45', 'geting', 'parco', 'adsense', 'chikku', 'weddin', 'dogg', 'tolerance', 'here', 'dearslp', 'interviw', 'thuglyfe', 'almost', 'outside', 'dracula', 'rates', 'park6ph', 'smashed', '8714714', 'homeowners', 'aig', 'professional', 'research', 'dollars', 'sw73ss', 'uterus', 'ccna', '13404', 'lipo', 'weiyi', 'how', 'bakrid', 'oredi', 'everybody', 'arrested', 'unkempt', 'whenever', 'fees', 'sensitive', 'ibhltd', 'selling', 'breathe', 'slave', 'checkin', 'prabha', 'gaytextbuddycom', 'decided', '150pday', 'hate', 'h', 'eire', '4o', 'polyphonic', 'dates', 'until', 'bottle', 'logosmusicnews', '08718738001', 'bbc', 'careinsha', 'james', 'bloke', 'resolved', 'amongst', 'computerless', 'kaypoh', 'method', 'corporation', 'everyday', 'lot', 'avenue', 'okok', 'katexxx', 'luv', 'sis', 'reschedule', 'knowing', 'prescribed', 'sleep', 'florida', 'searching', 'eerie', 'ever', 'helpline', 'swat', 'roles', '08719839835', 'drive', 'urfeeling', 'possessiveness', 'continue', 'guilty', 'maybe', 'earn', 'tune', 'chapter', 'talkin', 'age16150ppermesssubscription', 'hon', 'nearly', 'pushbutton', 'uncountable', 'xam', 'exciting', 'lived', 'pulls', 'famous', 'payasam', 'eshxxxxxxxxxxx', 'defeat', 'info', 'posting', 'gram', 'suggestion', 'tshirt', 'uk', 'joking', 'normally', 'im', '1405', 'elephant', 'convenience', 'rayan', 'gods', 'astne', '3g', 'gals', 'absolutely', 'box420', 'meatballs', '2006', 'gdeve', 'wotz', 'rebtel', 'scenario', 'peril', 'ammae', 'closes', 'attend', 'babysitting', 'propsd', 'wenever', 'videosounds2', 'pass', 'family', 'message', 'realising', 'tcllc', 'tming', 'hussey', 'sir', 'buyer', 'arngd', 'aeronautics', 'hogolo', 'bellearlier', 'hp', 'min', 'hottest', 'abroad', '83435', 'administrator', 'anot', 'ammo', 'rewarding', 'teachers', 'clearing', 'constantly', 'fumbling', 'intro', '9ae', 'signin', 'well', 'guess', '730ish', '09050005321', 'mood', 'values', 'sathya', 'chad', '08715203694', 'fab', 'afford', 'jsco', 'halla', '20', 'fondly', 'bcum', 'wwwtextpodnet', 'hits', 'cro1327', 'dreamlove', '08717895698', '448712404000', 'milta', 'processnetworking', 'cocksuckers', 'efficient', 'floor', 'wisdom', 'weekdays', 'ridden', 'living', 'syrup', 'remembrs', 'suddenly', 'jet', 'racing', '08448714184', '6missed', 'so', 'wk', 'cook', 'with', 'ibiza', 'breaks', 'available', 'doctors', 'elaborate', 'gave', 'lect', 'piss', 'set', 'werethe', 'wwwgetzedcouk', 'exhibition', 'achieve', 'cr01327bt', '650', 'invnted', 'starwars3', 'suntec', 'porridge', 'wks', 'car', 'tnc', 'edward', '1250', 'patrick', 'fri', 'good', 'thenwill', 'sipix', 'guides', 'august', 'dload', 'humans', 'saying', 'understand', 'wed', '087147123779am7pm', 'defer', 'january', '4wrd', 'loverakhesh', 'bpo', 'squid', '350', 'chk', 'replied', 'clear', 'largest', 'apply2', 'drugs', 'meetgreet', '150p', 'sacked', 'rael', 'fo', 'hardest', 'japanese', 'bcaz', 'strong', '08718726270150gbpmtmsg18', 'india', 'prizeswith', 'saibaba', 'send', 'man', 'messy', 'paying', 'satlove', 'timehope', 'stuff42moro', 'iouri', 'bootydelious', 'much', 'path', 'experience', 'del', 'freek', 'shitload', '250k', 'make', 'any', 'packs', 'shocking', 'videophones', 'buses', '1im', 'brief', 'lambu', '4years', 'wylie', 'reaching', 'gowait', 'nikiyu4net', 'moon', 'happily', '09071517866', 'skateboarding', 'diff', 'nigeria', 'bettersn', 'ashes', '09050000878', 'click', 'common', 'prediction', 'load', '09090204448', 'these', 'politicians', 'tap', 'chgs', '2007', '150ptext', 'strange', 'ak', 'ps', 'hudgi', 'drunkard', '6hl', 'mumbai', 'tones2youcouk', 'two', 'kits', 'putting', 'tomeandsaid', 'withdraw', 'reality', 'orh', 'ashwini', 'breather', 'excused', 'broad', 'sounding', 'wesley', 'resort', 'jolt', 'syria', 'reading', 'cd', 'pataistha', 'tickets', 'curry', '84025', 'responsibility', 'jus', 'around', 'wwwsmsacunat27081980', 'meant', 'drinking', 'woot', 'unless', 'plus', 'shelf', 'willing', 'lousy', 'ku', 'super', '83021', 'olympics', 'implications', '09050002311', 'shitin', 'attended', 'thx', 'cthen', 'scoring', 'ground', '80082', 'aight', 'eve', 'enufcredeit', 'miwa', 'slo', '150pmsgrcvdhgsuite3422landsroww1j6hl', 'belive', 'tasts', 'asthere', 'poboxox36504w45wq', 'ahhh', 'evrey', 'dealer', 'wwwringtonescouk', 'joy', 'wondar', 'arent', 'wth', 'calls1minmobsmorelkpobox177hp51fl', 'luvd', 'fly', 'uscedu', 'cell', 'lovin', 'replacing', 'brolly', 'ratio', 'frnt', 'darlings', '2u2', 'death', 'customersqueries', 'computational', 'tones2u', 'weirdy', 'mrng', 'detail', 'add', 'call2optoutf4q', 'itcould', 'stability', 'hgsuite3422lands', 'ibm', 'chick', 'stranger', 'errors', 'noun', 'duo', 'wife', 'taught', 'said', 'yup', 'ipaditan', 'rp176781', 'narcotics', 'about', 'drinks', 'nytec2a3lpmsg', 'breakfast', 'gymnastics', 'mandara', 'save', 'msgsometext', 'hero', 'contains', 'sheets', '30th', 'pairs', 'hubby', 'occupy', 'wnt', 'sea', 'outsomewhere', 'finalise', 'kalisidare', 'theres', '230ish', 'realised', 'kanji', 'kkwhere', '09066362206', 'island', 'staff', 'clue', 'p', 'changes', 'gap', 'germany', 'www100percentrealcom', 'panalam', 'colleagues', 'age', 'transfered', 'acsmsrewards', 'junna', 'fill', 'aint', 'finish', 'garden', 'conacted', 'acl03530150pm', 'faster', 'scarcasim', 'fromwrk', 'cruisin', 'watches', 'hiwhat', 'ing', 'rayman', 'seing', 'stalk', 'legitimat', 'supports', 'noisy', 'train', 'under', 'cld', 'brand', 'evry1', 'attending', 'dontcha', 'lover', '02070836089', 'return', 'catches', 'showed', 'recent', 'payed', 'yupz', '88222', 'kittum', 'psychic', 'sister', 'numbers', 'cr9', 'stop', 'contract', 'diwali', 'simple', '087018728737', 'reacting', 'bus822656166382', 'poorly', 'glass', 'box326', '09050000301', 'unhappiness', 'logopic', '3pound', 'cost375max', 'dict', 'other', '2geva', 'chinky', 'lays', 'workand', 'opt', 'become', 'employer', 'lil', 'bristol', 'like', 'prof', 'st', 'sexual', 'nahi', 'powerful', '150prcvd', 'currently', 'den', 'shipped', 'lionp', 'marrgeremembr', 'colourful', 'selfindependence', 'captain', 'consistently', 'called', 'reason', 'smoke', 'complimentary', 'birthdate', 'most', 'qi', 'lessons', 'woken', 'throwin', 'okday', 'neft', 'unique', 'greatbhaji', '09050280520', 'hook', 'dub', 'tgxxrz', 'astrology', 'lunsford', 'eaten', 'atm', 'toclaim', 'booty', 'sore', 'tomorrowtoday', 'spam', 'specs', 'ken', 'pilates', 'thandiyachu', 'gim', 'mobileupd8', 'fav', 'thy', 'scared', 'fine', 'education', 'nusstu', 'boyf', 'grow', 'mundhe', 'sol', 'justify', 'reminded', 'suggest', 'boytoy', 'housewives', 'mnths', 'failed', 'marketing', '5', 'figure', 'sick', 'likes', 'admission', 'okey', 'dey', '09064019014', 'start', 'photos', 'burning', 'mini', 'hppnss', 'fne', 'saucy', 'signing', 'management', 'adults', 'boston', 'training', 'shracomorsglsuplt', 'prayingwill', 'gal', 'by', 'dawns', '09063458130', 'deal', 'sux', 'downloads', 'words', 'bridgwater', 'dose', 'point', 'lasagna', 'march', 'liquor', 'beyond', 'nurses', 'disappeared', 'morn', 'trackmarque', 'stuffs', 'current', 'comp', '83118', 'kent', 'laxinorficated', 'usher', 'someday', 'irritation', 'gd', 'mobilesvary', '08714719523', 'giv', 'true', 'few', 'minuts', 'wwwsmsconet', 'khelate', '09058094455', 'complaint', '09099726553', '50award', 'kadeem', 'tv', 'roww1j6hl', 'yr', 'fixes', 'whereare', 'buy', 'witot', 'limiting', 'helloed', '09063440451', 'stops', 'blue', 'sochte', 'unconsciously', 'seeking', 'dooms', 'flights', 'happen', 'shut', 'real1', 'captaining', 'freenokia', 'after', 'hug', 'ai', 'mth', '09061221061', 'bedroom', 'adi', 'enjoy', '08717890890150', 'fault', 'muht', 'depression', 'indianpls', 'luks', 'sha', 'er', '08712402578', 'miles', 'parent', 'fucks', 'long', 'freaked', 'rounder', 'wwwringtonekingcouk', 'alfie', 'terminatedwe', 'costumes', 'cinema', 'astronomer', 'rain', 'all', 'before', 'prey', 'showers', 'landlines', 'tells', 'unlimited', 'forgotten', 'personmeet', 'meshe', 'colours', 'develop', 'studyn', 'youwanna', 'channel', 'triple', 'msging', 'parkin', 'beautiful', 'box434sk38wp150ppm18', 'occasion', 'fedex', 'wifi', 'unnecessarily', 'keluviri', 'officially', 'luck', 'al', 'c52', 'themed', 'posted', 'parisfree', 'utter', 'hole', 'deus', 'inches', 'snogs', 'rubber', 'chex', 'genius', 'again', 'rvx', '09058097218', 'sensible', 'skype', 'virtual', 'fidalfication', 'guarantee', 'voicemail', 'beendropping', 'frwd', 'yaxxx', 'exe', 'effects', 'basq', 'vijay', 'joys', 'sony', 'selflessness', 'suffers', 'dinner', 'whatever', 'heehee', 'possible', 'instructions', 'dis', 'noits', 'gn', 'magicalsongsblogspotcom', 'carry', 'school', 'draw', 'wwwtextcompcom', '1cup', 'through', 'texts', 'nokia', 'fancy', 'mathe', 'rajipls', 'txtno', 'centre', 'bucks', 'worryc', '11', 'crab', 'restock', 'excited', 'talked', 'physics', 'hows', 'results', 'lifetime', 'hat', 'disturbing', 'special', 'fated', 'four', 'college', 'cheer', 'functions', 'suppose', 'xx', 'problem', 'firefox', 'goin', 'gud', '30', 'sorts', 'enna', 'modl', 'audition', 'anythingtomorrow', 'pdate_now', '3d', '4brekkie', 'argue', 'bbq', 'pl', 'clubsaisai', 'somewheresomeone', 'relatives', 'x2', 'salam', 'apply', 'bookshelf', 'members', 'goin2bed', 'over', 'brin', 'padhegm', '07808', 'sweetie', 'coupla', '150', 'pretty', 'netflix', 'lkpobox177hp51fl', '150ptone', 'somewhere', 'players', 'evone', '5k', 'leu', 'chinchillas', 'guy', 'bird', 'alert', 'macedonia', 'hillsborough', 'daily', 'replacement', 'sue', 'inde', 'drunk', 'away', 'lecturer', 'payed2day', 'unlike', 'cutting', 'affection', 'dental', 'package', '88877', 'torch', '07123456789', 'photoshop', 'varma', 'seconds', 'vodafone', 'sashimi', 'regret', 'rahul', 'birds', 'specific', 'muz', 'fren', 'taken', 'entropication', 'chart', 'huiming', '89693', 'ltd150mtmsgrcvd18', 'motherinlaw', 'thinl', 'enter', 'responcewhat', 'wwwsantacallingcom', 'vitamin', 'pillows', 'meds', '2watershd', 'win150ppmx3age16', '24hrs', 'v', 'todaysundaysunday', 'lag', 'buff', 'beerrs', 'contacted', 'tear', 'arises', 'enjoying', '07973788240', 'pressure', 'garbage', 'linerental', 'tue', 'month', 'collecting', '08718726970', 'cat', 'outfor', 'dhorte', 'sindu', 'peaceful', 'dine', 'resolution', 'ctxt', 'mi', 'dorothy', 'sells', 'soiree', 'wind', 'zebra', 'mornin', 'purchases', 'govtinstituitions', 'sam', 'havebeen', '31', 'kit', 'jst', 'barbie', 'pimpleseven', 'events', 'steamboat', 'paper', 'anything', 'flirting', 'reg', 'waheed', 'grinder', 'dom', 'are', 'silver', 'billed', 'renewing', 'approx', 'wwwclubzedcouk', 'technical', 'tot', 'university', 'competition', 'series', '10am9pm', 't', 'murali', 'darkest', 'oic', 'no434', 'imf', 'str8', 'weds', 'crashed', 'address', 'someplace', '08706091795', 'reliant', 'greeting', 'approve', '2wt', 'walking', 'shirt', 'gudnyt', 'ukp', 'clark', 'presence', 'dark', 'nicenicehow', 'ones', 'lucky', 'officethenampet', '6230', 'guesses', 'punto', 'costs', 'balance', 'complain', 'moment', 'websitenow', 'connections', 'n8', 'penny', 'kk', 'each', 'urgran', 'mia', 'desert', 'hour', 'joined', 'custcare', 'batsman', 'rhythm', 'foreign', '85233', 'waves', 'winds', 'our', 'nbme', '150ppmpobox10183bhamb64xe', 'rents', 'wwwfullonsmscom', '430', 'gr8fun', 'toot', 'register', 'want2come', 'unsecured', 'scrounge', '2000', 'ofice', 'pay', 'logos', 'm95', 'uniform', 'coimbatore', 'loan', 'landline', 'provided', 'imposter', 'nver', 'manky', 'prashanthettan', 'nowi', 'april', 'doublefaggot', 'yelow', 'snap', 'infact', 'wrote', 'surely', 'gotbabescouk', 'films', '0', 'prepared', 'younger', 'bf', 'dwn', 'shesil', 'answerin', '9th', '09061790121', 'invite', 'whore', 'subscription', 'clover', 'although', 'kerala', 'iff', 'gnarls', 'biola', 'middle', 'hesitation', 'thin', 'queen', '0207', '101mega', 'abbey', 'match', 'pain', 'lip', 'visionsmscom', 'northampton', 'own', 'kaiez', 'fried', 'woke', 'pages', 'transfr', '81618', 'jot', 'download', 'asking', 'cred', 'quiz', 'themob', 'ears', 'bao', 'prospects', 'marvel', 'yours', 'odi', 'wud', 'sirjii', 'exp', 'atrocious', '02072069400', 'reunion', 'usual', 'suite', 'ding', 'flight', 'mr', 'joanna', 'haircut', 'names', '100psms', 'networking', 'okden', '45239', 'kill', 'impossible', '09065069120', 'closed', 'evenings', 'bare', 'showered', 'problemfree', 'ex', 'remembered', 'jack', 'lodge', 'weaseling', 'datoday', 'jas', '5terror', 'answer', '946', 'practice', '530', 'box1146', 'conserve', 'brisk', 'locks', '4few', '83222', 'fret', 'banter', 'puzzeles', 'math', 'abeg', 'risks', 'camcorder', 'cartoon', 'bx526', 'tech', 'too', '1pm', 'medical', 'reminding', 'ours', 'faggy', 'side', 'repair', 'tke', 'iter', 'tamilnaduthen', 'menu', 'colleg', 'multiply', 'dha', 'urgentlyits', 'ireneere', 'exposes', 'ondu', 'has', 'invaders', '83338', 'groovy', 'lyk', 'cares', 'bluray', 'spose', 'arts', 'week', 'nowonion', 'bring', 'hdd', 'every', 'earth', 'vargu', 'cleaning', 'eta', 'forth', 'wherever', 'rentl', 'uslet', 'driving', 'optout', 'fooled', 'carso', 'weekstop', 'furniture', 'aco', 'docks', 'steak', 'sarcasm', 'engagement', 'accordinglyor', 'bruv', 'decimal', 'bani', 'dabbles', 'tortilla', 'sympathetic', 'plyr', 'uptown', 'wahala', 'spoilt', 'watrdayno', 'attributed', 'cum', 'nofew', 'everythin', 'prabhai', 'cards', 'ofsi', 'etc', 'grams', 'mc', 'wwwphb1com', '09061104276', 'shijas', 'n', 'claim', 'wedlunch', 'dropped', 'recently', 'food', 'talk', 'making', 'vatian', 'lasting', 'awaiting', 'yourself', 'restrictions', 'babies', 'papers', 'arestaurant', 'speed', 'flaked', 'usualiam', 'album', 'upgrdcentre', 'dance', 'trouser', 'mk17', '6months', 'scrappy', 'tablet', 'arrow', 'yar', 'every1', 'limits', 'swoop', 'iraq', 'bbd', 'brought', 'stoptxtstop150week', 'positive', 'latest', 'dream', 'booking', 'bleak', 'south', 'lem', 'tip', 'cashbincouk', 'anthony', 'mention', 'breaker', 'perf', 'helen', 'ig11', 'wwwmovietriviatv', 'morphine', 'study', 'alone', 'radiator', 'noim', 'bambling', 'ghost', 'ten', 'imma', '09050090044', 'ummmawill', '400', 'calls', 'stu', 'otherwise', 'rightio', 'beneath', 'shud', 'wounds', 'connection', 'chennai', 'b', 'parish', 'memories', 'purchase', 'moves', 'stopped', '2703', 'icicibankcom', 'favorite', 'orc', 'deck', 'caller', 'whats', '3lp', 'diapers', 'hcl', 'necessity', 'services', 'sunshine', 'pressies', 'project', 'affair', 'postcard', 'ans', 'prix', 'pix', 'uin', 'serving', 'kiefercom', 'basketball', 'glory', 'pathaya', 'isaiahd', 'postcode', 'erode', 'village', 'lives', 'yun', 'barred', 'totally', 'slots', 'storming', 'truek', 'no1', 'flood', 'mojibiola', 'kicks', '60pmin', 'gokila', 'bmw', '18ptxt', 'tc', 'yesmum', 'sugababes', 'dogging', 'cst', '08702840625', 'vtired', 'thot', 'maretare', 'hopefully', 'spageddies', 'zoe', '09058099801', '7am', '7th', 'naked', '4a', 'ttyl', 'poyyarikatur', 'spacebucks', 'students', 'profile', 'philosophical', 'ooooooh', 'drinkpa', 'steal', 'sachinjust', 'sized', 'egg', 'wait', 'oral', 'ponnungale', 'headstart', 'stays', 'grownup', 'sudn', 'bike', 'boss', '930', 'bringing', 'missing', 'nyusa', 'knickers', 'maintaining', '125gift', 'approved', '4info', 'ayn', '3650', 'helens', 'protect', 'person', 'fish', 'fellow', 'andros', 'bthere', 'cds', 'ajith', '81151', '88066', 'hallaq', 'that2worzels', 'carlos', 'matches', 'eatin', 'mre', 'airport', 'walk', 'swashbuckling', 'suppliers', 'nojst', 'todayhe', 'ey', 'waqt', 'smile', 'fantasies', 'bold', 'matched', '28thfebt', 'yam', 'ecstacy', 'iron', 'emailed', 'assume', 'pounded', 'meaningful', 'diddy', 'esplanade', 'phews', 'green', 'ahhhh', 'should', 'dont4get2text', 'ready', 'fwiw', 'hor', 'resent', 'drvgsto', 'gucci', 'hanks', 'alsoor', 'sleeping', 'exmpel', 'marsms', 'endowed', '1month', '3365', 'dresser', 'korean', 'dating', 'sun0819', 'rs5', 'fring', 'xafter', 'shade', 'usc', 'mah', 'belong', 'birth', 'meaning', 'drop', '12price', 'tagged', 'dvg', 'dignity', 'ntt', 'code', 'pub', 'wordsevry', 'inlude', 'himso', 'tmw', 'tht', 'falls', 'pro', 'accent', 'phrase', 'amnow', 'sickness', 'cherthalain', 'amy', 'mentionned', 'suits', 'rct', 'listener', 'cabin', 'alian', 'initiate', '1013', 'waitin', '69101', 'friday', 'ba', '9t', 'xxsp', 'energy', 'eleven', 'eat', 'gigolo', 'pubs', 'event', 'prem', 'tmr', 'hardcore', 'science', 'finishing', 'mom', 'greetings', 'evrydy', 'escape', 'wish', 'west', 'bandages', 'lyfu', 'supervisor', '08708034412', 'notice', 'percent', 'totes', 'borin', 'soon', '89555', 'disastrous', 'neck', 'window', 'meetin', 'neededsalary', 'coughing', 'dude', 'keeping', 'shock', 'polytruepixringtonesgames', 'refundedthis', 'seemed', 'hamster', 'cutefrnd', 'sundayish', 'mo', 'accommodation', 'kudiyarasu', 'raksha', 'property', 'tomorrow', 'motivating', 'song', 'independently', 'off', 'twice', 'fixed', 'wwwcashbincouk', 'cry', 'afterwards', '326', 'kintu', 'girlfrnd', 'callertune', 'mins', 'unintentional', '84199', 'plenty', 'adjustable', 'nationwide', 'summer', 'responsibilities', 'nottel', 'inst', 'nokia6600', 'collect', 'sponsors', 'wan', 'name', 'kothi', 'c', 'txtjourney', 'parts', 'helloooo', 'identifier', 'nic', 'spelling', 'subscribed', '181104', 'salmon', 'bac', 'formallypls', 'faith', 'sleepy', 'pleasured', 'cnl', 'rs', 'logging', 'darker', 'maths', 'frauds', 'sleepin', 'looks', 'friends', '08718729758', '4txtú120', 'seems', 'soft', 'glorious', '54', 'cmon', 'tackle', 'wishin', 'tonite', 'persevered', 'ni8swt', 'corect', 'bill', 'participate', 'following', 'dats', 'nokias', 'pesky', '9153', '1131', 'hire', 'box39822', 'clas', 'lucozadecoukwrc', 'symptoms', 'hitler', 'diesel', 'gentleman', '434', 'talks', 'report', 'hardly', 'noon', 'tension', 'aries', 'jabo', '08715203685', 'rpl', 'holidayso', 'sk38xh', 'mt', 'chicken', 'weather', 'fishhead', 'subscriber', 'served', 'eldest', 'period', 'souveniers', 'hear', 'classes', '08712402902', 'sky', 'fool', 'gyno', 'di', '3rd', 'wwwareyouuniquecouk', 'sarasota', 'ams', 'pobox12n146tf15', 'b4u', 'beneficiary', 'bath', 'text', 'dough', 'required', '725', 'ovr', 'dear1', 'cricket', 'official', 'known', 'player', 'burden', 'reception', 'honey', 'mina', 'ppt150x3normal', 'entire', 'have', 'wrks', '0808', 'command', 'sane', 'post', 'minute', 'scream', 'abusers', 'www07781482378com', 'tosend', '26th', 'atten', 'sppok', 'didntgive', 'exorcist', 'mns', 'past', 'beehoon', 'winterstone', 'boat', '5wkg', 'mum', 'followed', 'ur', 'donate', '373', 'discreet', 'rhode', 'quarter', 'netcollex', 'nudist', '67441233', 'merememberin', 'want', 'dancce', '6th', 'walks', 'loses', 'accumulation', '4t', 'mistakes', '8000930705', 'hlday', '80086', 'rearrange', '7cfca1a', 'buying', 'witout', 'aust', 'payment', 'months', 'smokes', 'gin', 'premium', 'bras', 'children', 'csc', 'drivby0quit', 'ngage', 'raviyog', 'pack', 'daddy', '92h', 'edrunk', 'eek', 'goes', 'sorrowsi', 'counts', 'profit', 'geoenvironmental', 'girls', 'priest', 'present', 'took', '08719180219', 'mornings', 'suffering', 'ladies', 'queries', 'howu', 'court', 'srs', 'parade', 'w', 'impressed', 'london', 'wake', 'pobox334', 'paranoid', 'die', 'mistakeu', 'necessary', 'webadres', 'ride', 'kusruthi', 'saved', 'live', 'peak', '150psms', 'neva', 'ree', 'naughty', 'gravity', '09061701461', 'flim', 'blank', 'obviously', 'slide', 'incorrect', '40411', '08719181503', 'pimples', 'lesser', 'tix', 'helpful', 'case', 'tessypls', 'callfreefone', 'tau', 'kanoanyway', 'sunroof', 'tonitethings', 'mush', 'up', 'laying', 'nitros', 'statement', 'blake', '8th', 'boy', 'gbpsms', 'spanish', 'auto', 'fat', '0870', 'stop2stop', 'shivratri', '20pmin', 'unspoken', 'motherfucker', 'celebrated', 'indicate', 'deciding', 'vomitin', 'txtstar', 'smth', 'sell', 'sarcastic', 'nitz', 'cashto', 'plate', 'membershiptake', '2p', 'zed', '09065989182', 'facts', 'coveragd', 'monkeespeople', 'belovd', 'ipad', 'moments', 'ive', 'prayers', 'eh', 'kodstini', 'pendingi', 'bone', 'slaaaaave', 'xxxxxx', 'worst', 'csbcm4235wc1n3xx', 'note', 'removed', 'magical', 'also', 'fro', 'curtsey', 'argh', 'wicklow', 'conclusion', 'brothas', 'booked', 'drunken', 'skyving', 'apparently', 'needle', '4goten', 'grl', 'gettin', 'coin', 'spiral', 'shower', 'comedycant', 'allahrakhesh', 'spirit', 'til', 'kid', '09061209465', '4got', 'died', 'reassuring', 'forgive', 'vegas', 'endless', 'sender', 'trained', 'tmorrowpls', 'twinks', 'ignoring', 'msn', 'cribbs', 'villa', 'destiny', 'thts', 'sms', 'youre', 'call', 'yellow', 'ericsson', 'wesleys', 'beauty', 'picking', 'student', 'satisfied', 'lautech', 'dare', 'luxury', 'air', 'eerulli', 'driver', '08717507711', 'biro', 'installation', 'sausage', 'peeps', 'netvisionukcom', 'crckt', 'mondaynxt', 'already', 'tiring', 'starti', 'placement', 'paypal', 'this', 'funs', 'oil', 'girlie', 'sec', 'cab', '2px', 'wrnog', 'navigate', 'opening', 'tallahassee', 'unsold', 'algorithms', 'thanx', 'stone', 'net', 'sq825', 'petrolrs', 'groovying', '09066358152', 'atlast', 'vivek', 'thirunelvali', 'backwards', '88800', '82277unsub', 'milkdayno', '7romantic', 'then', 'reserve', 'cardin', 'joining', 'bunkers', '6ramaduth', '6times', 'repeating', 'toopray', '80122300pwk', 'replying', 'geeeee', 'hahahause', 'missin', 'jp', 'coaxing', 'ripped', 'timin', 'zeros', 'degree', 'mailed', 'screen', 'massages', '131004', 'fones', 'addamsfa', 'aburo', 'congrats', 'attitude', 'toll', 'onto', 'weapon', 'bcm', 'password', 'balloon', 'situations', 'jaz', 'correction', 'defo', 'safely', 'armenia', 'chloe', 'topicsorry', 'legs', 'file', 'settle', '08702840625comuk', 'yes762', 'tea', 'tobacco', 'clocks', 'monos', 'february', 'late', 'mmsto', 'solihull', '177', 'takecare', 'oi', 'digital', 'writhing', 'rcvd', 'sheet', 'deliveredtomorrow', 'sagamu', 'manege', 'erm', 'swimsuit', 'pshew', 'lily', 'secretly', 'skills', 'stamps', 'sos', '545', '09064015307', 'gopalettan', 'cost150pm', 'waaaat', '84122', '2exit', 'loo', '9decent', '186150', 'wasnt', '5digital', 'processed', 'regular', 'hr', 'comedy', 'whr', 'closer', 'bimbo', 'everything', 'buen', 'winner', 'gail', '4882', 'banned', '6hrs', 'lamp', 'their', 'individual', 'returning', '60p', 'styles', 'short', 'punish', 'sign', 'visitneed', 'lyricalladie', 'teaching', 'correct', 'pros', 'somewhat', 'section', 'blankets', 'tons', '09061790125', 'l8tr', 'lakhs', 'of2000', '85069', 'kilos', 'walls', 'overa', 'philosophy', 'officestill', '945', 'stress', 'princess', 'pleased', 'kinda', 'cared', 'frndsship', 'allows', 'white', 'professors', 'respect', 'subs', 'mufti', 'seriously', '09065174042', '2', 'switch', 'voice', 'garage', 'buns', 'lands', '69696', 'position', 'ore', 'goodfriend', 'companies', 'shexy', 'respond', 'id1b6a5ecef91ff937819', 'psp', 'clever', 'wwwbubbletextcom', 'dhoni', 'wthout', 'tuesday', 'lv', 'dun', 'sp', 'buzzzz', 'tests', 'cine', 'rummer', 'opinion', 'newsby', '150ppm', 'ph08700435505150p', 'private', 'messages', 'held', 'five', 'fingers', 'shortly', 'okcome', 'self', 'theory', 'copy', 'crucial', 'downstem', 'locations', 'rd', 'mates', 'wrc', 'santa', 'dt', '3xx', 'tone', 'agree', 'werebored', '08712402050', 'strtd', 'phoenix', 'engin', 'ts', 'violet', 'dumb', 'confused', 'dunno', 'squishy', 'cons', 'insha', 'supply', 'room', 'myspace', 'stylish', 'numberrespectful', 'compromised', 'payoh', 'mel', 'arng', 'dled', 'chikkugoing', 'top', 'homeleft', 'doublemins', 'wheel', 'shitstorm', 'pai', 'him', 'and', 'mmm', 'valentine', 'wtc', 'difficult', 'without', 'bored', 'difficulties', 'loves', 'since', 'ignorant', 'giving', 'guessing', 'starving', 'openings', 'shld', 'tms', '08718726978', 'tee', 'spoiled', 'bsn', 'bigger', 'tomorro', 'george', 'reaction', 'towards', 'boost', 'siva', 'cal', 'shorter', 'likeyour', 'ga', 'smsshsexnetun', '69200', 'nap', 'yeah', 'wwwshortbreaksorguk', 'playi', 'dem', 'karo', '10p', 'think', 'massive', 'tsunami', 'touched', 'lotsly', 'sucks', 'disagreeable', 'throws', 'salon', 'ls15hb', 'eachother', 'chickened', 'manchester', 'meet', 'sunlight', 'starer', 'tncs', 'china', 'takin', 'usb', 'web2mobile', 'fringe', '2mrw', '9', '30apr', 'gamestar', 'terrorist', 'wwwsmsacubootydelious', 'rocks', '2wu', '0776xxxxxxx', 'significant', '08081560665', 'welcome', '241', 'tyler', 'transfred', 'justbeen', 'obey', 'lo', 'wet', 'un', 'occurs', 'jungle', 'horse', 'ago', 'funeral', '5000', 'asian', 'call2optout', 'todo', 'shy', 'classic', 'them', '2waxsto', 'hack', 'sports', 'passable', 'gailxx', 'durban', 'nowhere', 'js', 'goodmorning', 'mcflyall', 'coldheard', 'playerwhy', 'gibbs', 'tomo', 'echo', 'low', 'ninish', 'marandratha', 'lst', 'reward', 'tulip', 'weve', '87121', 'plsi', 'total', 'registered', 'gorgeous', 'ending', 'verify', 'sometimes', 'tirupur', 'ls278bb', 'thursday', 'level', 'technologies', 'grand', 'networks', 'recognises', 'wednesday', 'le', 'ke', 'coins', 'fourth', '08002988890', 'acting', 'heat', 'toshiba', 'end', 'that', 'wana', 'messageits', 'tkts', 'fone', 'soil', 'waking', '153', 'usually', 'thanksgiving', 'casting', 'moby', 'skillgame1winaweek', 'athletic', '83738', 'porn', 'account', '1843', 'maat', 'regretted', '09061743811', '29m', 'headset', 'wil', 'vinobanagar', 'between', 'sib', '12hrs', 'stylist', 'holder', 'dramastorm', 'chop', 'update', 'multis', 'theplace', '08717168528', '09066350750', 'zyada', 'mtnl', 'brother', 'hates', 'gent', 'crack', 'growing', 'even', 'sweatter', 'authorise', 'perumbavoor', 'upping', 'picked', 'oh', 'arpraveesh', 'mahfuuz', 'wa', 'excuses', 'tescos', 'flowers', 'alertfrom', 'jstfrnd', 'spotty', 'life', 'feel', '8ball', 'gpu', '2wks', 'membership', 'jelly', 'wiv', 'pouch', 'invitation', 'activities', 'bray', 'calldrove', 'flyi', 'tmrw', '08000839402', 'halloween', 'lit', 'despite', 'deliver', 'weakness', 'ham', 'face', 'satthen', 'idea', 'ahthe', 'semester', 'formal', 'question', 'ringtones', 'karnan', '44', 'gym', 'electricity', 'drpd', 'farrell', 'status', 'granite', 'xnet', 'topped', '7shy', 'obese', 'film', 'building', '3maruti', 'chief', 'photo', 'pissed', 'canceled', 'joinedhope', 'kioskvalid', 'rgds', 'elaine', 'crossing', 'masteriastering', 'ultimate', 'last', 'ego', 'pictures', 'hint', '69911', 'malaria', 'reference', 'always', 'ths', 'fieldof', 'possession', 'bottom', 'wild', 'arrange', 'dehydration', 'sitll', 'content', 'admin', 'blessings', 'ref', 'wrongly', 'decking', 'satsgettin', 'completed', 'order', 'google', '09065069154', 'gives', 'po', 'duchess', 'yesterday', 'challenge', 'clock', 'advising', 'lacking', 'swatch', 'sheffield', 'owo', 'esaplanade', 'zealand', 'diseases', 'ujhhhhhhh', 'jenxxx', 'roommates', 'impressively', 'problems', 'nachos', 'keralacircle', 'pocked', 'irulinae', 'harri', 'vid', 'hourish', '10am', 'beth', 'executive', 'playing', 'main', 'txtx', 'discount', 'frontierville', 'insurance', 'escalator', 'reasonable', 'yer', 'mei', 'sed', 'shd', 'darkness', 'jeetey', 'campus', 'extract', 'extra', '5th', '87239', 'companion', 'smokin', 'vilikkam', 'ingredients', 'banks', 'sorrow', 'uses', 'residency', 'fa', 'fastest', 'costume', 'missed', 'stil', 'budget', 'such', 'previously', 'hella', 'cbe', 'relocate', 'havnt', 'horny', 'eviction', '8077', 'probpop', 'pause', 'daysèn', 'knew', 'crore', 'immediately', 'prove', 'aretaking', 'secretary', 'magic', 'riley', 'tom', 'allah', 'there', '4w', 'cozy', 'pours', 'close', 'turn', '08718720201', 'talent', 'wondering', 'anyways', 'mgs', 'chase', '50500', 'video', 'cheat', 'grumble', 'form', 'charity', 'listed', 'tmobile', 'towncud', 'business', 'irritates', 'hunks', 'lines', 'realize', 'realy', 'thus', 'ahead', 'fresh', 'aunties', 'ibh', '4ward', 'cricketer', 'see', 'stressful', 'shb', 'yourjob', 'pole', 'scotsman', 'ummmmmaah', 'schedule', 'raise', '09061213237', 'snd', 'univ', 're', 'cherish', 'healthy', 'stores', 'nursery', 'waited', 'anymore', 'subpoly', 'term', 'modelsony', 'answers', 'wedding', 'herethanks', 'smash', 'atlanta', 'wallpaperall', 'weekend', 'murdered', 'prasanth', 'seekers', 'planeti', 'chikkusimple', 'poly', 'casing', 'adam', 'w14rg', 'thnk', 'butting', 'wee', 'newest', 'give', 'ard', 'maintain', 'wwwtcbiz', 'hungry', 'imagine', 'cstore', 'rather', 'mummy', 'f', 'sacrifice', 'rencontre', 'remet', 'prods', 'prizes', 'did', 'reduce', 'videochat', 'thnq', 'improve', 'shorts', 'lab', 'lnly', '1childish', 'youuuuu', 'tai', 'incomm', 'hop', 'o2fwd', 'standing', 'lower', 'tampa', 'barolla', 'convince', 'visit', '08000407165', 'k', 'coccooning', 'returned', 'ploughing', 'spatula', '2bajarangabali', 'customers', 'offers', 'mega', 'rechargerakhesh', 'titleso', 'ericson', 'idiot', '32f', 'marriage', '2optoutd3wv', 'songs', 'chance', 'melle', 'firmware', 'bloomberg', 'stupid', 'stomps', '3qxj9', 'caught', 'line', '2u', 'raping', 'increase', 'free', 'quickly', 'rent', 'checking', '200', 'sneham', 'nope', 'broke', 'acnt', '300', 'thing', 'rolled', '50pmsg', 'drink', 'weight', 'amx', 'accordingly', 'tok', 'twilight', 'attractioni', 'approaching', 'wif', '0089', 'accessible', 'coincidence', 'bedbut', 'r836', 'passport', 'mmmm', 'dasara', 'ukmobiledate', 'bx420', 'exterminator', 'knackered', 'joinedso', 'dining', 'pushes', 'killed', 'ringtoneget', 'outgoing', 'passwords', 'deltomorrow', 'lately', 'look', 'sandiago', 'dokey', '09065171142stopsms08718727870150ppm', 'sleepingand', 'bye', 'oooooh', 'anti', 'eight', '8', 'bein', 'derp', 'vip', 'sexy', 'sayhey', 'darlin', '8pm', 'jersey', 'wwwsmsacunatalie2k9', 'favourite', 'kalaachutaarama', 'adress', 'rimac', 'points', 'staying', 'phne', 'uso', 'snow', 'm8', 'appear', 'apnt', 'dat', 'recharge', 'traffic', 'swt', 'relax', 'dept', 'www80488biz', 'shhhhh', 'angry', 'interesting', 'answered', '42810', 'needs', 'athome', 'nus', 'football', 'fixd', 'spoons', 'edition', '630', 'actually', 'cutie', '08002986906', 'onum', 'wont', 'ias', 'borderline', 'yeesh', 'she', 'cleared', 'doc', 'travelled', 'janarige', 'costa', 'fineinshah', 'charts', 'loko', 'toleratbcs', 'assumed', '16', 'upseti', 'luck2', 'call2optoutj', 'unhappy', 'ate', 'band', 'randomly', 'box403', 'cooperative', 'apples', 'party', '400mins', 'overheating', 'prone', 'meh', 'dayu', '20p', 'ducking', '80062', 'availablethey', 'scold', 'pharmacy', 'grab', 'plumbers', 'soup', 'domain', 'funny', 'blog', 'mp3', 'religiously', 'outstanding', 'heart', 'poet', 'pen', 'sterling', 'display', 'orange', 'kegger', 'hospital', 'eggspert', 'freemsg', 'ironing', '29100', 'member', 'up4', 'reflex', 'progress', 'msg150p', 'freesend', 'hypertension', 'heavy', 'random', 'scraped', 'soonxxx', 'jesus', 'people', 'ubandu', 'trust', '41782', 'dedicate', 'finishes', 'frying', 'millions', 'box95qu', 'share', 'chip', 'wah', 'dayswill', 'thankyou', 'tsandcs', 'gt', 'woah', 'spare', 'becaus', 'calld', '020903', 'nat', 'ran', 'ls1', 'pump', 'rip', 'foward', 'finn', 'bear', 'finished', 'hopeu', 'adrink', 'cut', 'unbelievable', 'siguviri', 'serena', 'ned', 'hockey', 'don', 'inconvenience', 'grief', 'macho', 'ful', '08718727868', 'burnt', 'badass', 'july', 'peach', 'satanic', '139', 'hvae', 'settling', 'wotu', 'word', 'negative', '5ful', 'illness', 'cantdo', 'btnationalrate', 'fund', 'suply', 'envy', 'il', 'lttrs', '2nd', 'confidence', 'kotees', 'propose', 'wlcome', 'europe', 'housework', 'stool', 'neo69', 'imp', 'popped', 'pobox75ldns7', 'respectful', 'ipod', 'pray', 'activate', 'nigh', 'forward', 'bruce', 'tough', '1030', 'll', '09066361921', 'sing', 'canal', 'evaporated', 'armand', 'crazy', 'housemaid', 'islove', 'tape', '08712404000', 'workin', 'notxtcouk', 'upd8', '4mths', 'nigpun', 'birla', 'mistake', '18', 'press', 'wwwldewcomsubs161win150ppmx3', 'ends', 've', 'elliot', 'vikky', 'guys', 'bend', 'determined', 'thurs', 'practicing', 'convey', 'might', '4th', 'frequently', 'dial', 'homecheck', 'pei', 'enuff', 'elections', 'handset', 'avoid', 'application', 'story', 'thinks', 'starts', 'spoke', 'barrel', 'class', '1956669', 'slob', 'calculation', 'callers', 'problms', 'glad', 'curious', 'night', 'exposed', 'actual', 'sad', '32323', 'retired', '150perweeksub', 'name1', 'covers', 'specialcall', 'ko', 'brb', 'running', 'ertini', 'weak', 'tonsolitusaswell', '3wks', 'reservations', 'dress', '80608', '169', 'congratulations', 'havent', 'dodgey', 'inspection', 'tcrw1', 'sachin', 'olage', 'spider', 'tired', 'wanted', 'definitely', 'brandy', 'bookedthe', 'christ', 'lifebook', 'g', 'wiskey', 'natalie', 'gonnamissu', 'blessed', '25f', '83600', 'permission', 'important', 'drops', 'changed', 'albi', 'pints', 'divert', 'downloaded', 'mitsake', '150pmtmsg', 'experiencehttp', 'closeby', 'nok', 'clearer', 'review', 'm26', 'republic', 'decisions', 'hello', 'w8in', 'necklace', 'fantastic', 'packalso', 'treat', 'keeps', 'box177', 'reslove', 'lucozade', 'getting', 'accidentally', 'optin', 'nxt', '_', 'callin', 'quizwin', 'still', 'chaps', 'poly200p', 'admirer', 'rgent', 'shake', 'batch', '3hrs', 'build', 'sticky', 'regarding', '8attractive', 'minded', 'smells', 'dry', 'while', '4217', 'meanwhile', 'tranquility', 'sense', 'hittng', 'independence', '28days', 'desperate', 'frank', 'painful', 'nuclear', 'taxi', 'dysentry', 'chain', 'rajini', 'bilo', 'no440', '08712400200', 'really', 'jorgeshock', 'throat', 'holby', 'suggestions', 'wonders', 'messageit', 'txtauction', 'web', 'things', 'worlds', 'files', 'far', 'panic', '1hanuman', 'charge', 'ibn', 'gist', 'sw7', 'better', 'diamond', 'lvblefrnd', 'gon', 'swiss', 'dormitory', 'facebook', 'refused', 'darren', 'owed', 'next', '08452810071', 'castor', 'major', 'resubmit', 'monday', 'lyf', 'ileave', 'aiyah', 'magazine', 'movie', '087104711148', 'minutes', '247mp', 'hidden', 'director', 'sian', 'les', 'bcums', 'recovery', 'lodging', 'bag', 'stereo', 'videopic', 'bong', 'challenging', 'skye', 'ppm150', 'chocolate', 'waht', 'half8th', 'hey', 'golf', 'referin', 'yogasana', '10am7pm', '1hr', 'steam', 'carlin', 'stagwood', 'please', 'store', 'regards', 'varaya', 'dobby', 'motor', 'gut', 'dieting', '87575', 'sambarlife', 'alerts', 'hannaford', 'clip', 'mode', 'lists', '100', 'cancel', 'hotmailcom', 'eating', 'gentle', 'eggs', 'stock', '08718738002', 'iknow', 'fastpls', 'pudunga', 'sip', 'trade', 'bowl', 'messageno', 'women', 'daysso', 'w1j', 'wan2', '1winawk', '18only', 'ordered', 'rights', 'lion', 'revealed', 'arguments', 'everytime', 'mad', 'tho', 'flies', '250', 'staring', 'kalainar', 'emergency', 'thanks', 'offense', 'thia', 'bin', 'in', 'tantrum', 'huge', 'michael', 'nobut', '1526', 'valid', 'prepare', 'reverse', 'goodevening', 'vettam', 'fit', '08719899230', 'doggy', 'yavnt', 'witin', '09064012160', 'crap', 'cuddle', 'consensus', 'discussed', 'indian', 'surprised', 'tenerife', 'pls', 'vouchers', 'bitching', 'yummy', 'added', '0871277810910pmin', 'dependents', 'tb', 'lost', 'stage', 'l', '3aj', 'spys', 'built', 'gotto', 'dismissial', 'hogli', 'barry', 'public', 'numberso', 'sugar', 'ktv', 'panther', 'chinese', 'season', 'spiritual', 'meets', 'xin', 'coach', '0125698789', 'newscaster', 'sun', 'gep', 'picsfree1', 'department', 'pick', 'quizzes', 'directly', 'wasted', 'xuhui', 'moral', '08452810073', 'investigate', 'yes434', 'rreveal', 'myparents', 'gibe', 'babes', '5226', 'nalla', '21st', 'grumpy', 'breakin', 'sayask', 'yetunde', 'chill', 'rply', 'hitman', 'experiment', 'moan', 'fake', 'taj', 'directors', 'fgkslpo', 'daytime', 'course', 'now', 'landlineonly', 'incident', 'coast', 'awake', 'mssuman', 'tonitebusy', 'mite', '08700621170150p', 'poker', '5we', 'breeze', 'personality', 'customercare', 'successful', 'gm', '09064011000', 'silly', 'venaam', 'fyi', 'sayin', 'saeed', 'happier', '07815296484', 'asia', '09058094454', 'rules', 'named', 'pocketbabecouk', '3miles', 'newport', 'offer', 'polys', 'qet', 'crave', '300603t', 'matured', 'bangb', 'canary', 'vry', 'wallpaper', 'service', 'anyone', 'terms', 'processexcellent', '060505', 'exactly', 'mandan', 'nightnobody', 'pple', 'semiobscure', 'spice', 'representative', 'mother', 'seeds', 'ansr', 'pin', 'break', 'rememberi', '9996', 'millers', 'savamob', 'hurts', 'expert', '69969', 'draws', 'exams', 'miserable', 'earlierwe', 'judgemental', 'carolina', 'tuition', '260305', 'innings', '2nitetell', 'smiling', 'glasgow', 'thnx', 'expired', 'installing', '300p', 'sufficient', 'musta', 'upgrade', 'items', 'contacts', 'ollubut', 'itna', 'truly', '80488', 'nichols', 'shaking', 'm263uz', '09066362220', 'loyal', 'honeymoon', 'no81151', '1stchoicecouk', 'bornplease', 'wtf', 'swtheart', 'ihave', 'resume', 'm221bp', 'didt', 'shortage', 'though', '09058095201', 'tomorrowcall', 'soonc', 'pobox', 'ringtone', 'actin', '2morrow', 'dosomething', 'celebration', 'lk', 'worried', 'american', '83355', 'http', 'help', 'adult', 'links', 'scenery', 'olave', 'rebel', 'converter', 'promise', 'hurry', 'learned', 'brains', 'becausethey', '9ja', 'requests', 'cha', 'works', 'sitting', 'busyi', 'fredericksburg', 'snickering', 'completely', '447per', 'list', 'bar', 'friendofafriend', 'doubt', 'blessget', 'splashmobile', 'december', 'references', 'reminds', 'hme', 'hadya', 'tiger', 'storelike', 'oreo', 'gaps', 'chiong', 'eventually', 'being', 'uncomfortable', 'everyones', 'hope', 'dnt', 'poo', 'doing', 'ended', 'gving', 'tried', 'amazing', 'work', 'jobyet', 'easier', 'shipping', 'kallis', 'dr', 'cappuccino', 'very', 'fulfil', 'alrite', 'moving', 'waste', 'select', 'dearly', 'silent', 'dao', 'fever', 'lounge', 'odalebeku', 'tirunelvali', 'registration', '69698', 'phones', 'rudi', 'sc', 'during', 'forever', 'year', 'visitors', 'tahan', 'inour', 'which', 'dhanush', 'meive', 'home', 'buz', 'u', 'upyeh', 'sorta', 'turned', 'transfer', 'kappa', 'throwing', 'stands', 'no165', 'call2optoutj5q', 'forms', 'bathe', 'eightish', 'percentages', 'once', 'outfit', 'call2optout4qf2', 'let', 'herepls', 'leave', 'six', 'hlp', 'ay', '1lemondayno', 'hellohow', 'big', 'kept', 'managed', 'cw25wx', 'ugh', 'mall', '09061749602', 'favor', 'first', 'alex', 'colour', 'otside', 'spl', 'cheese', 'mac', 'baaaaabe', 'sack', 'kane', 'lindsay', 'colany', 'telling', 'loving', '09065171142stopsms08', 'annie', 'posts', '3230', 'stars', 'tank', '08002986030', 'ha', 'lonlines', 'ethnicity', 'gobi', 'accomodate', '2nights', 'go', 'shampain', 'prometazine', 'alwys', 'upgrading', 'showing', 'properly', 'lar', 'thasa', 'sort', 'reppurcussions', 'rtking', 'lecture', 'anjola', 'probthat', 'dearloving', 'dob', 'mid', '1225', 'funky', 'tirunelvai', 'malarky', 'mmmmmm', 'battery', 'jason', 'keepintouch', 'nights', 'avatar', 'thangam', 'aft', 'ip4', 'akonlonely', 'kkany', '3wk', 'matrix3', 'plan', 'type', 'breezy', '3optical', 'wherevr', 'txting', 'misscall', 'haiz', 'box385', 'subject', 'anytime', '09063442151', 'unsub', 'specially', 'lookin', 'tease', 'drove', 'piah', 'blood', 'ffffffffff', 'features', 'havbeen', 'chapel', 'hunting', 'games', 'gossip', 'closingdate040902', 'surfing', 'unknown', 'pansy', 'violence', 'makes', 'lick', 'enc', 'bluetooth', 'decide', 'oncall', 'recorded', 'promotion', '900', 'collected', 'weird', 'flip', 'shortcode', 'jaya', 'easy', '1010', 'vomit', 'vidnot', 'kl341', 'bits', 'gosh', 'refreshed', 'mystery', 'wither', 'goss', 'textpod', '08701417012', 'fantasy', '07786200117', 'urgentbut', 'butt', 'impression', 'walked', 'l8r', 'wadebridgei', 'aaniye', '84128', 'printed', 'entey', 'poking', 'dreams', 'inconvenient', 'dictionary', 'avble', 'springs', 'dirty', 'nattil', '3030', 'fridayhope', 'caveboy', 'impatient', 'problemi', 'flung', '09064017305', 'mumtaz', 'went', 'madam', 'computer', 'sac', 'monthlysubscription', 'cu', 'baaaaaaaabe', '515pm', 'rebooting', 'some', 'say', 'agents', 'world', '8wp', 'fml', '0121', 'burn', 'fridays', '6pm', 'tunde', 'grr', 'u2moro', '1000s', 'roller', 'crash', 'cosign', 'sry', 'ugo', 'okthenwhats', 'php', 'ishtamayoo', 'mb', 'phasing', 'cheek', 'entitled', 'givits', 'chores', 'part', 'sources', 'wwwsmsacuhmmross', 'thesmszonecom', '96', 'texted', 'anywhere', 'claims', 'lovable', 'dear', 'skinny', 'oli', 'advise', 'horrible', 'capacity', 'pouts', 'wwwtxt43com', 'call2optout674', 'explicit', 'mails', 'tohar', 'nitro', 'missionary', 'evo', 'surname', 'thrown', 'hold', 'having', 'mist', 'willpower', 'oxygen', 'carlie', 'jazz', 'samachara', 'ptbo', 'hanumanji', 'thinking', 'minor', 'sptv', 'proof', 'trains', 'oyea', 'yay', '09094646631', '09701213186', '09066368753', 'singing', 'educational', 'textoperator', 'foundurself', 'creativity', 'fight', 'kkhow', 'baby', 'kettoda', 'edukkukayee', '1x150pwk', 'sighs', 'splash', 'action', 'cnn', 'because', 'sex', 'vava', 'manageable', '09058091854', 'worries', 'bennys', 'speling', 'else', '150week', 'sum', 'arun', 'gsex', 'explicitly', '09058094597', '07808247860', 'field', 'deluxe', 'xavier', 'fuck', 'behind', 'goodtime', 'suffer', 'possibility', '02', '8007', 'uks', 'gastroenteritis', 'confirmed', 'anniversary', 'vehicle', 'essential', 'vaazhthukkal', 'mary', 'permanent', 'made', 'ignore', 'soooo', 'countinlots', 'ta', 'jeans', 'xchat', 'mental', '09050001808', 'way', 'clos1', 'gr8prizes', 'jocks', 'craving', 'xxxx', 'msg', 'wc1n3xx', 'out', 'laughing', 'earning', 'an', 'ag', 'deposited', 'tight', 'bob', 'recognise', 'goggles', 'lotz', 'lovejen', 'heron', 'snake', 'wrld', '4rowdy', 'chechi', 'husband', '3uz', '800', 'walmart', 'melt', 'm227xy', 'mums', 'flat', 'yourinclusive', 'senor', 'ideas', 'winnersclub', 'on', 'aww', '7684', 'kills', 'gimmi', 'hunt', 'gei', 'royal', 'robinson', '830', 'dengra', 'ne', 'depressed', 'nobody', 'norm', 'what', 'dino', 'hehe', 'bothering', 'cup', 'tol', 'zac', 'andrewsboy', 'jokin', 'maneesha', 'warner', '730', 'app', 'sounds', 'bak', 'readiness', 'wwwvouch4mecometlpdiningasp', 'iscoming', 'italian', 'recycling', 'wow', 'it', '85023', 'loud', 'search', 'biatch', '863', 'day', 'shifad', 'raglan', 'autocorrect', 'where', 'tron', 'deduct', 'salesman', 'a50', 'shadow', 'coat', 'remains', 'thm', 'sweet', 'txt', 'ldn', 'swalpa', 'optimistic', 'dhina', '4get', '86688', 'jogging', 'barkleys', 'toss', '22', 'calm', 'second', '5wq', 'wheat', 'miss', 'fact', 'weed', 'hesitate', '08712103738', 'ifink', '08715203028', 'lido', 'bud', 'wheellock', 'than', 'bx', 'come', 'dearwith', 'hm', 'scratches', '07821230901', 'choosing', 'responsible', 'mmmmmmm', 'yck', 'shoppin', 'fishrman', 'wasn', 'aiyar', 'goigng', 'woulda', 'never', 'cafe', 'online', 'passion', '21f', 'cupboard', 'pixels', 'ganesh', 'ps3', 'bags', 'din', 'knw', 'missy', 'punishment', '08714712394', 'nosh', 'whassup', 'evn', 'receiving', 'roses', 'unsubscribed', 'attracts', 'ringtoneking', 'cos', 'ar', 'polyph', '8027', 'ron', '2003', 'opportunity', 'gam', 'shove', 'cars', 'street', '0870k', 'onlydon', '46', 'begging', 'concern', 'buttheres', 'nauseous', '14thmarch', 'uncles', 'tat', 'mean', 'am', 'shitinnit', 'thoughts', 'carefully', 'equally', 'fowler', 'father', 'vijaykanth', 'custcare08718720201', 'digi', 'infront', 'dileepthank', 'talents', 'california', 'ouch', '10k', 'famamus', 'couch', 'spk', 'alright', '5min', 'problembut', 'keyword']\n"
          ]
        }
      ]
    },
    {
      "cell_type": "code",
      "source": [
        "# Creating a mapping from unique characters to indices\n",
        "word2idx = {u:i for i, u in enumerate(vocab)}\n",
        "idx2word = np.array(vocab)\n",
        "\n",
        "def catch(func, *args, handle=lambda e : 0, **kwargs):\n",
        "    try:\n",
        "        return func(*args, **kwargs)\n",
        "    except Exception as e:\n",
        "        return handle(e)\n",
        "\n",
        "def text_to_int(text):\n",
        "  return np.array([catch(lambda : word2idx[c]) for c in normalize(text)])\n",
        "\n",
        "text_as_int = text_to_int(['what', 'will', 'we', 'do', 'in', 'the', 'shower', 'baby'])\n",
        "print(text_as_int)"
      ],
      "metadata": {
        "id": "TCGX23ptxPgI",
        "colab": {
          "base_uri": "https://localhost:8080/"
        },
        "outputId": "5c2f6377-ba85-4f9f-87c0-5db96d760d8d"
      },
      "execution_count": 7,
      "outputs": [
        {
          "output_type": "stream",
          "name": "stdout",
          "text": [
            "[7676 2672 1551 7004 1571 5644 7572]\n"
          ]
        }
      ]
    },
    {
      "cell_type": "code",
      "source": [
        "def int_to_text(ints):\n",
        "  try:\n",
        "    ints = ints.numpy()\n",
        "  except:\n",
        "    pass\n",
        "  return ' '.join(idx2word[ints])\n",
        "\n",
        "print(int_to_text(text_as_int))"
      ],
      "metadata": {
        "id": "MRyqqV0Y_xF9",
        "colab": {
          "base_uri": "https://localhost:8080/"
        },
        "outputId": "65cfd47d-11db-4fa0-b220-976212a24091"
      },
      "execution_count": 8,
      "outputs": [
        {
          "output_type": "stream",
          "name": "stdout",
          "text": [
            "what will we in the shower baby\n"
          ]
        }
      ]
    },
    {
      "cell_type": "code",
      "source": [
        "one_hot_encoded_train['text'] = one_hot_encoded_train.apply(lambda row: text_to_int(row['text']), axis=1)\n",
        "one_hot_encoded_test['text'] = one_hot_encoded_test.apply(lambda row: text_to_int(row['text']), axis=1)\n",
        "train_labels = one_hot_encoded_train.pop('type_ham').to_numpy()\n",
        "test_labels = one_hot_encoded_test.pop('type_ham').to_numpy()\n",
        "oone_hot_encoded_train = one_hot_encoded_train.drop('type_spam', axis=1)\n",
        "one_hot_encoded_test = one_hot_encoded_test.drop('type_spam', axis=1)"
      ],
      "metadata": {
        "id": "bqjLDjMmADmC"
      },
      "execution_count": 9,
      "outputs": []
    },
    {
      "cell_type": "code",
      "source": [
        "print(len(train_labels))"
      ],
      "metadata": {
        "id": "XI0PYdO1IX--",
        "colab": {
          "base_uri": "https://localhost:8080/"
        },
        "outputId": "97c17d25-dc31-4842-b3bc-0e4982a601e8"
      },
      "execution_count": 10,
      "outputs": [
        {
          "output_type": "stream",
          "name": "stdout",
          "text": [
            "4179\n"
          ]
        }
      ]
    },
    {
      "cell_type": "code",
      "source": [
        "one_hot_encoded_test.tail()"
      ],
      "metadata": {
        "id": "KUvE13RNwrCE",
        "colab": {
          "base_uri": "https://localhost:8080/",
          "height": 206
        },
        "outputId": "1bc6cb0d-ed43-45ad-e007-6251e8bdf1d7"
      },
      "execution_count": 11,
      "outputs": [
        {
          "output_type": "execute_result",
          "data": {
            "text/html": [
              "\n",
              "  <div id=\"df-27795486-52d2-4fe9-bd49-8043a90b5de0\">\n",
              "    <div class=\"colab-df-container\">\n",
              "      <div>\n",
              "<style scoped>\n",
              "    .dataframe tbody tr th:only-of-type {\n",
              "        vertical-align: middle;\n",
              "    }\n",
              "\n",
              "    .dataframe tbody tr th {\n",
              "        vertical-align: top;\n",
              "    }\n",
              "\n",
              "    .dataframe thead th {\n",
              "        text-align: right;\n",
              "    }\n",
              "</style>\n",
              "<table border=\"1\" class=\"dataframe\">\n",
              "  <thead>\n",
              "    <tr style=\"text-align: right;\">\n",
              "      <th></th>\n",
              "      <th>text</th>\n",
              "    </tr>\n",
              "  </thead>\n",
              "  <tbody>\n",
              "    <tr>\n",
              "      <th>1387</th>\n",
              "      <td>[4405, 0, 1123, 3198, 6708, 2236, 5950, 1774, ...</td>\n",
              "    </tr>\n",
              "    <tr>\n",
              "      <th>1388</th>\n",
              "      <td>[7676, 2672, 1551, 7004, 1571, 5644, 7572]</td>\n",
              "    </tr>\n",
              "    <tr>\n",
              "      <th>1389</th>\n",
              "      <td>[7707, 4711, 1588, 7676, 4711, 1588, 7260, 471...</td>\n",
              "    </tr>\n",
              "    <tr>\n",
              "      <th>1390</th>\n",
              "      <td>[5476, 1357, 3331, 4291, 1761, 215, 3198, 1750...</td>\n",
              "    </tr>\n",
              "    <tr>\n",
              "      <th>1391</th>\n",
              "      <td>[2636, 2380, 2479, 3142, 6863, 5669, 2009, 199...</td>\n",
              "    </tr>\n",
              "  </tbody>\n",
              "</table>\n",
              "</div>\n",
              "      <button class=\"colab-df-convert\" onclick=\"convertToInteractive('df-27795486-52d2-4fe9-bd49-8043a90b5de0')\"\n",
              "              title=\"Convert this dataframe to an interactive table.\"\n",
              "              style=\"display:none;\">\n",
              "        \n",
              "  <svg xmlns=\"http://www.w3.org/2000/svg\" height=\"24px\"viewBox=\"0 0 24 24\"\n",
              "       width=\"24px\">\n",
              "    <path d=\"M0 0h24v24H0V0z\" fill=\"none\"/>\n",
              "    <path d=\"M18.56 5.44l.94 2.06.94-2.06 2.06-.94-2.06-.94-.94-2.06-.94 2.06-2.06.94zm-11 1L8.5 8.5l.94-2.06 2.06-.94-2.06-.94L8.5 2.5l-.94 2.06-2.06.94zm10 10l.94 2.06.94-2.06 2.06-.94-2.06-.94-.94-2.06-.94 2.06-2.06.94z\"/><path d=\"M17.41 7.96l-1.37-1.37c-.4-.4-.92-.59-1.43-.59-.52 0-1.04.2-1.43.59L10.3 9.45l-7.72 7.72c-.78.78-.78 2.05 0 2.83L4 21.41c.39.39.9.59 1.41.59.51 0 1.02-.2 1.41-.59l7.78-7.78 2.81-2.81c.8-.78.8-2.07 0-2.86zM5.41 20L4 18.59l7.72-7.72 1.47 1.35L5.41 20z\"/>\n",
              "  </svg>\n",
              "      </button>\n",
              "      \n",
              "  <style>\n",
              "    .colab-df-container {\n",
              "      display:flex;\n",
              "      flex-wrap:wrap;\n",
              "      gap: 12px;\n",
              "    }\n",
              "\n",
              "    .colab-df-convert {\n",
              "      background-color: #E8F0FE;\n",
              "      border: none;\n",
              "      border-radius: 50%;\n",
              "      cursor: pointer;\n",
              "      display: none;\n",
              "      fill: #1967D2;\n",
              "      height: 32px;\n",
              "      padding: 0 0 0 0;\n",
              "      width: 32px;\n",
              "    }\n",
              "\n",
              "    .colab-df-convert:hover {\n",
              "      background-color: #E2EBFA;\n",
              "      box-shadow: 0px 1px 2px rgba(60, 64, 67, 0.3), 0px 1px 3px 1px rgba(60, 64, 67, 0.15);\n",
              "      fill: #174EA6;\n",
              "    }\n",
              "\n",
              "    [theme=dark] .colab-df-convert {\n",
              "      background-color: #3B4455;\n",
              "      fill: #D2E3FC;\n",
              "    }\n",
              "\n",
              "    [theme=dark] .colab-df-convert:hover {\n",
              "      background-color: #434B5C;\n",
              "      box-shadow: 0px 1px 3px 1px rgba(0, 0, 0, 0.15);\n",
              "      filter: drop-shadow(0px 1px 2px rgba(0, 0, 0, 0.3));\n",
              "      fill: #FFFFFF;\n",
              "    }\n",
              "  </style>\n",
              "\n",
              "      <script>\n",
              "        const buttonEl =\n",
              "          document.querySelector('#df-27795486-52d2-4fe9-bd49-8043a90b5de0 button.colab-df-convert');\n",
              "        buttonEl.style.display =\n",
              "          google.colab.kernel.accessAllowed ? 'block' : 'none';\n",
              "\n",
              "        async function convertToInteractive(key) {\n",
              "          const element = document.querySelector('#df-27795486-52d2-4fe9-bd49-8043a90b5de0');\n",
              "          const dataTable =\n",
              "            await google.colab.kernel.invokeFunction('convertToInteractive',\n",
              "                                                     [key], {});\n",
              "          if (!dataTable) return;\n",
              "\n",
              "          const docLinkHtml = 'Like what you see? Visit the ' +\n",
              "            '<a target=\"_blank\" href=https://colab.research.google.com/notebooks/data_table.ipynb>data table notebook</a>'\n",
              "            + ' to learn more about interactive tables.';\n",
              "          element.innerHTML = '';\n",
              "          dataTable['output_type'] = 'display_data';\n",
              "          await google.colab.output.renderOutput(dataTable, element);\n",
              "          const docLink = document.createElement('div');\n",
              "          docLink.innerHTML = docLinkHtml;\n",
              "          element.appendChild(docLink);\n",
              "        }\n",
              "      </script>\n",
              "    </div>\n",
              "  </div>\n",
              "  "
            ],
            "text/plain": [
              "                                                   text\n",
              "1387  [4405, 0, 1123, 3198, 6708, 2236, 5950, 1774, ...\n",
              "1388         [7676, 2672, 1551, 7004, 1571, 5644, 7572]\n",
              "1389  [7707, 4711, 1588, 7676, 4711, 1588, 7260, 471...\n",
              "1390  [5476, 1357, 3331, 4291, 1761, 215, 3198, 1750...\n",
              "1391  [2636, 2380, 2479, 3142, 6863, 5669, 2009, 199..."
            ]
          },
          "metadata": {},
          "execution_count": 11
        }
      ]
    },
    {
      "cell_type": "code",
      "source": [
        "from keras.preprocessing import sequence\n",
        "VOCAB_SIZE = len(vocab)\n",
        "\n",
        "MAXLEN = 100\n",
        "\n",
        "train_data = sequence.pad_sequences(one_hot_encoded_train['text'].to_numpy(), MAXLEN)\n",
        "test_data = sequence.pad_sequences(one_hot_encoded_test['text'].to_numpy(), MAXLEN)"
      ],
      "metadata": {
        "id": "lPdXREbFKI0j"
      },
      "execution_count": 12,
      "outputs": []
    },
    {
      "cell_type": "code",
      "source": [
        "argu = 1389\n",
        "print(train_data[argu],train_labels[argu])"
      ],
      "metadata": {
        "id": "AWiNJ286L4z9",
        "colab": {
          "base_uri": "https://localhost:8080/"
        },
        "outputId": "c009c1f3-0b03-479f-8007-42d4fd5d30ec"
      },
      "execution_count": 13,
      "outputs": [
        {
          "output_type": "stream",
          "name": "stdout",
          "text": [
            "[   0    0    0    0    0    0    0    0    0    0    0    0    0    0\n",
            "    0    0    0    0    0    0    0    0    0    0    0    0    0    0\n",
            "    0    0    0    0    0    0    0    0    0    0    0    0    0    0\n",
            "    0    0    0    0    0    0    0    0    0    0    0    0    0    0\n",
            "    0    0    0    0    0    0    0    0    0    0    0    0    0    0\n",
            "    0    0    0    0    0    0    0    0    0    0    0    0    0    0\n",
            "    0    0    0    0    0    0    0    0    0    0 5751 2658 2409 1571\n",
            " 6836 2264] 1\n"
          ]
        }
      ]
    },
    {
      "cell_type": "code",
      "source": [
        "model = tf.keras.Sequential([\n",
        "    tf.keras.layers.Embedding(VOCAB_SIZE, 32),\n",
        "    tf.keras.layers.LSTM(32),\n",
        "    tf.keras.layers.Dense(64, activation=\"relu\"),\n",
        "    tf.keras.layers.Dense(1, activation=\"sigmoid\")\n",
        "])\n",
        "model.summary()"
      ],
      "metadata": {
        "id": "FaZDnqldMqfh",
        "colab": {
          "base_uri": "https://localhost:8080/"
        },
        "outputId": "74ba989a-3eda-4a83-9ab9-f4b273353024"
      },
      "execution_count": 14,
      "outputs": [
        {
          "output_type": "stream",
          "name": "stdout",
          "text": [
            "Model: \"sequential\"\n",
            "_________________________________________________________________\n",
            " Layer (type)                Output Shape              Param #   \n",
            "=================================================================\n",
            " embedding (Embedding)       (None, None, 32)          250464    \n",
            "                                                                 \n",
            " lstm (LSTM)                 (None, 32)                8320      \n",
            "                                                                 \n",
            " dense (Dense)               (None, 64)                2112      \n",
            "                                                                 \n",
            " dense_1 (Dense)             (None, 1)                 65        \n",
            "                                                                 \n",
            "=================================================================\n",
            "Total params: 260,961\n",
            "Trainable params: 260,961\n",
            "Non-trainable params: 0\n",
            "_________________________________________________________________\n"
          ]
        }
      ]
    },
    {
      "cell_type": "code",
      "source": [
        "model.compile(loss=\"binary_crossentropy\",optimizer=\"rmsprop\",metrics=['acc'])\n",
        "\n",
        "history = model.fit(train_data, train_labels, epochs=5, validation_split=0.2)"
      ],
      "metadata": {
        "id": "U3rnPhOeM-c8",
        "colab": {
          "base_uri": "https://localhost:8080/"
        },
        "outputId": "8eb49a22-e238-4e8f-fc5e-77beb777a77c"
      },
      "execution_count": 19,
      "outputs": [
        {
          "output_type": "stream",
          "name": "stdout",
          "text": [
            "Epoch 1/5\n",
            "105/105 [==============================] - 10s 56ms/step - loss: 0.0127 - acc: 0.9955 - val_loss: 0.0650 - val_acc: 0.9844\n",
            "Epoch 2/5\n",
            "105/105 [==============================] - 6s 53ms/step - loss: 0.0081 - acc: 0.9985 - val_loss: 0.0926 - val_acc: 0.9809\n",
            "Epoch 3/5\n",
            "105/105 [==============================] - 5s 51ms/step - loss: 0.0069 - acc: 0.9982 - val_loss: 0.0745 - val_acc: 0.9856\n",
            "Epoch 4/5\n",
            "105/105 [==============================] - 5s 51ms/step - loss: 0.0047 - acc: 0.9988 - val_loss: 0.0700 - val_acc: 0.9856\n",
            "Epoch 5/5\n",
            "105/105 [==============================] - 5s 51ms/step - loss: 0.0029 - acc: 0.9991 - val_loss: 0.0823 - val_acc: 0.9844\n"
          ]
        }
      ]
    },
    {
      "cell_type": "code",
      "source": [
        "results = model.evaluate(test_data, test_labels)\n",
        "print(results)"
      ],
      "metadata": {
        "id": "L6gdwv-rNIKv",
        "colab": {
          "base_uri": "https://localhost:8080/"
        },
        "outputId": "150d6651-190c-4fec-9b1f-36db4c7fa2de"
      },
      "execution_count": 20,
      "outputs": [
        {
          "output_type": "stream",
          "name": "stdout",
          "text": [
            "44/44 [==============================] - 1s 11ms/step - loss: 0.0868 - acc: 0.9849\n",
            "[0.0867803543806076, 0.9849137663841248]\n"
          ]
        }
      ]
    },
    {
      "cell_type": "code",
      "execution_count": 21,
      "metadata": {
        "id": "J9tD9yACG6M9",
        "colab": {
          "base_uri": "https://localhost:8080/"
        },
        "outputId": "b4e72288-b982-447c-cb04-565b8c8a3c7f"
      },
      "outputs": [
        {
          "output_type": "stream",
          "name": "stdout",
          "text": [
            "[0.9999988, 'ham']\n"
          ]
        }
      ],
      "source": [
        "# function to predict messages based on model\n",
        "# (should return list containing prediction and label, ex. [0.008318834938108921, 'ham'])\n",
        "def predict_message(pred_text):\n",
        "  tokens = nltk.word_tokenize(pred_text)\n",
        "  text_int = text_to_int(tokens)\n",
        "  text_int = sequence.pad_sequences([text_int], MAXLEN)[0]\n",
        "  pred = np.zeros((1,MAXLEN))\n",
        "  pred[0] = text_int\n",
        "  result = model.predict(pred)\n",
        "  prediction =  result[0][0]\n",
        "  if prediction > 0.5:\n",
        "    out = 'ham'\n",
        "  else:\n",
        "    out = 'spam'\n",
        "\n",
        "  return [prediction, out]\n",
        "\n",
        "pred_text = \"how are you doing today?\"\n",
        "\n",
        "prediction = predict_message(pred_text)\n",
        "print(prediction)"
      ]
    },
    {
      "cell_type": "code",
      "execution_count": 22,
      "metadata": {
        "id": "Dxotov85SjsC",
        "colab": {
          "base_uri": "https://localhost:8080/"
        },
        "outputId": "65b86f19-e9de-40eb-e98f-7472a731f2b2"
      },
      "outputs": [
        {
          "output_type": "stream",
          "name": "stdout",
          "text": [
            "You haven't passed yet. Keep trying.\n"
          ]
        }
      ],
      "source": [
        "# Run this cell to test your function and model. Do not modify contents.\n",
        "def test_predictions():\n",
        "  test_messages = [\"how are you doing today\",\n",
        "                   \"sale today! to stop texts call 98912460324\",\n",
        "                   \"i dont want to go. can we try it a different day? available sat\",\n",
        "                   \"our new mobile video service is live. just install on your phone to start watching.\",\n",
        "                   \"you have won £1000 cash! call to claim your prize.\",\n",
        "                   \"i'll bring it tomorrow. don't forget the milk.\",\n",
        "                   \"wow, is your arm alright. that happened to me one time too\"\n",
        "                  ]\n",
        "\n",
        "  test_answers = [\"ham\", \"spam\", \"ham\", \"spam\", \"spam\", \"ham\", \"ham\"]\n",
        "  passed = True\n",
        "\n",
        "  for msg, ans in zip(test_messages, test_answers):\n",
        "    prediction = predict_message(msg)\n",
        "    if prediction[1] != ans:\n",
        "      passed = False\n",
        "\n",
        "  if passed:\n",
        "    print(\"You passed the challenge. Great job!\")\n",
        "  else:\n",
        "    print(\"You haven't passed yet. Keep trying.\")\n",
        "\n",
        "test_predictions()"
      ]
    }
  ],
  "metadata": {
    "colab": {
      "collapsed_sections": [],
      "name": "fcc_sms_text_classification.ipynb",
      "provenance": [],
      "include_colab_link": true
    },
    "kernelspec": {
      "display_name": "Python 3",
      "name": "python3"
    },
    "language_info": {}
  },
  "nbformat": 4,
  "nbformat_minor": 0
}